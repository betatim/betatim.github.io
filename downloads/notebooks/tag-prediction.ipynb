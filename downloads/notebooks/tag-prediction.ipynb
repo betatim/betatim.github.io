{
 "cells": [
  {
   "cell_type": "markdown",
   "metadata": {},
   "source": [
    "# Document tagging\n",
    "\n",
    "*This notebook first appeared as a [blog post](//betatim.github.io/posts/bumping) on [Tim Head](//betatim.github.io)'s blog.*\n",
    "\n",
    "*License: [MIT](http://opensource.org/licenses/MIT)*\n",
    "\n",
    "*(C) 2016, Tim Head.*\n",
    "*Feel free to use, distribute, and modify with the above attribution.*"
   ]
  },
  {
   "cell_type": "code",
   "execution_count": 2,
   "metadata": {
    "collapsed": true
   },
   "outputs": [],
   "source": [
    "%config InlineBackend.figure_format='retina'\n",
    "%matplotlib inline"
   ]
  },
  {
   "cell_type": "code",
   "execution_count": 3,
   "metadata": {
    "collapsed": false
   },
   "outputs": [],
   "source": [
    "from collections import Counter\n",
    "\n",
    "import numpy as np\n",
    "np.random.seed(3)\n",
    "import matplotlib.pyplot as plt\n",
    "\n",
    "import pandas as pd\n",
    "\n",
    "from sklearn.feature_extraction.text import TfidfVectorizer\n",
    "from sklearn.feature_extraction import DictVectorizer"
   ]
  },
  {
   "cell_type": "code",
   "execution_count": 117,
   "metadata": {
    "collapsed": true
   },
   "outputs": [],
   "source": [
    "fname = '/Users/thead/Downloads/Train.csv'\n",
    "df = pd.read_csv(fname, nrows=100000, index_col='Id', engine='c')"
   ]
  },
  {
   "cell_type": "code",
   "execution_count": null,
   "metadata": {
    "collapsed": false
   },
   "outputs": [],
   "source": [
    "df.head()"
   ]
  },
  {
   "cell_type": "code",
   "execution_count": null,
   "metadata": {
    "collapsed": false
   },
   "outputs": [],
   "source": [
    "df.Tags = df.Tags.map(lambda x: x.split())"
   ]
  },
  {
   "cell_type": "code",
   "execution_count": null,
   "metadata": {
    "collapsed": false
   },
   "outputs": [],
   "source": [
    "def encode_tags(tags, n_tags=40):\n",
    "    tags_ = Counter()\n",
    "    for v in tags:\n",
    "        tags_.update(v)\n",
    "\n",
    "    keys = list(sorted(v[0] for v in tags_.most_common(n_tags)))\n",
    "\n",
    "    encoded = np.zeros((len(tags), n_tags))\n",
    "    for i,row in enumerate(tags):\n",
    "        for tag in row:\n",
    "            if tag in keys:\n",
    "                j = keys.index(tag)\n",
    "                encoded[i, j] = 1\n",
    "                \n",
    "    return encoded\n",
    "    \n",
    "encode_tags(df.Tags[:10])"
   ]
  },
  {
   "cell_type": "code",
   "execution_count": 118,
   "metadata": {
    "collapsed": false
   },
   "outputs": [],
   "source": [
    "from html.parser import HTMLParser\n",
    "\n",
    "class TextExtractor(HTMLParser):\n",
    "    def __init__(self):\n",
    "        super().__init__()\n",
    "        self.in_code = False\n",
    "        self.text = []\n",
    "        \n",
    "    def handle_starttag(self, tag, attrs):\n",
    "        if tag == 'code':\n",
    "            self.in_code = True\n",
    "\n",
    "    def handle_endtag(self, tag):\n",
    "        if tag == 'code':\n",
    "            self.in_code = False\n",
    "\n",
    "    def handle_data(self, data):\n",
    "        if not self.in_code:\n",
    "            self.text.append(data)\n",
    "\n",
    "\n",
    "def clean_body(body):\n",
    "    extractor = TextExtractor()\n",
    "    extractor.feed(body)\n",
    "    return ' '.join(extractor.text)\n",
    "\n",
    "\n",
    "df['CleanBody'] = df.Body.map(clean_body)\n",
    "        \n",
    "tfidf = TfidfVectorizer(stop_words='english')"
   ]
  },
  {
   "cell_type": "code",
   "execution_count": 119,
   "metadata": {
    "collapsed": false
   },
   "outputs": [],
   "source": [
    "df['Text'] = df.apply(lambda x: x.Title +' '+x.CleanBody, axis=1)"
   ]
  },
  {
   "cell_type": "code",
   "execution_count": 120,
   "metadata": {
    "collapsed": false
   },
   "outputs": [
    {
     "data": {
      "text/html": [
       "<div>\n",
       "<table border=\"1\" class=\"dataframe\">\n",
       "  <thead>\n",
       "    <tr style=\"text-align: right;\">\n",
       "      <th></th>\n",
       "      <th>Title</th>\n",
       "      <th>Body</th>\n",
       "      <th>Tags</th>\n",
       "      <th>CleanBody</th>\n",
       "      <th>Text</th>\n",
       "    </tr>\n",
       "    <tr>\n",
       "      <th>Id</th>\n",
       "      <th></th>\n",
       "      <th></th>\n",
       "      <th></th>\n",
       "      <th></th>\n",
       "      <th></th>\n",
       "    </tr>\n",
       "  </thead>\n",
       "  <tbody>\n",
       "    <tr>\n",
       "      <th>1</th>\n",
       "      <td>How to check if an uploaded file is an image w...</td>\n",
       "      <td>&lt;p&gt;I'd like to check if an uploaded file is an...</td>\n",
       "      <td>php image-processing file-upload upload mime-t...</td>\n",
       "      <td>I'd like to check if an uploaded file is an im...</td>\n",
       "      <td>How to check if an uploaded file is an image w...</td>\n",
       "    </tr>\n",
       "    <tr>\n",
       "      <th>2</th>\n",
       "      <td>How can I prevent firefox from closing when I ...</td>\n",
       "      <td>&lt;p&gt;In my favorite editor (vim), I regularly us...</td>\n",
       "      <td>firefox</td>\n",
       "      <td>In my favorite editor (vim), I regularly use c...</td>\n",
       "      <td>How can I prevent firefox from closing when I ...</td>\n",
       "    </tr>\n",
       "    <tr>\n",
       "      <th>3</th>\n",
       "      <td>R Error Invalid type (list) for variable</td>\n",
       "      <td>&lt;p&gt;I am import matlab file and construct a dat...</td>\n",
       "      <td>r matlab machine-learning</td>\n",
       "      <td>I am import matlab file and construct a data f...</td>\n",
       "      <td>R Error Invalid type (list) for variable I am ...</td>\n",
       "    </tr>\n",
       "    <tr>\n",
       "      <th>4</th>\n",
       "      <td>How do I replace special characters in a URL?</td>\n",
       "      <td>&lt;p&gt;This is probably very simple, but I simply ...</td>\n",
       "      <td>c# url encoding</td>\n",
       "      <td>This is probably very simple, but I simply can...</td>\n",
       "      <td>How do I replace special characters in a URL? ...</td>\n",
       "    </tr>\n",
       "    <tr>\n",
       "      <th>5</th>\n",
       "      <td>How to modify whois contact details?</td>\n",
       "      <td>&lt;pre&gt;&lt;code&gt;function modify(.......)\\n{\\n  $mco...</td>\n",
       "      <td>php api file-get-contents</td>\n",
       "      <td>\\n\\n using this modify function, displays warn...</td>\n",
       "      <td>How to modify whois contact details? \\n\\n usin...</td>\n",
       "    </tr>\n",
       "  </tbody>\n",
       "</table>\n",
       "</div>"
      ],
      "text/plain": [
       "                                                Title  \\\n",
       "Id                                                      \n",
       "1   How to check if an uploaded file is an image w...   \n",
       "2   How can I prevent firefox from closing when I ...   \n",
       "3            R Error Invalid type (list) for variable   \n",
       "4       How do I replace special characters in a URL?   \n",
       "5                How to modify whois contact details?   \n",
       "\n",
       "                                                 Body  \\\n",
       "Id                                                      \n",
       "1   <p>I'd like to check if an uploaded file is an...   \n",
       "2   <p>In my favorite editor (vim), I regularly us...   \n",
       "3   <p>I am import matlab file and construct a dat...   \n",
       "4   <p>This is probably very simple, but I simply ...   \n",
       "5   <pre><code>function modify(.......)\\n{\\n  $mco...   \n",
       "\n",
       "                                                 Tags  \\\n",
       "Id                                                      \n",
       "1   php image-processing file-upload upload mime-t...   \n",
       "2                                             firefox   \n",
       "3                           r matlab machine-learning   \n",
       "4                                     c# url encoding   \n",
       "5                           php api file-get-contents   \n",
       "\n",
       "                                            CleanBody  \\\n",
       "Id                                                      \n",
       "1   I'd like to check if an uploaded file is an im...   \n",
       "2   In my favorite editor (vim), I regularly use c...   \n",
       "3   I am import matlab file and construct a data f...   \n",
       "4   This is probably very simple, but I simply can...   \n",
       "5   \\n\\n using this modify function, displays warn...   \n",
       "\n",
       "                                                 Text  \n",
       "Id                                                     \n",
       "1   How to check if an uploaded file is an image w...  \n",
       "2   How can I prevent firefox from closing when I ...  \n",
       "3   R Error Invalid type (list) for variable I am ...  \n",
       "4   How do I replace special characters in a URL? ...  \n",
       "5   How to modify whois contact details? \\n\\n usin...  "
      ]
     },
     "execution_count": 120,
     "metadata": {},
     "output_type": "execute_result"
    }
   ],
   "source": [
    "df.head()"
   ]
  },
  {
   "cell_type": "code",
   "execution_count": null,
   "metadata": {
    "collapsed": false
   },
   "outputs": [],
   "source": [
    "tags = Counter()\n",
    "for v in df.Tags:\n",
    "    tags.update(v)\n",
    "    \n",
    "tags.most_common(40)"
   ]
  },
  {
   "cell_type": "code",
   "execution_count": null,
   "metadata": {
    "collapsed": false
   },
   "outputs": [],
   "source": [
    "len(tags.keys())"
   ]
  },
  {
   "cell_type": "code",
   "execution_count": null,
   "metadata": {
    "collapsed": false
   },
   "outputs": [],
   "source": [
    "plt.hist(df.Tags.apply(len), range=(0,5), bins=5)"
   ]
  },
  {
   "cell_type": "code",
   "execution_count": null,
   "metadata": {
    "collapsed": true
   },
   "outputs": [],
   "source": [
    "df.Tags.apply()"
   ]
  },
  {
   "cell_type": "code",
   "execution_count": null,
   "metadata": {
    "collapsed": true
   },
   "outputs": [],
   "source": []
  },
  {
   "cell_type": "code",
   "execution_count": null,
   "metadata": {
    "collapsed": true
   },
   "outputs": [],
   "source": []
  },
  {
   "cell_type": "code",
   "execution_count": 28,
   "metadata": {
    "collapsed": false
   },
   "outputs": [
    {
     "ename": "ImportError",
     "evalue": "No module named 'pyLDAvis.sklearn'",
     "output_type": "error",
     "traceback": [
      "\u001b[0;31m---------------------------------------------------------------------------\u001b[0m",
      "\u001b[0;31mImportError\u001b[0m                               Traceback (most recent call last)",
      "\u001b[0;32m<ipython-input-28-5bfdb3bc892d>\u001b[0m in \u001b[0;36m<module>\u001b[0;34m()\u001b[0m\n\u001b[1;32m      5\u001b[0m \u001b[0;32mimport\u001b[0m \u001b[0mpyLDAvis\u001b[0m\u001b[0;34m\u001b[0m\u001b[0m\n\u001b[1;32m      6\u001b[0m \u001b[0mpyLDAvis\u001b[0m\u001b[0;34m.\u001b[0m\u001b[0menable_notebook\u001b[0m\u001b[0;34m(\u001b[0m\u001b[0;34m)\u001b[0m\u001b[0;34m\u001b[0m\u001b[0m\n\u001b[0;32m----> 7\u001b[0;31m \u001b[0;32mimport\u001b[0m \u001b[0mpyLDAvis\u001b[0m\u001b[0;34m.\u001b[0m\u001b[0msklearn\u001b[0m\u001b[0;34m\u001b[0m\u001b[0m\n\u001b[0m",
      "\u001b[0;31mImportError\u001b[0m: No module named 'pyLDAvis.sklearn'"
     ]
    }
   ],
   "source": [
    "from sklearn.decomposition import LatentDirichletAllocation\n",
    "from sklearn.feature_extraction.text import CountVectorizer\n",
    "from sklearn.datasets import fetch_20newsgroups\n",
    "\n",
    "import pyLDAvis\n",
    "pyLDAvis.enable_notebook()"
   ]
  },
  {
   "cell_type": "code",
   "execution_count": 106,
   "metadata": {
    "collapsed": true
   },
   "outputs": [],
   "source": [
    "#dataset = fetch_20newsgroups(shuffle=True, random_state=1,\n",
    "#                             remove=('headers', 'footers', 'quotes'))\n",
    "\n",
    "\n",
    "cats = ['talk.religion.misc', 'alt.atheism', 'comp.graphics', 'sci.med', 'sci.space']\n",
    "dataset = fetch_20newsgroups(subset='train', categories=cats,\n",
    "                             shuffle=True, random_state=1,\n",
    "                             remove=('headers', 'footers', 'quotes'))"
   ]
  },
  {
   "cell_type": "code",
   "execution_count": 107,
   "metadata": {
    "collapsed": false
   },
   "outputs": [
    {
     "data": {
      "text/plain": [
       "Counter({0: 480, 1: 584, 2: 594, 3: 593, 4: 377})"
      ]
     },
     "execution_count": 107,
     "metadata": {},
     "output_type": "execute_result"
    }
   ],
   "source": [
    "Counter(dataset.target)"
   ]
  },
  {
   "cell_type": "code",
   "execution_count": 108,
   "metadata": {
    "collapsed": false
   },
   "outputs": [
    {
     "data": {
      "text/plain": [
       "['alt.atheism', 'comp.graphics', 'sci.med', 'sci.space', 'talk.religion.misc']"
      ]
     },
     "execution_count": 108,
     "metadata": {},
     "output_type": "execute_result"
    }
   ],
   "source": [
    "dataset.target_names"
   ]
  },
  {
   "cell_type": "code",
   "execution_count": 125,
   "metadata": {
    "collapsed": true
   },
   "outputs": [],
   "source": [
    "def norm(a):\n",
    "    a = np.asarray(a)\n",
    "    return a/(a.sum(axis=1)[:,np.newaxis])\n",
    "\n",
    "def norm_(a):\n",
    "    a = np.asarray(a)\n",
    "    return a/a.sum()\n",
    "\n",
    "vect = CountVectorizer(stop_words='english', max_df=0.95, min_df=2)\n",
    "lda = LatentDirichletAllocation(n_topics=10)\n",
    "\n",
    "docs = dataset['data']\n",
    "docs = df.Text[:1000]\n",
    "\n",
    "vectorised = vect.fit_transform(docs)\n",
    "doc_topic_prob = lda.fit_transform(vectorised)"
   ]
  },
  {
   "cell_type": "code",
   "execution_count": 126,
   "metadata": {
    "collapsed": false
   },
   "outputs": [
    {
     "name": "stdout",
     "output_type": "stream",
     "text": [
      "Topic #0:\n",
      "xml iphone api object want code application user development rows use exception app using entity\n",
      "Topic #1:\n",
      "javascript jquery use want using like code thread way html page create rails value thanks\n",
      "Topic #2:\n",
      "android page image problem code set file using method type make user facebook text css\n",
      "Topic #3:\n",
      "http php data com array 00 form using like 10 ve number code want string\n",
      "Topic #4:\n",
      "frac infty mathrm tests active session cdot integral int_ dx int_0 pdf question prove integration\n",
      "Topic #5:\n",
      "server database table sql windows using error access client connection id data install tables network\n",
      "Topic #6:\n",
      "java node function org nodes tree hibernate axis parent 1234 case graph attribute prefix length\n",
      "Topic #7:\n",
      "mode report random software crystal mac good restart emacs spanned numbers animation sleep nginx volume\n",
      "Topic #8:\n",
      "files width file swf utf detect scale height makefile segmentation windows repair rotation vista copied\n",
      "Topic #9:\n",
      "like using code use file way application want trying just need error list user following\n",
      "\n"
     ]
    }
   ],
   "source": [
    "def print_top_words(model, feature_names, n_top_words):\n",
    "    for topic_idx, topic in enumerate(model.components_):\n",
    "        print(\"Topic #%d:\" % topic_idx)\n",
    "        print(\" \".join([feature_names[i]\n",
    "                        for i in topic.argsort()[:-n_top_words - 1:-1]]))\n",
    "    print()\n",
    "    \n",
    "print_top_words(lda, vect.get_feature_names(), 15)"
   ]
  },
  {
   "cell_type": "code",
   "execution_count": 123,
   "metadata": {
    "collapsed": false
   },
   "outputs": [],
   "source": [
    "# topic_term_dists, doc_topic_dists, doc_lengths, vocab, term_frequency,\n",
    "opts = dict(vocab=vect.get_feature_names(),\n",
    "            doc_topic_dists=norm(doc_topic_prob),\n",
    "            doc_lengths=np.array((vectorised != 0).sum(1)).squeeze(),\n",
    "            topic_term_dists=norm(lda.components_),\n",
    "            term_frequency=norm_(vectorised.sum(axis=0).tolist()[0]),)"
   ]
  },
  {
   "cell_type": "code",
   "execution_count": 124,
   "metadata": {
    "collapsed": false,
    "scrolled": false
   },
   "outputs": [
    {
     "data": {
      "text/html": [
       "\n",
       "<link rel=\"stylesheet\" type=\"text/css\" href=\"https://cdn.rawgit.com/bmabey/pyLDAvis/files/ldavis.v1.0.0.css\">\n",
       "\n",
       "\n",
       "<div id=\"ldavis_el2172745185426968889748467\"></div>\n",
       "<script type=\"text/javascript\">\n",
       "\n",
       "var ldavis_el2172745185426968889748467_data = {\"mdsDat\": {\"Freq\": [17.826083678174935, 15.141643985533479, 13.769061618318315, 9.886427101436855, 9.63154565829892, 9.302145356630504, 8.952510510384801, 6.065347866312245, 5.205393090944747, 4.219841133965185], \"x\": [-150.10644675767293, 15.005293866254418, 110.91752463790388, 50.12005538716531, -38.22602685310081, -23.867423014689862, -139.36130470873974, 87.10705519699569, 146.73034096228363, -22.153704230217993], \"y\": [-56.424528474967474, -51.35496525221498, -100.6791452703369, 33.32419385457466, 61.05845786484145, 167.02096892127176, 66.96550995330426, 125.71470795657923, 11.797742977085214, -141.73119486815926], \"cluster\": [1, 1, 1, 1, 1, 1, 1, 1, 1, 1], \"topics\": [1, 2, 3, 4, 5, 6, 7, 8, 9, 10]}, \"plot.opts\": {\"ylab\": \"PC2\", \"xlab\": \"PC1\"}, \"tinfo\": {\"Total\": [14.0, 12.0, 16.0, 24.0, 5.0, 15.0, 12.0, 14.0, 6.0, 4.0, 3.0, 3.0, 12.0, 8.0, 5.0, 7.0, 5.0, 8.0, 11.0, 6.0, 4.0, 14.0, 5.0, 13.0, 3.0, 18.0, 3.0, 3.0, 3.0, 4.0, 12.816836317706114, 14.971426755818847, 6.41757262797748, 16.412349367475045, 7.785816873506495, 5.593669243045904, 5.607799891814981, 6.359027085668596, 5.348310819919728, 3.3112364634456775, 4.12724554134649, 5.850708973246088, 2.8194110913896253, 3.177163912785052, 4.2192016997618245, 4.18962203380138, 3.2355302359295592, 2.339031984368674, 5.2802959656540605, 3.2180052454204837, 3.3453961533838297, 2.3246461566355507, 3.2978360344059374, 2.3575579632449175, 2.361584583719645, 2.3846609551361757, 2.3968607244813405, 6.444924357439501, 2.3608842379467174, 2.3962483193151876, 3.4582970864495524, 12.314332153301146, 5.712853821805307, 7.74713035686764, 3.523998792417601, 15.462768886597926, 3.5632470409493973, 18.93234896218212, 5.087832215927047, 24.58426272945857, 6.800079177764186, 20.135131482443995, 5.100850767173845, 7.5319182053157485, 24.517553674740928, 7.6282489204056265, 7.821376538079316, 7.642430690606179, 18.108760992622496, 8.781724498761646, 19.07489365775179, 9.605673339041383, 12.54000514711846, 4.948830927981085, 3.4762960938171656, 4.355799941887629, 4.488190719187945, 3.0136090235447, 3.8538385174025627, 3.908309277004892, 4.114630259875398, 14.248871329727693, 3.437690670452828, 3.4558571344792153, 2.411987968115163, 2.431345765847735, 8.828688807152568, 3.61194180422357, 4.888714467511044, 9.822396415362505, 5.146994734680002, 8.271787442091995, 2.7575438527413603, 2.7723348648572186, 2.818630756179561, 2.8920353394234066, 2.8950543608087327, 2.9191798070673136, 2.8807031899226976, 2.9308674180564136, 2.9160144769174776, 24.517553674740928, 4.300474197081303, 14.109472816008804, 7.178274067708998, 9.585139132914062, 5.712853821805307, 6.029928361136483, 4.462281146920329, 13.885544208886852, 6.677729273844052, 6.800079177764186, 6.9401043338843635, 13.282540751733725, 18.93234896218212, 24.58426272945857, 8.495918114674916, 5.59471796150291, 5.736028286630047, 4.445564405349712, 3.4730081203127647, 5.932731210001732, 4.372903190651605, 3.0085559072565498, 2.991205449912208, 4.30100211386833, 4.486545131242169, 3.4071510091989277, 3.446589486562586, 5.491685306548061, 2.4774087683758714, 2.3754034440956944, 2.4278962481513076, 6.671540877774673, 2.434098634111359, 3.7214034882875273, 2.7276308705743313, 2.797423138473699, 2.782428045863634, 2.919651561878048, 2.869271053369101, 6.633123802867019, 2.937504925468807, 2.9552872951443745, 2.907787091358712, 2.8994559730782745, 2.937865320028831, 2.981623645673757, 4.299252079572512, 7.033989425891496, 6.994959360968217, 4.338000417441302, 4.462281146920329, 4.714054821748101, 18.93234896218212, 4.703083648734892, 9.585139132914062, 19.07489365775179, 20.135131482443995, 13.885544208886852, 11.600150320216667, 8.038632898842131, 4.988545787338245, 18.108760992622496, 24.517553674740928, 12.1979095330449, 24.58426272945857, 5.25278807268231, 7.178274067708998, 4.589688415676651, 3.1782316104034045, 2.7233189347303677, 2.786003369767154, 5.918795898556679, 7.088726637740136, 2.365506683862144, 2.31743456456929, 3.5026662266835684, 4.547493931942296, 4.536692012465221, 4.772028151350279, 3.6155886076370662, 2.579317239134467, 3.6094864130457136, 2.6667953684402583, 8.439861329915322, 2.651256860856243, 2.634602576194301, 2.753310452036875, 2.6356637726840506, 2.7567733228590923, 2.8280364784486105, 2.8430478792764857, 2.7418212511334596, 2.875432561910416, 4.116493895320389, 5.146994734680002, 4.2074954872128325, 3.2543802566807885, 6.677729273844052, 7.017445010853838, 24.517553674740928, 5.063583142064769, 24.58426272945857, 19.07489365775179, 16.412349367475045, 10.780522155546041, 6.209762372853825, 5.935781424765896, 14.109472816008804, 14.248871329727693, 13.282540751733725, 20.135131482443995, 5.428076911677894, 5.027291102266422, 5.093313937892473, 2.745140907171908, 2.3096162404346985, 4.235204820336753, 3.3443094890397598, 3.37396270006382, 2.362271517203685, 6.561991291147796, 2.6688372013763555, 2.7505400662566832, 2.7777581194110974, 2.739500865071929, 5.163481655546659, 2.813640762248986, 4.104233144963652, 4.135361120660532, 2.978202977110053, 3.1456851855359576, 3.171653709658412, 5.990291163815787, 3.1851268106108246, 3.2543802566807885, 3.2485440066014406, 3.412561240469853, 3.318999797558587, 6.1902448312522385, 6.177956375708391, 3.3175978399310844, 6.454912379798765, 6.6298463448470475, 13.282540751733725, 8.644105228896509, 6.229431186636217, 24.58426272945857, 9.605673339041383, 12.1979095330449, 12.314332153301146, 18.108760992622496, 18.93234896218212, 14.971426755818847, 3.679524162399778, 5.59471796150291, 4.259978259521697, 4.40232888630564, 3.9926082598661896, 3.1636511096756346, 3.1404947846880407, 4.0802451013748655, 2.2652421438554855, 5.53509500734313, 3.5574233974786322, 2.6147121360510344, 2.6381362079361916, 3.717791490038466, 3.8264364638051966, 6.337254566977517, 2.699020165850139, 2.788683752874849, 2.7913356890718077, 4.183181061773201, 2.8610732733364017, 2.9912763416496393, 5.6885186374190715, 3.076560687662821, 3.1456851855359576, 8.644105228896509, 3.260815444350658, 6.229431186636217, 3.490549376369882, 3.6402484209746895, 3.586157908397473, 5.013958977096902, 5.286026418580654, 7.642430690606179, 11.375079358828335, 18.108760992622496, 19.07489365775179, 20.135131482443995, 12.1979095330449, 5.736269963670683, 5.736028286630047, 6.021182099821861, 24.58426272945857, 10.780522155546041, 12.54000514711846, 13.282540751733725, 6.9401043338843635, 8.781724498761646, 12.314332153301146, 18.93234896218212, 3.9742536316931036, 2.6633999508006854, 2.7228596741303996, 2.7637030795754414, 3.102846981075151, 2.282150539942496, 3.5865831961768695, 3.5559584712921843, 8.038632898842131, 2.7409353213623358, 2.764109008601726, 4.092396121442205, 2.821564841405001, 5.536103353422623, 3.247651807492196, 3.2753850436423098, 4.6946623996499905, 11.600150320216667, 3.490549376369882, 3.679524162399778, 2.1497117928328824, 5.176808065664949, 3.7314130375141517, 2.237007227161749, 3.7637812592687543, 7.017445010853838, 2.163791427336521, 2.2180709413414217, 7.088726637740136, 2.2634848058804473, 5.596100144991846, 5.811385718700267, 4.033079956510577, 3.730014953535033, 9.822396415362505, 8.495918114674916, 20.135131482443995, 18.108760992622496, 15.462768886597926, 11.375079358828335, 12.1979095330449, 5.935781424765896, 19.07489365775179, 24.58426272945857, 12.314332153301146, 18.93234896218212, 8.271787442091995, 5.849695203928919, 3.6773015940629894, 2.4515483525120945, 4.033079956510577, 2.911990689980081, 2.966563536366181, 2.1942543714350773, 3.400461891273668, 2.4001431544396, 2.625620487450122, 2.685416177310072, 3.8401651985816554, 5.03147272304823, 3.0550984592192694, 5.6885186374190715, 3.079742630789829, 3.189330813006802, 3.523998792417601, 15.462768886597926, 3.7214034882875273, 5.491685306548061, 2.245805005155523, 2.2634848058804473, 2.1854852968651066, 2.2180709413414217, 2.2437568581181977, 2.291676331011171, 2.2759531155269306, 2.2385535124091986, 2.290671268716468, 6.091016634039862, 4.101584980617624, 6.561991291147796, 4.486545131242169, 14.109472816008804, 7.5319182053157485, 8.439861329915322, 13.885544208886852, 10.780522155546041, 19.07489365775179, 24.58426272945857, 6.1902448312522385, 8.271787442091995, 3.4862850537575554, 3.822277727519912, 2.432649051650522, 2.5799546097236394, 3.7996673391540448, 5.536103353422623, 3.1857244910235027, 4.7469789676030025, 3.7865601702314575, 2.180124115230627, 2.237007227161749, 2.1902790383550825, 2.183701433027716, 2.248163190263281, 3.8264364638051966, 2.1861772581529326, 2.2189271479884174, 2.163791427336521, 3.9400660547051087, 2.2831742428344306, 3.95493256437736, 2.3264512516318967, 2.2943579082681613, 2.332245704459034, 2.297919513362975, 2.279118015800974, 2.2803669341801105, 2.2904039967902183, 2.2744929775659735, 4.114630259875398, 4.366105309448862, 4.259978259521697, 4.264417029789103, 6.574570761599101, 12.1979095330449, 5.2802959656540605, 5.59471796150291, 7.371033962579503, 14.248871329727693, 7.6282489204056265, 8.038632898842131, 8.828688807152568, 24.58426272945857, 11.375079358828335, 18.108760992622496, 3.045893496939949, 3.08966977031537, 3.2707232279222467, 3.082237682331316, 4.764742948456346, 3.2833795512334474, 2.4012933335839928, 2.5672654947597078, 2.8828569185351904, 2.9088468072345726, 6.177956375708391, 2.168710204798594, 2.1497117928328824, 2.1609893761903587, 2.159984550093825, 2.249025522334035, 2.193460080180031, 2.19090642271602, 2.186200993947452, 2.4001431544396, 2.527860186684576, 2.6653218430614674, 6.209762372853825, 2.558642824534434, 2.579317239134467, 2.4989561316043982, 2.583778247926238, 2.634602576194301, 2.6726340198425973, 2.7398875089061723, 2.6688372013763555, 2.7276308705743313, 5.148602661134368, 5.53509500734313, 6.18887759404628, 6.677729273844052, 6.574570761599101, 18.93234896218212, 6.6298463448470475, 24.517553674740928, 24.58426272945857, 13.885544208886852, 7.642430690606179, 8.781724498761646, 11.600150320216667, 13.282540751733725, 14.248871329727693, 14.109472816008804, 20.135131482443995, 5.243278072002652], \"loglift\": [30.0, 29.0, 28.0, 27.0, 26.0, 25.0, 24.0, 23.0, 22.0, 21.0, 20.0, 19.0, 18.0, 17.0, 16.0, 15.0, 14.0, 13.0, 12.0, 11.0, 10.0, 9.0, 8.0, 7.0, 6.0, 5.0, 4.0, 3.0, 2.0, 1.0, 1.5523, 1.4721, 1.4051, 1.3925, 1.3892, 1.3359, 1.3268, 1.3069, 1.2427, 1.2194, 1.1927, 1.1714, 1.1108, 0.9971, 0.9791, 0.9757, 0.9755, 0.9634, 0.9634, 0.9627, 0.9588, 0.9448, 0.939, 0.9354, 0.9352, 0.9338, 0.9328, 0.9297, 0.9244, 0.9211, 0.9107, 0.8517, 0.8767, 0.7767, 0.8771, 0.6191, 0.8625, 0.5195, 0.7862, 0.3952, 0.7053, 0.2775, 0.7719, 0.6017, 0.069, 0.5901, 0.5658, 0.5756, 0.0395, 0.4389, -0.1598, 0.3414, 1.4722, 1.4581, 1.4235, 1.4073, 1.3765, 1.3276, 1.3238, 1.3238, 1.2682, 1.2107, 1.1766, 1.1702, 1.1664, 1.1652, 1.147, 1.1286, 1.0897, 1.0663, 1.0481, 1.0471, 1.0333, 1.0326, 1.02, 1.0032, 0.993, 0.9916, 0.9879, 0.9776, 0.9736, 0.9645, 0.9594, 0.8925, 0.9152, 0.8823, 0.924, 0.8744, 0.9173, 0.5724, 0.7826, 0.7606, 0.7332, 0.0807, -0.2143, -0.5058, 0.3197, 0.7008, 0.6759, 1.6585, 1.5345, 1.5164, 1.5122, 1.4285, 1.4245, 1.305, 1.2824, 1.2804, 1.2787, 1.2699, 1.2576, 1.2575, 1.2524, 1.2455, 1.2387, 1.2023, 1.1442, 1.1341, 1.1226, 1.0986, 1.0959, 1.0879, 1.0853, 1.0771, 1.0757, 1.0704, 1.0599, 1.0567, 1.0515, 1.0302, 1.0284, 1.0381, 1.0216, 0.967, 0.6016, 0.954, 0.7237, 0.466, 0.4149, 0.5179, 0.546, 0.7033, 0.9122, 0.2627, -0.0468, 0.2629, -0.4223, 0.8706, 0.5451, 1.8174, 1.8041, 1.6988, 1.6809, 1.5164, 1.5062, 1.4902, 1.4873, 1.4562, 1.4538, 1.4378, 1.401, 1.3989, 1.3831, 1.3759, 1.3719, 1.3501, 1.3387, 1.3253, 1.3215, 1.3194, 1.3191, 1.2974, 1.2972, 1.2958, 1.295, 1.28, 1.2761, 1.2382, 1.1835, 1.0521, 1.0085, 0.5222, 1.0898, 0.2748, 0.388, 0.3744, 0.5825, 0.8472, 0.8454, 0.0531, 0.039, 0.0951, -0.2996, 1.8421, 1.7705, 1.76, 1.736, 1.5526, 1.5505, 1.5438, 1.5404, 1.5283, 1.491, 1.4217, 1.3851, 1.3837, 1.36, 1.3525, 1.352, 1.3403, 1.3309, 1.2943, 1.2497, 1.2417, 1.2271, 1.226, 1.2216, 1.2135, 1.1992, 1.1899, 1.1848, 1.1755, 1.1566, 1.1499, 1.0986, 0.788, 0.8599, 0.92, 0.01, 0.4978, 0.2643, 0.2511, -0.1359, -0.2034, -0.0675, 1.1031, 0.6879, 1.7384, 1.6903, 1.5905, 1.5733, 1.5695, 1.5517, 1.5316, 1.4544, 1.4159, 1.4117, 1.3816, 1.3669, 1.3597, 1.3402, 1.329, 1.3264, 1.311, 1.2977, 1.2785, 1.2751, 1.2344, 1.2315, 1.1919, 1.1839, 1.1826, 1.1442, 1.1025, 1.0853, 1.0838, 1.0811, 1.0349, 0.9546, 0.7508, 0.5952, 0.554, 0.4998, 0.6692, 0.947, 0.9463, 0.901, 0.1279, 0.5778, 0.4381, 0.3843, 0.7708, 0.5389, 0.2109, -0.2326, 2.0247, 1.7817, 1.775, 1.744, 1.6276, 1.5675, 1.4864, 1.4805, 1.4693, 1.418, 1.3983, 1.3485, 1.3401, 1.3063, 1.2373, 1.2207, 1.2172, 1.213, 1.1744, 1.112, 1.1058, 1.0997, 1.0852, 1.0759, 1.0745, 1.0718, 1.0633, 1.0541, 1.0535, 1.0534, 1.0491, 1.0071, 1.0134, 1.0191, 0.8984, 0.8622, 0.5542, 0.4992, 0.5101, 0.6023, 0.5216, 0.8491, 0.1136, -0.1949, 0.2766, -0.2696, 0.4001, 2.3258, 2.1341, 2.0612, 2.0392, 1.9014, 1.8475, 1.8147, 1.7362, 1.6982, 1.666, 1.6317, 1.6218, 1.6037, 1.4875, 1.4808, 1.4803, 1.4356, 1.3538, 1.3346, 1.3106, 1.2933, 1.2577, 1.2521, 1.2517, 1.2516, 1.2487, 1.2448, 1.2433, 1.2419, 1.2403, 1.1587, 1.1911, 1.0752, 1.1192, 0.782, 0.94, 0.8362, 0.5925, 0.5785, -0.0266, -0.2499, 0.8097, 0.4925, 2.4821, 2.0115, 1.827, 1.8014, 1.7405, 1.641, 1.5759, 1.5371, 1.4644, 1.417, 1.4085, 1.4079, 1.3923, 1.3853, 1.3839, 1.3818, 1.3769, 1.3713, 1.367, 1.364, 1.3621, 1.3569, 1.3504, 1.3478, 1.3476, 1.3462, 1.3426, 1.3424, 1.3197, 1.3038, 1.2788, 1.2785, 1.2693, 1.2056, 1.0552, 1.0635, 1.0136, 0.7675, 0.4227, 0.7069, 0.655, 0.5439, -0.1121, 0.2996, -0.1636, 1.1558, 1.106, 2.588, 2.2787, 2.0472, 1.956, 1.901, 1.857, 1.7124, 1.7047, 1.5749, 1.4878, 1.475, 1.4719, 1.445, 1.4319, 1.4276, 1.4205, 1.4187, 1.3566, 1.326, 1.3216, 1.3114, 1.3059, 1.301, 1.2971, 1.2729, 1.2722, 1.2385, 1.2366, 1.235, 1.2232, 1.1588, 1.0681, 0.9375, 0.9016, 0.8987, 0.4567, 0.8681, 0.2485, 0.2316, 0.5029, 0.7873, 0.6063, 0.3418, 0.1922, 0.1383, 0.1263, -0.2357, 0.5986], \"Term\": [\"http\", \"www\", \"com\", \"file\", \"query\", \"server\", \"user\", \"application\", \"javascript\", \"property\", \"json\", \"unit\", \"following\", \"run\", \"firefox\", \"image\", \"rows\", \"type\", \"create\", \"page\", \"client\", \"data\", \"values\", \"need\", \"sources\", \"code\", \"modify\", \"size\", \"ctrl\", \"controller\", \"www\", \"http\", \"jpg\", \"com\", \"load\", \"line\", \"mysql\", \"txt\", \"process\", \"developer\", \"sort\", \"entity\", \"failed\", \"generated\", \"looking\", \"apache\", \"model\", \"giving\", \"web\", \"traffic\", \"feed\", \"ip\", \"ll\", \"level\", \"world\", \"js\", \"guys\", \"java\", \"email\", \"huge\", \"warning\", \"ve\", \"play\", \"app\", \"document\", \"server\", \"10\", \"code\", \"database\", \"using\", \"xml\", \"like\", \"download\", \"time\", \"file\", \"help\", \"thanks\", \"library\", \"use\", \"trying\", \"way\", \"just\", \"user\", \"machine\", \"xaml\", \"specific\", \"profile\", \"containing\", \"compiler\", \"read\", \"current\", \"application\", \"bundles\", \"reference\", \"needed\", \"proof\", \"make\", \"valid\", \"open\", \"files\", \"correct\", \"does\", \"datacontext\", \"align\", \"os\", \"main\", \"apps\", \"python\", \"iphone\", \"applications\", \"mark\", \"file\", \"structure\", \"data\", \"directory\", \"work\", \"play\", \"example\", \"mean\", \"need\", \"control\", \"xml\", \"right\", \"want\", \"code\", \"using\", \"know\", \"object\", \"case\", \"safari\", \"jsfiddle\", \"string\", \"matlab\", \"wrong\", \"existing\", \"days\", \"variables\", \"hash\", \"node\", \"array\", \"assistance\", \"integer\", \"outputs\", \"day\", \"reasons\", \"wondering\", \"greatly\", \"actually\", \"came\", \"sql\", \"suggestions\", \"variable\", \"seen\", \"strings\", \"bigger\", \"instance\", \"daily\", \"converts\", \"approach\", \"php\", \"set\", \"thinking\", \"mean\", \"instead\", \"code\", \"inside\", \"work\", \"way\", \"like\", \"need\", \"create\", \"run\", \"fine\", \"use\", \"file\", \"following\", \"using\", \"try\", \"directory\", \"random\", \"mathbb\", \"lim_\", \"checking\", \"css\", \"image\", \"frac\", \"gives\", \"check\", \"good\", \"question\", \"number\", \"going\", \"thank\", \"mvc\", \"ge\", \"type\", \"response\", \"images\", \"needs\", \"specify\", \"let\", \"course\", \"multi\", \"ui\", \"direction\", \"uploaded\", \"correct\", \"folder\", \"leq\", \"control\", \"solution\", \"file\", \"method\", \"using\", \"way\", \"com\", \"problem\", \"net\", \"path\", \"data\", \"application\", \"want\", \"like\", \"rows\", \"username\", \"form\", \"session\", \"submit\", \"html\", \"making\", \"twitter\", \"contain\", \"page\", \"progress\", \"related\", \"adult\", \"en\", \"simple\", \"big\", \"cut\", \"handle\", \"null\", \"length\", \"comes\", \"link\", \"gets\", \"leq\", \"little\", \"tag\", \"api\", \"value\", \"javascript\", \"objects\", \"exception\", \"add\", \"want\", \"class\", \"added\", \"using\", \"just\", \"following\", \"ve\", \"use\", \"code\", \"http\", \"returning\", \"object\", \"controller\", \"service\", \"left\", \"people\", \"friends\", \"row\", \"header\", \"able\", \"key\", \"allow\", \"rules\", \"view\", \"errors\", \"windows\", \"fields\", \"cell\", \"viewmodel\", \"list\", \"proper\", \"stop\", \"values\", \"wpf\", \"length\", \"class\", \"static\", \"added\", \"causes\", \"achieve\", \"working\", \"table\", \"url\", \"library\", \"error\", \"use\", \"way\", \"like\", \"following\", \"works\", \"case\", \"best\", \"using\", \"problem\", \"user\", \"want\", \"right\", \"trying\", \"ve\", \"code\", \"ctrl\", \"press\", \"options\", \"ssh\", \"block\", \"connecting\", \"look\", \"created\", \"run\", \"couldn\", \"plugins\", \"phone\", \"program\", \"firefox\", \"window\", \"option\", \"studio\", \"create\", \"causes\", \"returning\", \"elegant\", \"change\", \"internet\", \"article\", \"installed\", \"solution\", \"action\", \"beginning\", \"image\", \"source\", \"visual\", \"jquery\", \"client\", \"uses\", \"files\", \"know\", \"like\", \"use\", \"server\", \"error\", \"following\", \"path\", \"way\", \"using\", \"ve\", \"code\", \"does\", \"query\", \"sources\", \"false\", \"client\", \"event\", \"sent\", \"field\", \"microsoft\", \"avoid\", \"automatically\", \"component\", \"column\", \"search\", \"print\", \"values\", \"later\", \"missing\", \"document\", \"server\", \"wondering\", \"array\", \"come\", \"source\", \"algorithm\", \"beginning\", \"group\", \"constant\", \"yes\", \"defined\", \"reason\", \"really\", \"custom\", \"page\", \"variables\", \"data\", \"time\", \"type\", \"need\", \"problem\", \"way\", \"using\", \"value\", \"does\", \"unit\", \"modify\", \"network\", \"resolve\", \"test\", \"firefox\", \"issues\", \"running\", \"content\", \"bundle\", \"article\", \"width\", \"shared\", \"took\", \"errors\", \"registration\", \"configuration\", \"action\", \"tab\", \"update\", \"testing\", \"kept\", \"tabs\", \"support\", \"ones\", \"exactly\", \"registered\", \"displays\", \"older\", \"current\", \"used\", \"controller\", \"version\", \"sure\", \"following\", \"web\", \"object\", \"don\", \"application\", \"help\", \"run\", \"make\", \"using\", \"error\", \"use\", \"browser\", \"asp\", \"json\", \"size\", \"property\", \"controls\", \"iis\", \"parameter\", \"report\", \"guess\", \"javascript\", \"sets\", \"elegant\", \"recommend\", \"statements\", \"binding\", \"catch\", \"imagine\", \"turned\", \"avoid\", \"multiple\", \"ideas\", \"net\", \"libraries\", \"thank\", \"information\", \"adding\", \"images\", \"functions\", \"environment\", \"progress\", \"greatly\", \"default\", \"able\", \"function\", \"control\", \"sure\", \"code\", \"add\", \"file\", \"using\", \"need\", \"library\", \"trying\", \"create\", \"want\", \"application\", \"data\", \"like\", \"appreciated\"], \"Freq\": [14.0, 12.0, 16.0, 24.0, 5.0, 15.0, 12.0, 14.0, 6.0, 4.0, 3.0, 3.0, 12.0, 8.0, 5.0, 7.0, 5.0, 8.0, 11.0, 6.0, 4.0, 14.0, 5.0, 13.0, 3.0, 18.0, 3.0, 3.0, 3.0, 4.0, 10.789788049981826, 11.631298821799966, 4.663081775954901, 11.775012415019512, 5.567972425249621, 3.7926198365261103, 3.767617480693949, 4.188037601162357, 3.3033215157186073, 1.998078882570298, 2.4248186133209146, 3.365201287575967, 1.5261926765943215, 1.5350047620554184, 2.002108164692172, 1.9814845514302961, 1.5298780344267637, 1.0926800317424699, 2.4666313604937598, 1.5021733876774728, 1.5556959265458554, 1.0658956469757623, 1.5034218556020245, 1.070974309096187, 1.0725885543653149, 1.0815411940980852, 1.085935244453294, 2.911051956752271, 1.0606880848886764, 1.073005738156037, 1.5325749443286159, 5.144852817060179, 2.447170470671083, 3.0028565752029226, 1.5101054654123431, 5.119344796510562, 1.5047410941111694, 5.6738388109030184, 1.9907868584429937, 6.506523438313895, 2.4540789602049045, 4.737206928819935, 1.9675428964512325, 2.4506385068485894, 4.682918284347736, 2.453281309639394, 2.455170011870614, 2.4225399479628673, 3.3580434380105944, 2.428078450255484, 2.898143002809645, 2.409192175319317, 8.275963506476879, 3.220508230827602, 2.1853796140878385, 2.694051229887548, 2.6917391907289603, 1.721147596447225, 2.192812861228666, 2.223667156431414, 2.2145109849820837, 7.240031957306033, 1.6882789008276629, 1.686267323047281, 1.1724442442488532, 1.1804847207460865, 4.209128670003099, 1.6906554568660057, 2.2008846678053375, 4.320077420825382, 2.222832205000335, 3.568966955110347, 1.1734207247205852, 1.1788850466283687, 1.1835777246638923, 1.194099195123286, 1.1832665039802974, 1.1915041273335636, 1.1713809548929122, 1.1796094265460242, 1.1689447887549014, 9.738923317357843, 1.6995704594407692, 5.215519156663304, 2.7141750680547947, 3.507246331622332, 2.179181746752407, 2.1890251903119258, 1.6909001344335417, 3.7266143496073574, 2.2114352219464735, 2.202958120293433, 2.187529756167883, 2.1801387842749764, 2.313629875366492, 2.2447384607788545, 1.770970807759643, 1.7073328494847475, 1.7073973130984503, 3.2143604536114734, 2.218308939725344, 3.7217241537422794, 2.731626672446755, 1.7284898191309999, 1.711569864292375, 2.183974054263117, 2.227207774076922, 1.6879877587019165, 1.7046199211567596, 2.6922636053577267, 1.1996387719101527, 1.1501510523420087, 1.169614988901152, 3.191975320776067, 1.1566030434749008, 1.7052078759245886, 1.1792098390921546, 1.1972254893650562, 1.1772931258897565, 1.2059812547839717, 1.1819876444619069, 2.710777922537284, 1.197301554530651, 1.1948013961308899, 1.173965631978069, 1.164309484062889, 1.1674219010792561, 1.1810875227246205, 1.6942001154843258, 2.713290463659012, 2.6934633332313593, 1.6866099115634952, 1.7066355510709117, 1.707090491293835, 4.757294345858993, 1.6810759034520493, 2.7214267635734073, 4.185417275799516, 4.198000538879638, 3.2092109408140996, 2.7573629403733055, 2.2363782291658234, 1.7101325646126984, 3.2426724656395276, 3.2214521402507295, 2.184515417218605, 2.219049852227457, 1.7273511757123718, 1.7047359973387992, 2.793185945850673, 1.9086038162288814, 1.4720350572624001, 1.4792507580362142, 2.665768361812288, 3.1602646899447655, 1.0379354125491926, 1.013803415830485, 1.4855204613132802, 1.923912233494351, 1.8889427808878836, 1.9150259400802605, 1.447883986456181, 1.0167908029088037, 1.4126470094815406, 1.039537662113176, 3.218873721783565, 0.999689360651359, 0.9802613251452437, 1.0205363792422841, 0.9748657202820098, 1.019329986198182, 1.0232547720752971, 1.0285169072855023, 0.9904182991102126, 1.037941569099574, 1.4637644586443117, 1.8230935636629164, 1.4348324166562325, 1.050769002621755, 1.8904795971043085, 1.9020116913288718, 4.086106925615313, 1.4886709111078922, 3.1992245141026325, 2.779636677254508, 2.3593989775960007, 1.9083908728793277, 1.4323567982435885, 1.3666697875308615, 1.4710197236126896, 1.4646685570659825, 1.4441792960190425, 1.475314612151331, 3.298817299237986, 2.8440284494925714, 2.8514146550573396, 1.500298123859208, 1.0508003688006335, 1.92284540194811, 1.5082953446128233, 1.5164969622456728, 1.0489757960476052, 2.807052162257788, 1.065226580859202, 1.0584226613229546, 1.0673497487503032, 1.028036545975188, 1.9231817236531217, 1.047463367177873, 1.5101809970229443, 1.507319098334797, 1.0465099143997905, 1.0571974532460973, 1.057406175500817, 1.9682101096993005, 1.0454124626621701, 1.0633557951490413, 1.0529249267687357, 1.0904240652803088, 1.0506985773381547, 1.9496100178054807, 1.927741911119598, 1.0158187445657312, 1.9633235621968306, 1.915696428526296, 2.8132260753772695, 1.967368116343927, 1.5055062549166056, 2.39167367528404, 1.522068321990566, 1.5301902153646674, 1.5246300144672458, 1.5225201046711374, 1.48782100669857, 1.3478337009805261, 1.0679151395636655, 1.0720417057059057, 2.2540820645338813, 2.220044676502343, 1.822167089474168, 1.4192342369313664, 1.4035476369332367, 1.7913682982304346, 0.9746754008435814, 2.2047195651337637, 1.3634091578167755, 0.9978856605475791, 0.9769811096494517, 1.3568035076139155, 1.386395021823056, 2.251731212263422, 0.9483698056956992, 0.9773395397765706, 0.9633334714812699, 1.4245277935168503, 0.9557690422422507, 0.9958918239480903, 1.8183191775912124, 0.9806155574710546, 0.9636484766925129, 2.6270999393470733, 0.9897153186306442, 1.8195398724798753, 0.9778699985838484, 1.0024603994422088, 0.9860092360202637, 1.3749462485595836, 1.3840758330737168, 1.8466825877267974, 2.2419279818995337, 3.054736652580053, 3.0876257781682592, 3.0875896035028436, 2.2156153616630885, 1.3756275980004142, 1.374616960119702, 1.379029089234822, 2.59880435475509, 1.787196781009102, 1.8078439706175127, 1.8145850011971716, 1.3954024488160903, 1.400184663196222, 1.4144415041720408, 1.3955842051049128, 2.694725405762015, 1.4163587759649592, 1.4383489988897697, 1.4153581719094657, 1.4143155662317044, 0.9796130114137475, 1.4196053433450702, 1.399154317979346, 3.127788948305226, 1.0131625057757536, 1.0017821832981058, 1.411143197292161, 0.9648264328590498, 1.830083131454501, 1.0020009941499417, 0.9939508585890346, 1.4195672578925185, 3.492949666963354, 1.0113078112674403, 1.0015204473058161, 0.5815283601219274, 1.3918850527725224, 0.9887695034789028, 0.5873387889909952, 0.9867598805969622, 1.8348134519737083, 0.5609917961072662, 0.569808263994624, 1.8198261397069415, 0.5810647261493784, 1.4304033187816205, 1.4242340084215472, 0.9946980254874559, 0.9252195648163007, 2.1593089771772984, 1.8014240559864947, 3.1375883400367015, 2.670815618823327, 2.3055229998583857, 1.8597880889312668, 1.8398127355271685, 1.2421814817103025, 1.9131087999816114, 1.8111162098962523, 1.4537452200579308, 1.2943609635292128, 1.104811574460099, 3.6314581641601174, 1.8845843742598263, 1.1680407597480917, 1.8797206455487243, 1.182546005558277, 1.1414575636119393, 0.817086398335908, 1.170598691927623, 0.7954192731604129, 0.8426188485202014, 0.8326998570730424, 1.1790664446490557, 1.5171632012715752, 0.8201804400804908, 1.5169439048582052, 0.8208168472259885, 0.8129201632849672, 0.8276025775355307, 3.5623216098498944, 0.8370488300100049, 1.2140968106505345, 0.4791212226654862, 0.4802038378351908, 0.46346056152303394, 0.4702982211179108, 0.47439533267248546, 0.48264636218645923, 0.47860938897619615, 0.4700640624873389, 0.48025700946391764, 1.1769763528080672, 0.8186727885752572, 1.1663348764981636, 0.8333320004136732, 1.8705881831853635, 1.1694667573563848, 1.181241202502519, 1.5231576150949138, 1.1660843024485652, 1.1265444972014234, 1.1614321503397078, 0.8437355236322315, 0.8209924209436278, 2.1716569755078923, 1.4871938467381396, 0.7870032414047804, 0.8135618131938771, 1.1273755416818534, 1.487044803934018, 0.8017986960431726, 1.149237114906672, 0.8524728771606542, 0.4680819675269654, 0.47621762400952405, 0.4660294307112653, 0.4574000953222561, 0.4676398963786895, 0.7948412552676525, 0.4531384874268391, 0.45769016756469255, 0.4438244405432182, 0.8047354223501166, 0.46493054127295763, 0.8037568646653416, 0.47037707725571803, 0.46089269857308873, 0.46726753847928437, 0.4603190774695201, 0.4559028947505446, 0.4545202912531539, 0.4564057678062996, 0.44307153282192885, 0.788893850693684, 0.8164299024190554, 0.7963413271031834, 0.7898510612992483, 1.1425843251621552, 1.8240056803342648, 0.7961071581694665, 0.8024731134698941, 0.8266307635887465, 1.1318958224682985, 0.8051710295565929, 0.8055343823208752, 0.7917033577185666, 1.1439745448892702, 0.7989614437854612, 0.8003502984203924, 0.5036669009207513, 0.4860581584364903, 1.8360331627331863, 1.2699786465899285, 1.5574084480453059, 0.9797365290404784, 0.6781776634281417, 0.6938087923380953, 0.6742274032148523, 0.6750889498273821, 1.259249057074894, 0.40518457291916626, 0.39651819316952597, 0.39737535820089875, 0.38664941441779016, 0.3973488861605107, 0.3858386197163146, 0.3826963031083701, 0.38115992784138625, 0.3932769995847002, 0.40172647677324674, 0.4217069415636503, 0.9725182324813286, 0.3985240187754801, 0.3997618340630686, 0.38582447340910375, 0.38937361703495876, 0.39674743186550054, 0.38915239448131383, 0.39818976403635237, 0.38722311436733015, 0.3911326100026751, 0.6921967819224479, 0.6796499679137605, 0.6669291391240877, 0.6942101246317226, 0.6814645125067589, 1.2614052425157054, 0.6665048020236335, 1.326434483017234, 1.307725528871372, 0.9688562151398394, 0.7087080256916081, 0.6795299385030973, 0.6889550269926131, 0.6792951409405055, 0.6904716800218701, 0.6755753745380639, 0.6712288764888287, 0.40260892416202676], \"logprob\": [30.0, 29.0, 28.0, 27.0, 26.0, 25.0, 24.0, 23.0, 22.0, 21.0, 20.0, 19.0, 18.0, 17.0, 16.0, 15.0, 14.0, 13.0, 12.0, 11.0, 10.0, 9.0, 8.0, 7.0, 6.0, 5.0, 4.0, 3.0, 2.0, 1.0, -3.6026, -3.5275, -4.4415, -3.5152, -4.2642, -4.6481, -4.6548, -4.549, -4.7863, -5.289, -5.0954, -4.7677, -5.5584, -5.5527, -5.287, -5.2974, -5.556, -5.8926, -5.0784, -5.5743, -5.5393, -5.9174, -5.5735, -5.9126, -5.9111, -5.9028, -5.8988, -4.9127, -5.9223, -5.9107, -5.5543, -4.3432, -5.0863, -4.8816, -5.569, -4.3482, -5.5726, -4.2453, -5.2927, -4.1084, -5.0835, -4.4258, -5.3044, -5.0849, -4.4373, -5.0838, -5.083, -5.0964, -4.7698, -5.0941, -4.9171, -5.1019, -3.7046, -4.6485, -5.0362, -4.8269, -4.8278, -5.275, -5.0328, -5.0188, -5.023, -3.8384, -5.2943, -5.2955, -5.6589, -5.6521, -4.3807, -5.2929, -5.0291, -4.3547, -5.0192, -4.5457, -5.6581, -5.6534, -5.6494, -5.6406, -5.6497, -5.6428, -5.6598, -5.6528, -5.6619, -3.5419, -5.2876, -4.1664, -4.8195, -4.5632, -5.039, -5.0345, -5.2927, -4.5025, -5.0243, -5.0282, -5.0352, -5.0386, -4.9792, -5.0094, -5.2465, -5.2831, -5.283, -4.5553, -4.9262, -4.4088, -4.7181, -5.1757, -5.1856, -4.9418, -4.9222, -5.1994, -5.1896, -4.7326, -5.5409, -5.5831, -5.5663, -4.5623, -5.5775, -5.1893, -5.5581, -5.543, -5.5597, -5.5357, -5.5558, -4.7257, -5.5429, -5.545, -5.5626, -5.5708, -5.5682, -5.5565, -5.1958, -4.7248, -4.7321, -5.2002, -5.1884, -5.1882, -4.1633, -5.2035, -4.7218, -4.2914, -4.2884, -4.5569, -4.7087, -4.9181, -5.1864, -4.5466, -4.5531, -4.9416, -4.9259, -5.1764, -5.1896, -4.3645, -4.7453, -5.0051, -5.0002, -4.4112, -4.241, -5.3545, -5.378, -4.9959, -4.7373, -4.7557, -4.742, -5.0216, -5.3751, -5.0462, -5.3529, -4.2227, -5.392, -5.4116, -5.3714, -5.4172, -5.3726, -5.3687, -5.3636, -5.4013, -5.3545, -5.0107, -4.7912, -5.0307, -5.3422, -4.7549, -4.7488, -3.9841, -4.9938, -4.2288, -4.3694, -4.5333, -4.7454, -5.0324, -5.0793, -5.0057, -5.0101, -5.0242, -5.0028, -4.172, -4.3204, -4.3178, -4.9599, -5.316, -4.7118, -4.9546, -4.9492, -5.3178, -4.3335, -5.3024, -5.3088, -5.3004, -5.3379, -4.7116, -5.3192, -4.9534, -4.9553, -5.3201, -5.31, -5.3098, -4.6885, -5.3212, -5.3042, -5.314, -5.279, -5.3161, -4.698, -4.7092, -5.3499, -4.6909, -4.7155, -4.3313, -4.6889, -4.9565, -4.4936, -4.9455, -4.9402, -4.9438, -4.9452, -4.9683, -5.0671, -5.2999, -5.296, -4.518, -4.5333, -4.7308, -4.9807, -4.9918, -4.7478, -5.3564, -4.5402, -5.0208, -5.3329, -5.3541, -5.0257, -5.0041, -4.5191, -5.3838, -5.3537, -5.3681, -4.9769, -5.376, -5.3349, -4.7329, -5.3504, -5.3678, -4.3649, -5.3411, -4.7322, -5.3532, -5.3283, -5.3449, -5.0124, -5.0058, -4.7174, -4.5235, -4.2141, -4.2034, -4.2034, -4.5353, -5.0119, -5.0126, -5.0094, -4.3757, -4.7501, -4.7387, -4.7349, -4.9976, -4.9942, -4.9841, -4.9975, -4.3012, -4.9444, -4.929, -4.9451, -4.9458, -5.3131, -4.9421, -4.9566, -4.1522, -5.2794, -5.2907, -4.9481, -5.3283, -4.6881, -5.2905, -5.2985, -4.9421, -4.0417, -5.2812, -5.291, -5.8346, -4.9618, -5.3038, -5.8246, -5.3058, -4.6855, -5.8705, -5.8549, -4.6937, -5.8354, -4.9345, -4.9388, -5.2978, -5.3702, -4.5227, -4.7039, -4.149, -4.3101, -4.4572, -4.672, -4.6828, -5.0756, -4.6437, -4.6985, -4.9183, -5.0345, -5.1928, -3.6135, -4.2694, -4.7478, -4.272, -4.7355, -4.7708, -5.1051, -4.7456, -5.132, -5.0744, -5.0862, -4.7384, -4.4863, -5.1014, -4.4864, -5.1006, -5.1103, -5.0924, -3.6327, -5.081, -4.7091, -5.6389, -5.6367, -5.6722, -5.6575, -5.6488, -5.6316, -5.64, -5.658, -5.6366, -4.7402, -5.1032, -4.7493, -5.0855, -4.2769, -4.7466, -4.7366, -4.4823, -4.7495, -4.784, -4.7535, -5.0731, -5.1004, -3.9747, -4.3533, -4.9898, -4.9566, -4.6303, -4.3534, -4.9711, -4.6111, -4.9099, -5.5093, -5.4921, -5.5137, -5.5324, -5.5103, -4.9799, -5.5418, -5.5318, -5.5626, -4.9675, -5.5161, -4.9687, -5.5045, -5.5248, -5.5111, -5.5261, -5.5357, -5.5388, -5.5346, -5.5643, -4.9874, -4.9531, -4.978, -4.9861, -4.6169, -4.1492, -4.9783, -4.9703, -4.9406, -4.6263, -4.9669, -4.9665, -4.9838, -4.6157, -4.9747, -4.9729, -5.4361, -5.4717, -3.9327, -4.3013, -4.0973, -4.5608, -4.9287, -4.9059, -4.9345, -4.9333, -4.3098, -5.4438, -5.4654, -5.4632, -5.4906, -5.4633, -5.4927, -5.5009, -5.5049, -5.4736, -5.4523, -5.4038, -4.5682, -5.4603, -5.4572, -5.4927, -5.4836, -5.4648, -5.4841, -5.4612, -5.4891, -5.479, -4.9082, -4.9265, -4.9454, -4.9053, -4.9239, -4.3081, -4.946, -4.2578, -4.2721, -4.572, -4.8847, -4.9267, -4.9129, -4.927, -4.9107, -4.9325, -4.939, -5.4501], \"Category\": [\"Default\", \"Default\", \"Default\", \"Default\", \"Default\", \"Default\", \"Default\", \"Default\", \"Default\", \"Default\", \"Default\", \"Default\", \"Default\", \"Default\", \"Default\", \"Default\", \"Default\", \"Default\", \"Default\", \"Default\", \"Default\", \"Default\", \"Default\", \"Default\", \"Default\", \"Default\", \"Default\", \"Default\", \"Default\", \"Default\", \"Topic1\", \"Topic1\", \"Topic1\", \"Topic1\", \"Topic1\", \"Topic1\", \"Topic1\", \"Topic1\", \"Topic1\", \"Topic1\", \"Topic1\", \"Topic1\", \"Topic1\", \"Topic1\", \"Topic1\", \"Topic1\", \"Topic1\", \"Topic1\", \"Topic1\", \"Topic1\", \"Topic1\", \"Topic1\", \"Topic1\", \"Topic1\", \"Topic1\", \"Topic1\", \"Topic1\", \"Topic1\", \"Topic1\", \"Topic1\", \"Topic1\", \"Topic1\", \"Topic1\", \"Topic1\", \"Topic1\", \"Topic1\", \"Topic1\", \"Topic1\", \"Topic1\", \"Topic1\", \"Topic1\", \"Topic1\", \"Topic1\", \"Topic1\", \"Topic1\", \"Topic1\", \"Topic1\", \"Topic1\", \"Topic1\", \"Topic1\", \"Topic1\", \"Topic1\", \"Topic2\", \"Topic2\", \"Topic2\", \"Topic2\", \"Topic2\", \"Topic2\", \"Topic2\", \"Topic2\", \"Topic2\", \"Topic2\", \"Topic2\", \"Topic2\", \"Topic2\", \"Topic2\", \"Topic2\", \"Topic2\", \"Topic2\", \"Topic2\", \"Topic2\", \"Topic2\", \"Topic2\", \"Topic2\", \"Topic2\", \"Topic2\", \"Topic2\", \"Topic2\", \"Topic2\", \"Topic2\", \"Topic2\", \"Topic2\", \"Topic2\", \"Topic2\", \"Topic2\", \"Topic2\", \"Topic2\", \"Topic2\", \"Topic2\", \"Topic2\", \"Topic2\", \"Topic2\", \"Topic2\", \"Topic2\", \"Topic2\", \"Topic2\", \"Topic2\", \"Topic2\", \"Topic2\", \"Topic3\", \"Topic3\", \"Topic3\", \"Topic3\", \"Topic3\", \"Topic3\", \"Topic3\", \"Topic3\", \"Topic3\", \"Topic3\", \"Topic3\", \"Topic3\", \"Topic3\", \"Topic3\", \"Topic3\", \"Topic3\", \"Topic3\", \"Topic3\", \"Topic3\", \"Topic3\", \"Topic3\", \"Topic3\", \"Topic3\", \"Topic3\", \"Topic3\", \"Topic3\", \"Topic3\", \"Topic3\", \"Topic3\", \"Topic3\", \"Topic3\", \"Topic3\", \"Topic3\", \"Topic3\", \"Topic3\", \"Topic3\", \"Topic3\", \"Topic3\", \"Topic3\", \"Topic3\", \"Topic3\", \"Topic3\", \"Topic3\", \"Topic3\", \"Topic3\", \"Topic3\", \"Topic3\", \"Topic3\", \"Topic3\", \"Topic3\", \"Topic4\", \"Topic4\", \"Topic4\", \"Topic4\", \"Topic4\", \"Topic4\", \"Topic4\", \"Topic4\", \"Topic4\", \"Topic4\", \"Topic4\", \"Topic4\", \"Topic4\", \"Topic4\", \"Topic4\", \"Topic4\", \"Topic4\", \"Topic4\", \"Topic4\", \"Topic4\", \"Topic4\", \"Topic4\", \"Topic4\", \"Topic4\", \"Topic4\", \"Topic4\", \"Topic4\", \"Topic4\", \"Topic4\", \"Topic4\", \"Topic4\", \"Topic4\", \"Topic4\", \"Topic4\", \"Topic4\", \"Topic4\", \"Topic4\", \"Topic4\", \"Topic4\", \"Topic4\", \"Topic4\", \"Topic4\", \"Topic4\", \"Topic4\", \"Topic5\", \"Topic5\", \"Topic5\", \"Topic5\", \"Topic5\", \"Topic5\", \"Topic5\", \"Topic5\", \"Topic5\", \"Topic5\", \"Topic5\", \"Topic5\", \"Topic5\", \"Topic5\", \"Topic5\", \"Topic5\", \"Topic5\", \"Topic5\", \"Topic5\", \"Topic5\", \"Topic5\", \"Topic5\", \"Topic5\", \"Topic5\", \"Topic5\", \"Topic5\", \"Topic5\", \"Topic5\", \"Topic5\", \"Topic5\", \"Topic5\", \"Topic5\", \"Topic5\", \"Topic5\", \"Topic5\", \"Topic5\", \"Topic5\", \"Topic5\", \"Topic5\", \"Topic5\", \"Topic5\", \"Topic5\", \"Topic5\", \"Topic5\", \"Topic6\", \"Topic6\", \"Topic6\", \"Topic6\", \"Topic6\", \"Topic6\", \"Topic6\", \"Topic6\", \"Topic6\", \"Topic6\", \"Topic6\", \"Topic6\", \"Topic6\", \"Topic6\", \"Topic6\", \"Topic6\", \"Topic6\", \"Topic6\", \"Topic6\", \"Topic6\", \"Topic6\", \"Topic6\", \"Topic6\", \"Topic6\", \"Topic6\", \"Topic6\", \"Topic6\", \"Topic6\", \"Topic6\", \"Topic6\", \"Topic6\", \"Topic6\", \"Topic6\", \"Topic6\", \"Topic6\", \"Topic6\", \"Topic6\", \"Topic6\", \"Topic6\", \"Topic6\", \"Topic6\", \"Topic6\", \"Topic6\", \"Topic6\", \"Topic6\", \"Topic6\", \"Topic6\", \"Topic6\", \"Topic7\", \"Topic7\", \"Topic7\", \"Topic7\", \"Topic7\", \"Topic7\", \"Topic7\", \"Topic7\", \"Topic7\", \"Topic7\", \"Topic7\", \"Topic7\", \"Topic7\", \"Topic7\", \"Topic7\", \"Topic7\", \"Topic7\", \"Topic7\", \"Topic7\", \"Topic7\", \"Topic7\", \"Topic7\", \"Topic7\", \"Topic7\", \"Topic7\", \"Topic7\", \"Topic7\", \"Topic7\", \"Topic7\", \"Topic7\", \"Topic7\", \"Topic7\", \"Topic7\", \"Topic7\", \"Topic7\", \"Topic7\", \"Topic7\", \"Topic7\", \"Topic7\", \"Topic7\", \"Topic7\", \"Topic7\", \"Topic7\", \"Topic7\", \"Topic7\", \"Topic7\", \"Topic7\", \"Topic8\", \"Topic8\", \"Topic8\", \"Topic8\", \"Topic8\", \"Topic8\", \"Topic8\", \"Topic8\", \"Topic8\", \"Topic8\", \"Topic8\", \"Topic8\", \"Topic8\", \"Topic8\", \"Topic8\", \"Topic8\", \"Topic8\", \"Topic8\", \"Topic8\", \"Topic8\", \"Topic8\", \"Topic8\", \"Topic8\", \"Topic8\", \"Topic8\", \"Topic8\", \"Topic8\", \"Topic8\", \"Topic8\", \"Topic8\", \"Topic8\", \"Topic8\", \"Topic8\", \"Topic8\", \"Topic8\", \"Topic8\", \"Topic8\", \"Topic8\", \"Topic8\", \"Topic8\", \"Topic8\", \"Topic8\", \"Topic8\", \"Topic9\", \"Topic9\", \"Topic9\", \"Topic9\", \"Topic9\", \"Topic9\", \"Topic9\", \"Topic9\", \"Topic9\", \"Topic9\", \"Topic9\", \"Topic9\", \"Topic9\", \"Topic9\", \"Topic9\", \"Topic9\", \"Topic9\", \"Topic9\", \"Topic9\", \"Topic9\", \"Topic9\", \"Topic9\", \"Topic9\", \"Topic9\", \"Topic9\", \"Topic9\", \"Topic9\", \"Topic9\", \"Topic9\", \"Topic9\", \"Topic9\", \"Topic9\", \"Topic9\", \"Topic9\", \"Topic9\", \"Topic9\", \"Topic9\", \"Topic9\", \"Topic9\", \"Topic9\", \"Topic9\", \"Topic9\", \"Topic9\", \"Topic9\", \"Topic9\", \"Topic9\", \"Topic9\", \"Topic10\", \"Topic10\", \"Topic10\", \"Topic10\", \"Topic10\", \"Topic10\", \"Topic10\", \"Topic10\", \"Topic10\", \"Topic10\", \"Topic10\", \"Topic10\", \"Topic10\", \"Topic10\", \"Topic10\", \"Topic10\", \"Topic10\", \"Topic10\", \"Topic10\", \"Topic10\", \"Topic10\", \"Topic10\", \"Topic10\", \"Topic10\", \"Topic10\", \"Topic10\", \"Topic10\", \"Topic10\", \"Topic10\", \"Topic10\", \"Topic10\", \"Topic10\", \"Topic10\", \"Topic10\", \"Topic10\", \"Topic10\", \"Topic10\", \"Topic10\", \"Topic10\", \"Topic10\", \"Topic10\", \"Topic10\", \"Topic10\", \"Topic10\", \"Topic10\", \"Topic10\", \"Topic10\", \"Topic10\"]}, \"lambda.step\": 0.01, \"topic.order\": [8, 10, 3, 2, 1, 7, 4, 9, 6, 5], \"token.table\": {\"Freq\": [0.5612858095483374, 0.2806429047741687, 0.18066537226070206, 0.18066537226070206, 0.18066537226070206, 0.3613307445214041, 0.18066537226070206, 0.274706526685958, 0.274706526685958, 0.274706526685958, 0.46215175241309253, 0.35747184122656883, 0.15083305826193627, 0.15083305826193627, 0.15083305826193627, 0.30166611652387254, 0.15083305826193627, 0.1605283002636365, 0.1605283002636365, 0.321056600527273, 0.321056600527273, 0.38703011793005393, 0.3600025477423522, 0.3600025477423522, 0.4575642771124634, 0.3607067864262141, 0.3824512787515826, 0.47737003096323105, 0.23868501548161553, 0.30129558933254136, 0.30129558933254136, 0.38724016013756296, 0.12908005337918765, 0.12908005337918765, 0.12908005337918765, 0.12908005337918765, 0.49126698094295834, 0.14036199455513096, 0.07018099727756548, 0.07018099727756548, 0.07018099727756548, 0.07018099727756548, 0.07018099727756548, 0.3411959182592926, 0.3411959182592926, 0.19072038260561935, 0.3814407652112387, 0.19072038260561935, 0.19072038260561935, 0.23259859656785536, 0.46519719313571073, 0.23259859656785536, 0.23259859656785536, 0.34541665729573734, 0.34541665729573734, 0.18209346387850026, 0.5462803916355008, 0.18209346387850026, 0.44702582443990196, 0.323659185071396, 0.323659185071396, 0.4036475581926577, 0.3808623541672439, 0.3808623541672439, 0.41664181494769464, 0.4508422076866624, 0.16608034492588847, 0.16608034492588847, 0.16608034492588847, 0.16608034492588847, 0.16608034492588847, 0.16608034492588847, 0.3554113991441767, 0.3554113991441767, 0.3439041334806715, 0.3439041334806715, 0.4446370172634598, 0.3222846650508996, 0.3222846650508996, 0.3283108884157138, 0.3283108884157138, 0.3283108884157138, 0.4586894814904673, 0.5817859114521642, 0.2908929557260821, 0.3593983325055262, 0.17433665770632145, 0.3486733154126429, 0.17433665770632145, 0.17433665770632145, 0.45590070639349123, 0.2864878539664105, 0.2864878539664105, 0.3585921132036223, 0.3585921132036223, 0.19316922461013672, 0.19316922461013672, 0.19316922461013672, 0.19316922461013672, 0.28549680023232776, 0.28549680023232776, 0.3589371107198543, 0.11568577354392738, 0.23137154708785476, 0.11568577354392738, 0.23137154708785476, 0.34705732063178213, 0.2479494606561682, 0.4958989213123364, 0.31691788546604344, 0.10563929515534781, 0.26409823788836956, 0.052819647577673906, 0.052819647577673906, 0.052819647577673906, 0.052819647577673906, 0.520810927805577, 0.2604054639027885, 0.7311567485749992, 0.06092972904791661, 0.12185945809583322, 0.06092972904791661, 0.4452746332403643, 0.3152929328175932, 0.3152929328175932, 0.3152929328175932, 0.5189631041800823, 0.25948155209004115, 0.37238175909168764, 0.37238175909168764, 0.4506682433925586, 0.43818318839965625, 0.4363617961524102, 0.42332136366091394, 0.6636560961871352, 0.2640919343792902, 0.2640919343792902, 0.2640919343792902, 0.2995030073821329, 0.2995030073821329, 0.14975150369106646, 0.14975150369106646, 0.4694859640491585, 0.23474298202457924, 0.3045642407148257, 0.3045642407148257, 0.33538773461599314, 0.33538773461599314, 0.3885762669474236, 0.3885762669474236, 0.3648389628920418, 0.3648389628920418, 0.3536022281256339, 0.3536022281256339, 0.08620577944211692, 0.17241155888423385, 0.25861733832635075, 0.08620577944211692, 0.08620577944211692, 0.25861733832635075, 0.08620577944211692, 0.2812181323469209, 0.2812181323469209, 0.2812181323469209, 0.16895328325882192, 0.16895328325882192, 0.16895328325882192, 0.5068598497764657, 0.7548587176410143, 0.48607040576728894, 0.24303520288364447, 0.24380818749960853, 0.24380818749960853, 0.24380818749960853, 0.24380818749960853, 0.24365087573719113, 0.48730175147438226, 0.24365087573719113, 0.3403832004083109, 0.3403832004083109, 0.07087437022206713, 0.35437185111033564, 0.07087437022206713, 0.07087437022206713, 0.07087437022206713, 0.07087437022206713, 0.14174874044413427, 0.07087437022206713, 0.39309472386671124, 0.19654736193335562, 0.19654736193335562, 0.3626415583584895, 0.14989041037451534, 0.449671231123546, 0.14989041037451534, 0.23250395454946612, 0.46500790909893225, 0.23250395454946612, 0.19422745661629182, 0.19422745661629182, 0.19422745661629182, 0.19422745661629182, 0.19422745661629182, 0.44671704047126837, 0.604003979202016, 0.34777376219722833, 0.34777376219722833, 0.13930925325050425, 0.41792775975151275, 0.2786185065010085, 0.13930925325050425, 0.43660419794997046, 0.567537084377921, 0.2837685421889605, 0.12089285502083608, 0.4835714200833443, 0.12089285502083608, 0.12089285502083608, 0.12089285502083608, 0.12089285502083608, 0.2713323544774575, 0.13566617723872876, 0.13566617723872876, 0.13566617723872876, 0.13566617723872876, 0.13566617723872876, 0.13566617723872876, 0.3920914551883884, 0.1960457275941942, 0.1960457275941942, 0.4651786361939261, 0.4235701115399496, 0.3650299997162964, 0.3650299997162964, 0.5127583706040229, 0.17091945686800764, 0.3649784878939149, 0.3649784878939149, 0.08791147458886851, 0.08791147458886851, 0.17582294917773703, 0.08791147458886851, 0.08791147458886851, 0.17582294917773703, 0.17582294917773703, 0.08791147458886851, 0.2613397633696891, 0.2613397633696891, 0.2613397633696891, 0.34340769132295557, 0.34340769132295557, 0.43876622143612853, 0.16583944951072788, 0.33167889902145575, 0.16583944951072788, 0.16583944951072788, 0.309841541189495, 0.309841541189495, 0.309841541189495, 0.6686267571686526, 0.7093679974899454, 0.40790547695104723, 0.5978365216857869, 0.29891826084289347, 0.45573567632725465, 0.37050482714160066, 0.37050482714160066, 0.2039355176430682, 0.4078710352861364, 0.12236131058584092, 0.16314841411445455, 0.04078710352861364, 0.04078710352861364, 0.1018081492247627, 0.4072325968990508, 0.1018081492247627, 0.1018081492247627, 0.2036162984495254, 0.20045922050834244, 0.4009184410166849, 0.20045922050834244, 0.18063246586279194, 0.3612649317255839, 0.18063246586279194, 0.23767108082210425, 0.23767108082210425, 0.23767108082210425, 0.081981260583294, 0.081981260583294, 0.163962521166588, 0.163962521166588, 0.163962521166588, 0.163962521166588, 0.163962521166588, 0.1963358261819186, 0.5890074785457559, 0.42274241151891734, 0.3184211624472844, 0.3184211624472844, 0.16158018716705647, 0.16158018716705647, 0.32316037433411293, 0.16158018716705647, 0.16158018716705647, 0.16158018716705647, 0.374162714601266, 0.374162714601266, 0.3749819021865464, 0.3749819021865464, 0.6294922310907249, 0.31474611554536247, 0.3139592422721235, 0.3139592422721235, 0.3139592422721235, 0.43151164450930524, 0.4275272876484026, 0.2765801390920801, 0.2765801390920801, 0.2765801390920801, 0.21990133796019964, 0.4398026759203993, 0.21990133796019964, 0.3666185226116903, 0.44568108901010056, 0.34377884648751766, 0.34377884648751766, 0.417212393605553, 0.24181685004580017, 0.24181685004580017, 0.48363370009160034, 0.24181685004580017, 0.5870006919564831, 0.29350034597824154, 0.44145390933703044, 0.26218336880040505, 0.13109168440020252, 0.26218336880040505, 0.13109168440020252, 0.13109168440020252, 0.23611608940331894, 0.23611608940331894, 0.47223217880663787, 0.8015268147597248, 0.06679390122997707, 0.06679390122997707, 0.41731901987761655, 0.37518921124038457, 0.37518921124038457, 0.4164422505215029, 0.4164422505215029, 0.1410690595227688, 0.4232071785683064, 0.2821381190455376, 0.3795638890798118, 0.4564320911343723, 0.400167088710746, 0.21262645419223947, 0.42525290838447893, 0.21262645419223947, 0.21262645419223947, 0.26569025432532306, 0.26569025432532306, 0.26569025432532306, 0.3448922864444556, 0.3448922864444556, 0.21213160173414627, 0.42426320346829255, 0.21213160173414627, 0.21213160173414627, 0.4209811190118467, 0.26799499008723915, 0.26799499008723915, 0.26799499008723915, 0.43017299520856767, 0.3471374640394086, 0.3471374640394086, 0.3139003397242058, 0.3139003397242058, 0.3139003397242058, 0.4654825772372397, 0.1551608590790799, 0.1551608590790799, 0.32373164819744643, 0.32373164819744643, 0.16186582409872322, 0.7791107775239573, 0.15582215550479145, 0.1720759984631777, 0.1720759984631777, 0.1720759984631777, 0.1720759984631777, 0.4193468249002698, 0.575869658438889, 0.6114855524692366, 0.20821028671370517, 0.20821028671370517, 0.10410514335685259, 0.10410514335685259, 0.20821028671370517, 0.10410514335685259, 0.10410514335685259, 0.42983922370973676, 0.2811023283618032, 0.2811023283618032, 0.23540716530040698, 0.23540716530040698, 0.11770358265020349, 0.11770358265020349, 0.11770358265020349, 0.23540716530040698, 0.32470245727758773, 0.32470245727758773, 0.32470245727758773, 0.2504628390548675, 0.500925678109735, 0.317895765475216, 0.317895765475216, 0.30727816700188604, 0.30727816700188604, 0.3627429182182032, 0.3627429182182032, 0.42416772592246715, 0.39083219838703287, 0.2616968450179513, 0.13084842250897566, 0.2616968450179513, 0.13084842250897566, 0.13084842250897566, 0.2483221926988431, 0.04966443853976862, 0.19865775415907447, 0.04966443853976862, 0.04966443853976862, 0.14899331561930584, 0.14899331561930584, 0.04966443853976862, 0.3671990038504281, 0.7150941226946577, 0.17877353067366442, 0.16693679366379993, 0.16693679366379993, 0.16693679366379993, 0.33387358732759986, 0.16693679366379993, 0.23905252611181785, 0.23905252611181785, 0.23905252611181785, 0.23905252611181785, 0.3078302150033606, 0.3078302150033606, 0.3078302150033606, 0.6064582893552724, 0.3032291446776362, 0.7706320476682086, 0.1284386746113681, 0.1284386746113681, 0.2788168976718436, 0.2788168976718436, 0.2788168976718436, 0.47402332059946334, 0.23701166029973167, 0.23701166029973167, 0.6062037769441184, 0.20206792564803946, 0.34577724081316824, 0.34577724081316824, 0.11326710249316402, 0.45306840997265607, 0.11326710249316402, 0.11326710249316402, 0.11326710249316402, 0.11326710249316402, 0.299015388162274, 0.598030776324548, 0.34293382557452223, 0.34293382557452223, 0.6292807589772054, 0.2286810286900018, 0.6860430860700054, 0.4482012527113654, 0.4482012527113654, 0.39497722144332426, 0.19748861072166213, 0.19748861072166213, 0.19748861072166213, 0.29407769649359095, 0.29407769649359095, 0.29407769649359095, 0.3135453982765843, 0.3135453982765843, 0.6181367053197713, 0.30906835265988564, 0.2616241077408184, 0.2616241077408184, 0.35173519492555483, 0.35173519492555483, 0.39559149879707295, 0.27704772523473553, 0.27704772523473553, 0.713292213910541, 0.17832305347763525, 0.14403468599523706, 0.2880693719904741, 0.21605202899285558, 0.07201734299761853, 0.07201734299761853, 0.07201734299761853, 0.14403468599523706, 0.07201734299761853, 0.41459576632193795, 0.36319914423751554, 0.36319914423751554, 0.3220735158470901, 0.16103675792354505, 0.16103675792354505, 0.16103675792354505, 0.16103675792354505, 0.41107450304905774, 0.5802837871459637, 0.29014189357298187, 0.3357729502273099, 0.2095545056072318, 0.4191090112144636, 0.2095545056072318, 0.2095545056072318, 0.35748003988081994, 0.17874001994040997, 0.17874001994040997, 0.17874001994040997, 0.30142291147041883, 0.30142291147041883, 0.43965842491636986, 0.43517625146779537, 0.2045527523944598, 0.4091055047889196, 0.2045527523944598, 0.30530761625753017, 0.30530761625753017, 0.30530761625753017, 0.3672609387479251, 0.3547821926684089, 0.411879214674613, 0.15239276549315325, 0.15239276549315325, 0.4571782964794598, 0.15239276549315325, 0.3895195109509305, 0.3895195109509305, 0.1684698152508942, 0.1684698152508942, 0.1684698152508942, 0.1684698152508942, 0.3160904806922685, 0.3160904806922685, 0.48871124413420136, 0.24435562206710068, 0.28433366599019555, 0.4265004989852933, 0.14216683299509777, 0.14216683299509777, 0.3500877253967587, 0.3500877253967587, 0.361780232576959, 0.361780232576959, 0.37545994536020577, 0.3273216930152719, 0.3273216930152719, 0.18551977085554244, 0.09275988542777122, 0.09275988542777122, 0.18551977085554244, 0.09275988542777122, 0.18551977085554244, 0.09275988542777122, 0.09275988542777122, 0.5609247669051939, 0.1869749223017313, 0.2228069310256342, 0.6684207930769026, 0.35441326221730524, 0.35441326221730524, 0.37469501679768497, 0.4112948532646614, 0.349519185446748, 0.349519185446748, 0.20987491052879864, 0.20987491052879864, 0.4197498210575973, 0.34256197496947843, 0.34256197496947843, 0.17094907771063952, 0.6837963108425581, 0.22042492575038256, 0.22042492575038256, 0.4408498515007651, 0.22042492575038256, 0.2178797141401529, 0.6536391424204587, 0.2558651143305485, 0.511730228661097, 0.16417620572754055, 0.16417620572754055, 0.16417620572754055, 0.16417620572754055, 0.16417620572754055, 0.16417620572754055, 0.43655325565781866, 0.4108296952251814, 0.4627510023963724, 0.5787276273795944, 0.2893638136897972, 0.4385259166019011, 0.4574194504451503, 0.3635649639384962, 0.3635649639384962, 0.3468781241172768, 0.3468781241172768, 0.3468781241172768, 0.3876037183875566, 0.3876037183875566, 0.3771795991419114, 0.2717742718525327, 0.2717742718525327, 0.2717742718525327, 0.2881801056268276, 0.1440900528134138, 0.1440900528134138, 0.1440900528134138, 0.1440900528134138, 0.2450833161133, 0.2450833161133, 0.4901666322266, 0.5526819256274426, 0.18422730854248087, 0.37905548507758735, 0.37905548507758735, 0.12439926198695278, 0.24879852397390556, 0.12439926198695278, 0.37319778596085834, 0.12439926198695278, 0.4213205943505379, 0.21066029717526896, 0.21066029717526896, 0.21066029717526896, 0.6748299487889219, 0.19874896576884699, 0.19874896576884699, 0.19874896576884699, 0.39749793153769397, 0.3404249611055227, 0.3404249611055227, 0.33709036996555464, 0.33709036996555464, 0.32335735188628856, 0.0646714703772577, 0.1293429407545154, 0.0646714703772577, 0.0646714703772577, 0.1293429407545154, 0.2586858815090308, 0.4543049943909043, 0.22715249719545216, 0.7285600512435753, 0.28592017434153716, 0.42888026151230574, 0.14296008717076858, 0.4611035618255271, 0.4579380609800185, 0.19366777432544782, 0.19366777432544782, 0.19366777432544782, 0.38733554865089564, 0.3244396127308484, 0.3244396127308484, 0.14250200727662365, 0.14250200727662365, 0.14250200727662365, 0.2850040145532473, 0.2850040145532473, 0.14250200727662365, 0.4845846897074875, 0.24229234485374376, 0.4417966479836923, 0.27193853275850477, 0.5438770655170095, 0.6887368657936848, 0.379411065388527, 0.34250662409755367, 0.34250662409755367, 0.3618333703755251, 0.4629662744377326, 0.30667175651798806, 0.30667175651798806, 0.33430545552622415, 0.33430545552622415, 0.16855643119549116, 0.6742257247819646, 0.16855643119549116, 0.3383765773442839, 0.3383765773442839, 0.23253249622534464, 0.4650649924506893, 0.23253249622534464, 0.23253249622534464, 0.42601572376090546, 0.21300786188045273, 0.21300786188045273, 0.43297236246130116, 0.3485205759232119, 0.3485205759232119, 0.428771290301058, 0.15210118443637755, 0.15210118443637755, 0.15210118443637755, 0.15210118443637755, 0.15210118443637755, 0.15210118443637755, 0.15210118443637755, 0.25380285155519916, 0.25380285155519916, 0.25380285155519916, 0.19944319540065386, 0.19944319540065386, 0.19944319540065386, 0.19944319540065386, 0.19944319540065386, 0.43585178946855113, 0.29303503425547806, 0.29303503425547806, 0.5263618684169542, 0.2631809342084771, 0.25284881188800595, 0.25284881188800595, 0.25284881188800595, 0.38769949846710855, 0.2557094637066453, 0.2557094637066453, 0.12785473185332266, 0.12785473185332266, 0.12785473185332266, 0.23052095522614852, 0.46104191045229703, 0.23052095522614852, 0.23052095522614852, 0.26553660641036625, 0.26553660641036625, 0.13276830320518312, 0.13276830320518312, 0.13276830320518312, 0.44480756749819866, 0.621503026710781, 0.3107515133553905, 0.19037508960253083, 0.38075017920506166, 0.19037508960253083, 0.19037508960253083, 0.19037508960253083, 0.22774570077688383, 0.11387285038844192, 0.11387285038844192, 0.11387285038844192, 0.11387285038844192, 0.11387285038844192, 0.11387285038844192, 0.4574144841981699, 0.29638739040626755, 0.5927747808125351, 0.62902704236232, 0.15725676059058, 0.11848535904914365, 0.2369707180982873, 0.35545607714743094, 0.11848535904914365, 0.11848535904914365, 0.3647210771258715, 0.3647210771258715, 0.5736765551756529, 0.43798672096027025, 0.48585035004511745, 0.24292517502255873, 0.1891780178178733, 0.1891780178178733, 0.1891780178178733, 0.1891780178178733, 0.16566566874576338, 0.11044377916384227, 0.16566566874576338, 0.05522188958192113, 0.11044377916384227, 0.16566566874576338, 0.16566566874576338, 0.05522188958192113, 0.05522188958192113, 0.22903707746944632, 0.22903707746944632, 0.22903707746944632, 0.22903707746944632, 0.6379582708415635, 0.07974478385519544, 0.15948956771039088, 0.07974478385519544, 0.1989142819975506, 0.5967428459926518, 0.26809543995320284, 0.26809543995320284, 0.26809543995320284, 0.28473499803645175, 0.08135285658184337, 0.08135285658184337, 0.12202928487276504, 0.08135285658184337, 0.12202928487276504, 0.08135285658184337, 0.04067642829092168, 0.04067642829092168, 0.04067642829092168, 0.5537187774347112, 0.16154449900775697, 0.32308899801551394, 0.16154449900775697, 0.16154449900775697, 0.16154449900775697, 0.17579269116251123, 0.17579269116251123, 0.35158538232502246, 0.35158538232502246, 0.15075853093044522, 0.15075853093044522, 0.45227559279133567, 0.15075853093044522, 0.44577730558708756, 0.22288865279354378, 0.40603095139508905, 0.1624123805580356, 0.0812061902790178, 0.1624123805580356, 0.0812061902790178, 0.0812061902790178, 0.23449864143551064, 0.23449864143551064, 0.23449864143551064, 0.23449864143551064, 0.268976891974556, 0.268976891974556, 0.35825142920467806, 0.35825142920467806, 0.17869587285619548, 0.35739174571239096, 0.17869587285619548, 0.17869587285619548, 0.07528680082306342, 0.15057360164612685, 0.15057360164612685, 0.07528680082306342, 0.22586040246919026, 0.15057360164612685, 0.07528680082306342, 0.07528680082306342, 0.5783193143921861, 0.1572747955415646, 0.052424931847188196, 0.20969972738875278, 0.1572747955415646, 0.052424931847188196, 0.1572747955415646, 0.10484986369437639, 0.052424931847188196, 0.378766647363916, 0.189383323681958, 0.189383323681958, 0.189383323681958, 0.45656283171618545, 0.3079147825185699, 0.3079147825185699, 0.3079147825185699, 0.15779703804402145, 0.3155940760880429, 0.3155940760880429, 0.15779703804402145, 0.5374316454248118, 0.2687158227124059, 0.1043281673988577, 0.4173126695954308, 0.3129845021965731, 0.1043281673988577, 0.1043281673988577, 0.27884996298081716, 0.27884996298081716, 0.27884996298081716, 0.17432931266018944, 0.3486586253203789, 0.17432931266018944, 0.17432931266018944, 0.42344449861920114, 0.32503828187432005, 0.32503828187432005, 0.6647707610073185, 0.8582461168520812, 0.07802237425928012, 0.5753249855664306, 0.29411422245491925, 0.29411422245491925, 0.14705711122745962, 0.43937636200756236], \"Topic\": [1, 5, 2, 3, 4, 6, 10, 1, 6, 7, 7, 3, 1, 2, 3, 5, 10, 1, 2, 5, 6, 1, 1, 5, 4, 2, 6, 1, 7, 2, 5, 1, 2, 3, 6, 7, 2, 3, 4, 5, 7, 9, 10, 1, 2, 1, 3, 4, 7, 2, 3, 6, 7, 1, 2, 1, 3, 8, 7, 1, 4, 3, 1, 8, 8, 7, 1, 2, 3, 4, 6, 7, 3, 5, 3, 5, 2, 6, 7, 2, 4, 9, 4, 2, 4, 3, 1, 2, 5, 6, 5, 6, 7, 3, 6, 1, 2, 5, 7, 4, 6, 4, 1, 2, 3, 5, 6, 7, 8, 1, 2, 3, 5, 6, 7, 10, 1, 8, 1, 2, 4, 5, 6, 4, 5, 6, 2, 4, 2, 8, 6, 7, 1, 5, 2, 4, 7, 9, 2, 4, 6, 10, 6, 9, 2, 10, 2, 3, 2, 4, 1, 7, 3, 4, 1, 2, 3, 5, 6, 7, 10, 5, 6, 7, 1, 2, 3, 4, 7, 2, 9, 1, 2, 3, 8, 1, 5, 6, 1, 3, 1, 2, 3, 4, 5, 6, 8, 10, 1, 3, 5, 2, 1, 3, 6, 1, 3, 5, 1, 2, 6, 7, 10, 6, 1, 3, 4, 1, 2, 3, 7, 3, 1, 8, 1, 2, 4, 5, 7, 8, 1, 3, 4, 5, 6, 7, 9, 1, 3, 7, 7, 1, 1, 5, 1, 4, 2, 4, 1, 2, 3, 4, 5, 6, 7, 9, 5, 6, 9, 7, 8, 2, 1, 2, 3, 5, 1, 2, 5, 3, 1, 8, 1, 2, 8, 5, 6, 1, 2, 3, 4, 7, 10, 1, 2, 3, 4, 7, 1, 3, 6, 3, 7, 9, 1, 3, 4, 1, 2, 3, 5, 6, 7, 9, 2, 5, 4, 1, 6, 1, 2, 3, 4, 7, 10, 1, 3, 4, 6, 1, 7, 1, 5, 6, 4, 1, 1, 4, 7, 1, 4, 5, 3, 4, 1, 10, 1, 2, 4, 5, 6, 3, 4, 6, 1, 2, 3, 6, 9, 2, 3, 5, 1, 5, 7, 1, 1, 5, 4, 10, 1, 4, 7, 4, 1, 5, 1, 3, 5, 6, 2, 6, 7, 2, 3, 2, 3, 6, 7, 3, 2, 5, 7, 1, 2, 6, 2, 3, 9, 1, 2, 7, 1, 5, 10, 1, 4, 1, 3, 4, 7, 1, 3, 10, 1, 2, 3, 4, 5, 6, 7, 3, 3, 6, 1, 2, 3, 4, 5, 7, 1, 2, 8, 2, 6, 5, 6, 4, 5, 1, 4, 1, 4, 1, 4, 6, 7, 10, 1, 2, 3, 4, 5, 6, 7, 10, 4, 1, 3, 1, 2, 3, 5, 7, 2, 3, 5, 6, 1, 4, 5, 1, 2, 1, 5, 6, 1, 6, 7, 1, 2, 7, 2, 3, 1, 2, 1, 2, 3, 6, 7, 9, 2, 5, 2, 5, 4, 1, 3, 2, 3, 1, 3, 4, 6, 1, 2, 8, 2, 8, 1, 6, 2, 9, 3, 4, 4, 4, 5, 1, 3, 1, 2, 3, 4, 5, 6, 8, 10, 2, 4, 5, 1, 2, 4, 7, 10, 9, 3, 4, 5, 1, 4, 6, 7, 2, 3, 5, 9, 2, 5, 3, 3, 1, 2, 3, 3, 4, 7, 7, 2, 3, 1, 2, 5, 8, 3, 10, 2, 4, 6, 7, 5, 6, 1, 7, 1, 3, 4, 6, 1, 2, 1, 7, 7, 1, 8, 1, 2, 3, 4, 5, 6, 7, 8, 1, 7, 1, 2, 1, 7, 5, 2, 2, 6, 1, 2, 10, 2, 4, 1, 8, 1, 2, 4, 6, 3, 4, 1, 2, 1, 2, 5, 6, 7, 8, 1, 3, 4, 2, 3, 2, 4, 5, 6, 1, 6, 10, 4, 9, 4, 4, 5, 7, 2, 3, 4, 6, 7, 1, 3, 6, 5, 6, 6, 7, 1, 3, 5, 7, 9, 1, 2, 7, 9, 3, 2, 5, 6, 8, 1, 3, 1, 8, 1, 2, 3, 4, 6, 7, 8, 6, 7, 5, 2, 3, 6, 4, 4, 1, 2, 3, 5, 3, 10, 1, 2, 3, 4, 7, 8, 1, 6, 7, 2, 8, 2, 4, 1, 3, 7, 6, 2, 6, 6, 7, 2, 3, 5, 2, 3, 1, 2, 3, 4, 2, 4, 7, 5, 1, 3, 2, 1, 3, 4, 5, 6, 9, 10, 2, 6, 9, 1, 3, 4, 5, 6, 2, 3, 5, 1, 9, 2, 4, 9, 4, 1, 2, 3, 6, 7, 2, 3, 6, 7, 1, 2, 3, 5, 8, 1, 1, 6, 2, 3, 4, 5, 7, 1, 2, 3, 4, 6, 7, 10, 1, 3, 5, 1, 7, 2, 3, 4, 5, 8, 4, 6, 9, 1, 1, 4, 4, 5, 6, 7, 1, 2, 3, 4, 5, 6, 7, 8, 9, 2, 6, 7, 9, 2, 5, 6, 7, 1, 5, 2, 4, 7, 1, 2, 3, 4, 5, 6, 7, 8, 9, 10, 2, 3, 5, 6, 7, 8, 1, 4, 6, 8, 1, 2, 3, 5, 3, 8, 1, 3, 4, 5, 6, 7, 1, 2, 4, 9, 2, 6, 2, 6, 1, 2, 4, 7, 1, 2, 3, 4, 5, 6, 7, 10, 1, 1, 2, 3, 4, 5, 6, 7, 8, 1, 5, 7, 9, 6, 3, 6, 7, 1, 2, 6, 7, 3, 8, 1, 2, 3, 4, 6, 1, 4, 6, 1, 3, 4, 6, 1, 2, 6, 3, 1, 5, 2, 1, 2, 3, 1], \"Term\": [\"10\", \"10\", \"able\", \"able\", \"able\", \"able\", \"able\", \"achieve\", \"achieve\", \"achieve\", \"action\", \"actually\", \"add\", \"add\", \"add\", \"add\", \"add\", \"added\", \"added\", \"added\", \"added\", \"adding\", \"adult\", \"adult\", \"algorithm\", \"align\", \"allow\", \"apache\", \"apache\", \"api\", \"api\", \"app\", \"app\", \"app\", \"app\", \"app\", \"application\", \"application\", \"application\", \"application\", \"application\", \"application\", \"application\", \"applications\", \"applications\", \"appreciated\", \"appreciated\", \"appreciated\", \"appreciated\", \"approach\", \"approach\", \"approach\", \"approach\", \"apps\", \"apps\", \"array\", \"array\", \"array\", \"article\", \"asp\", \"asp\", \"assistance\", \"automatically\", \"automatically\", \"avoid\", \"beginning\", \"best\", \"best\", \"best\", \"best\", \"best\", \"best\", \"big\", \"big\", \"bigger\", \"bigger\", \"binding\", \"block\", \"block\", \"browser\", \"browser\", \"browser\", \"bundle\", \"bundles\", \"bundles\", \"came\", \"case\", \"case\", \"case\", \"case\", \"catch\", \"causes\", \"causes\", \"cell\", \"cell\", \"change\", \"change\", \"change\", \"change\", \"check\", \"check\", \"checking\", \"class\", \"class\", \"class\", \"class\", \"class\", \"client\", \"client\", \"code\", \"code\", \"code\", \"code\", \"code\", \"code\", \"code\", \"column\", \"column\", \"com\", \"com\", \"com\", \"com\", \"come\", \"comes\", \"comes\", \"comes\", \"compiler\", \"compiler\", \"component\", \"component\", \"configuration\", \"connecting\", \"constant\", \"contain\", \"containing\", \"content\", \"content\", \"content\", \"control\", \"control\", \"control\", \"control\", \"controller\", \"controller\", \"controls\", \"controls\", \"converts\", \"converts\", \"correct\", \"correct\", \"couldn\", \"couldn\", \"course\", \"course\", \"create\", \"create\", \"create\", \"create\", \"create\", \"create\", \"create\", \"created\", \"created\", \"created\", \"css\", \"css\", \"css\", \"css\", \"ctrl\", \"current\", \"current\", \"custom\", \"custom\", \"custom\", \"custom\", \"cut\", \"cut\", \"cut\", \"daily\", \"daily\", \"data\", \"data\", \"data\", \"data\", \"data\", \"data\", \"data\", \"data\", \"database\", \"database\", \"database\", \"datacontext\", \"day\", \"day\", \"day\", \"days\", \"days\", \"days\", \"default\", \"default\", \"default\", \"default\", \"default\", \"defined\", \"developer\", \"direction\", \"direction\", \"directory\", \"directory\", \"directory\", \"directory\", \"displays\", \"document\", \"document\", \"does\", \"does\", \"does\", \"does\", \"does\", \"does\", \"don\", \"don\", \"don\", \"don\", \"don\", \"don\", \"don\", \"download\", \"download\", \"download\", \"elegant\", \"email\", \"en\", \"en\", \"entity\", \"entity\", \"environment\", \"environment\", \"error\", \"error\", \"error\", \"error\", \"error\", \"error\", \"error\", \"error\", \"errors\", \"errors\", \"errors\", \"event\", \"event\", \"exactly\", \"example\", \"example\", \"example\", \"example\", \"exception\", \"exception\", \"exception\", \"existing\", \"failed\", \"false\", \"feed\", \"feed\", \"field\", \"fields\", \"fields\", \"file\", \"file\", \"file\", \"file\", \"file\", \"file\", \"files\", \"files\", \"files\", \"files\", \"files\", \"fine\", \"fine\", \"fine\", \"firefox\", \"firefox\", \"firefox\", \"folder\", \"folder\", \"folder\", \"following\", \"following\", \"following\", \"following\", \"following\", \"following\", \"following\", \"form\", \"form\", \"frac\", \"friends\", \"friends\", \"function\", \"function\", \"function\", \"function\", \"function\", \"function\", \"functions\", \"functions\", \"ge\", \"ge\", \"generated\", \"generated\", \"gets\", \"gets\", \"gets\", \"gives\", \"giving\", \"going\", \"going\", \"going\", \"good\", \"good\", \"good\", \"greatly\", \"group\", \"guess\", \"guess\", \"guys\", \"handle\", \"handle\", \"handle\", \"handle\", \"hash\", \"hash\", \"header\", \"help\", \"help\", \"help\", \"help\", \"help\", \"html\", \"html\", \"html\", \"http\", \"http\", \"http\", \"huge\", \"ideas\", \"ideas\", \"iis\", \"iis\", \"image\", \"image\", \"image\", \"images\", \"imagine\", \"information\", \"inside\", \"inside\", \"inside\", \"inside\", \"installed\", \"installed\", \"installed\", \"instance\", \"instance\", \"instead\", \"instead\", \"instead\", \"instead\", \"integer\", \"internet\", \"internet\", \"internet\", \"ip\", \"iphone\", \"iphone\", \"issues\", \"issues\", \"issues\", \"java\", \"java\", \"java\", \"javascript\", \"javascript\", \"javascript\", \"jpg\", \"jpg\", \"jquery\", \"jquery\", \"jquery\", \"jquery\", \"js\", \"jsfiddle\", \"json\", \"just\", \"just\", \"just\", \"just\", \"just\", \"just\", \"just\", \"kept\", \"key\", \"key\", \"know\", \"know\", \"know\", \"know\", \"know\", \"know\", \"later\", \"later\", \"later\", \"left\", \"left\", \"length\", \"length\", \"leq\", \"leq\", \"let\", \"let\", \"level\", \"libraries\", \"library\", \"library\", \"library\", \"library\", \"library\", \"like\", \"like\", \"like\", \"like\", \"like\", \"like\", \"like\", \"like\", \"lim_\", \"line\", \"line\", \"link\", \"link\", \"link\", \"link\", \"link\", \"list\", \"list\", \"list\", \"list\", \"little\", \"little\", \"little\", \"ll\", \"ll\", \"load\", \"load\", \"load\", \"look\", \"look\", \"look\", \"looking\", \"looking\", \"looking\", \"machine\", \"machine\", \"main\", \"main\", \"make\", \"make\", \"make\", \"make\", \"make\", \"make\", \"making\", \"making\", \"mark\", \"mark\", \"mathbb\", \"matlab\", \"matlab\", \"mean\", \"mean\", \"method\", \"method\", \"method\", \"method\", \"microsoft\", \"microsoft\", \"microsoft\", \"missing\", \"missing\", \"model\", \"model\", \"modify\", \"modify\", \"multi\", \"multi\", \"multiple\", \"mvc\", \"mvc\", \"mysql\", \"mysql\", \"need\", \"need\", \"need\", \"need\", \"need\", \"need\", \"need\", \"need\", \"needed\", \"needs\", \"needs\", \"net\", \"net\", \"net\", \"net\", \"net\", \"network\", \"node\", \"node\", \"null\", \"number\", \"number\", \"number\", \"number\", \"object\", \"object\", \"object\", \"object\", \"objects\", \"objects\", \"older\", \"ones\", \"open\", \"open\", \"open\", \"option\", \"option\", \"option\", \"options\", \"os\", \"outputs\", \"page\", \"page\", \"page\", \"page\", \"parameter\", \"parameter\", \"path\", \"path\", \"path\", \"path\", \"people\", \"people\", \"phone\", \"phone\", \"php\", \"php\", \"php\", \"php\", \"play\", \"play\", \"plugins\", \"plugins\", \"press\", \"print\", \"print\", \"problem\", \"problem\", \"problem\", \"problem\", \"problem\", \"problem\", \"problem\", \"problem\", \"process\", \"process\", \"profile\", \"profile\", \"program\", \"program\", \"progress\", \"proof\", \"proper\", \"proper\", \"property\", \"property\", \"property\", \"python\", \"python\", \"query\", \"query\", \"question\", \"question\", \"question\", \"question\", \"random\", \"random\", \"read\", \"read\", \"really\", \"really\", \"really\", \"really\", \"really\", \"really\", \"reason\", \"reasons\", \"recommend\", \"reference\", \"reference\", \"registered\", \"registration\", \"related\", \"related\", \"report\", \"report\", \"report\", \"resolve\", \"resolve\", \"response\", \"returning\", \"returning\", \"returning\", \"right\", \"right\", \"right\", \"right\", \"right\", \"row\", \"row\", \"row\", \"rows\", \"rows\", \"rules\", \"rules\", \"run\", \"run\", \"run\", \"run\", \"run\", \"running\", \"running\", \"running\", \"running\", \"safari\", \"search\", \"search\", \"search\", \"search\", \"seen\", \"seen\", \"sent\", \"sent\", \"server\", \"server\", \"server\", \"server\", \"server\", \"server\", \"server\", \"service\", \"service\", \"session\", \"set\", \"set\", \"set\", \"sets\", \"shared\", \"simple\", \"simple\", \"simple\", \"simple\", \"size\", \"size\", \"solution\", \"solution\", \"solution\", \"solution\", \"solution\", \"solution\", \"sort\", \"sort\", \"source\", \"sources\", \"sources\", \"specific\", \"specify\", \"sql\", \"sql\", \"ssh\", \"statements\", \"static\", \"static\", \"stop\", \"stop\", \"string\", \"string\", \"string\", \"strings\", \"strings\", \"structure\", \"structure\", \"structure\", \"structure\", \"studio\", \"studio\", \"studio\", \"submit\", \"suggestions\", \"suggestions\", \"support\", \"sure\", \"sure\", \"sure\", \"sure\", \"sure\", \"sure\", \"sure\", \"tab\", \"tab\", \"tab\", \"table\", \"table\", \"table\", \"table\", \"table\", \"tabs\", \"tag\", \"tag\", \"test\", \"test\", \"testing\", \"testing\", \"testing\", \"thank\", \"thanks\", \"thanks\", \"thanks\", \"thanks\", \"thanks\", \"thinking\", \"thinking\", \"thinking\", \"thinking\", \"time\", \"time\", \"time\", \"time\", \"time\", \"took\", \"traffic\", \"traffic\", \"try\", \"try\", \"try\", \"try\", \"try\", \"trying\", \"trying\", \"trying\", \"trying\", \"trying\", \"trying\", \"trying\", \"turned\", \"twitter\", \"twitter\", \"txt\", \"txt\", \"type\", \"type\", \"type\", \"type\", \"type\", \"ui\", \"ui\", \"unit\", \"update\", \"uploaded\", \"uploaded\", \"url\", \"url\", \"url\", \"url\", \"use\", \"use\", \"use\", \"use\", \"use\", \"use\", \"use\", \"use\", \"use\", \"used\", \"used\", \"used\", \"used\", \"user\", \"user\", \"user\", \"user\", \"username\", \"username\", \"uses\", \"uses\", \"uses\", \"using\", \"using\", \"using\", \"using\", \"using\", \"using\", \"using\", \"using\", \"using\", \"using\", \"valid\", \"value\", \"value\", \"value\", \"value\", \"value\", \"values\", \"values\", \"values\", \"values\", \"variable\", \"variable\", \"variable\", \"variable\", \"variables\", \"variables\", \"ve\", \"ve\", \"ve\", \"ve\", \"ve\", \"ve\", \"version\", \"version\", \"version\", \"version\", \"view\", \"view\", \"viewmodel\", \"viewmodel\", \"visual\", \"visual\", \"visual\", \"visual\", \"want\", \"want\", \"want\", \"want\", \"want\", \"want\", \"want\", \"want\", \"warning\", \"way\", \"way\", \"way\", \"way\", \"way\", \"way\", \"way\", \"way\", \"web\", \"web\", \"web\", \"web\", \"width\", \"window\", \"window\", \"window\", \"windows\", \"windows\", \"windows\", \"windows\", \"wondering\", \"wondering\", \"work\", \"work\", \"work\", \"work\", \"work\", \"working\", \"working\", \"working\", \"works\", \"works\", \"works\", \"works\", \"world\", \"wpf\", \"wpf\", \"wrong\", \"www\", \"www\", \"xaml\", \"xml\", \"xml\", \"xml\", \"yes\"]}, \"R\": 30};\n",
       "\n",
       "function LDAvis_load_lib(url, callback){\n",
       "  var s = document.createElement('script');\n",
       "  s.src = url;\n",
       "  s.async = true;\n",
       "  s.onreadystatechange = s.onload = callback;\n",
       "  s.onerror = function(){console.warn(\"failed to load library \" + url);};\n",
       "  document.getElementsByTagName(\"head\")[0].appendChild(s);\n",
       "}\n",
       "\n",
       "if(typeof(LDAvis) !== \"undefined\"){\n",
       "   // already loaded: just create the visualization\n",
       "   !function(LDAvis){\n",
       "       new LDAvis(\"#\" + \"ldavis_el2172745185426968889748467\", ldavis_el2172745185426968889748467_data);\n",
       "   }(LDAvis);\n",
       "}else if(typeof define === \"function\" && define.amd){\n",
       "   // require.js is available: use it to load d3/LDAvis\n",
       "   require.config({paths: {d3: \"https://cdnjs.cloudflare.com/ajax/libs/d3/3.5.5/d3.min\"}});\n",
       "   require([\"d3\"], function(d3){\n",
       "      window.d3 = d3;\n",
       "      LDAvis_load_lib(\"https://cdn.rawgit.com/bmabey/pyLDAvis/files/ldavis.v1.0.0.js\", function(){\n",
       "        new LDAvis(\"#\" + \"ldavis_el2172745185426968889748467\", ldavis_el2172745185426968889748467_data);\n",
       "      });\n",
       "    });\n",
       "}else{\n",
       "    // require.js not available: dynamically load d3 & LDAvis\n",
       "    LDAvis_load_lib(\"https://cdnjs.cloudflare.com/ajax/libs/d3/3.5.5/d3.min.js\", function(){\n",
       "         LDAvis_load_lib(\"https://cdn.rawgit.com/bmabey/pyLDAvis/files/ldavis.v1.0.0.js\", function(){\n",
       "                 new LDAvis(\"#\" + \"ldavis_el2172745185426968889748467\", ldavis_el2172745185426968889748467_data);\n",
       "            })\n",
       "         });\n",
       "}\n",
       "</script>"
      ],
      "text/plain": [
       "PreparedData(topic_coordinates=            Freq  cluster  topics           x           y\n",
       "topic                                                    \n",
       "7      17.826084        1       1 -150.106447  -56.424528\n",
       "9      15.141644        1       2   15.005294  -51.354965\n",
       "2      13.769062        1       3  110.917525 -100.679145\n",
       "1       9.886427        1       4   50.120055   33.324194\n",
       "0       9.631546        1       5  -38.226027   61.058458\n",
       "6       9.302145        1       6  -23.867423  167.020969\n",
       "3       8.952511        1       7 -139.361305   66.965510\n",
       "8       6.065348        1       8   87.107055  125.714708\n",
       "5       5.205393        1       9  146.730341   11.797743\n",
       "4       4.219841        1      10  -22.153704 -141.731195, topic_info=     Category       Freq         Term      Total  loglift  logprob\n",
       "term                                                              \n",
       "229   Default  14.000000         http  14.000000  30.0000  30.0000\n",
       "561   Default  12.000000          www  12.000000  29.0000  29.0000\n",
       "84    Default  16.000000          com  16.000000  28.0000  28.0000\n",
       "182   Default  24.000000         file  24.000000  27.0000  27.0000\n",
       "386   Default   5.000000        query   5.000000  26.0000  26.0000\n",
       "431   Default  15.000000       server  15.000000  25.0000  25.0000\n",
       "526   Default  12.000000         user  12.000000  24.0000  24.0000\n",
       "27    Default  14.000000  application  14.000000  23.0000  23.0000\n",
       "258   Default   6.000000   javascript   6.000000  22.0000  22.0000\n",
       "382   Default   4.000000     property   4.000000  21.0000  21.0000\n",
       "263   Default   3.000000         json   3.000000  20.0000  20.0000\n",
       "518   Default   3.000000         unit   3.000000  19.0000  19.0000\n",
       "191   Default  12.000000    following  12.000000  18.0000  18.0000\n",
       "418   Default   8.000000          run   8.000000  17.0000  17.0000\n",
       "187   Default   5.000000      firefox   5.000000  16.0000  16.0000\n",
       "234   Default   7.000000        image   7.000000  15.0000  15.0000\n",
       "416   Default   5.000000         rows   5.000000  14.0000  14.0000\n",
       "513   Default   8.000000         type   8.000000  13.0000  13.0000\n",
       "113   Default  11.000000       create  11.000000  12.0000  12.0000\n",
       "347   Default   6.000000         page   6.000000  11.0000  11.0000\n",
       "80    Default   4.000000       client   4.000000  10.0000  10.0000\n",
       "124   Default  14.000000         data  14.000000   9.0000   9.0000\n",
       "532   Default   5.000000       values   5.000000   8.0000   8.0000\n",
       "321   Default  13.000000         need  13.000000   7.0000   7.0000\n",
       "455   Default   3.000000      sources   3.000000   6.0000   6.0000\n",
       "81    Default  18.000000         code  18.000000   5.0000   5.0000\n",
       "314   Default   3.000000       modify   3.000000   4.0000   4.0000\n",
       "447   Default   3.000000         size   3.000000   3.0000   3.0000\n",
       "117   Default   3.000000         ctrl   3.000000   2.0000   2.0000\n",
       "104   Default   4.000000   controller   4.000000   1.0000   1.0000\n",
       "...       ...        ...          ...        ...      ...      ...\n",
       "317   Topic10   0.401726     multiple   2.527860   1.3260  -5.4523\n",
       "232   Topic10   0.421707        ideas   2.665322   1.3216  -5.4038\n",
       "325   Topic10   0.972518          net   6.209762   1.3114  -4.5682\n",
       "275   Topic10   0.398524    libraries   2.558643   1.3059  -5.4603\n",
       "493   Topic10   0.399762        thank   2.579317   1.3010  -5.4572\n",
       "241   Topic10   0.385824  information   2.498956   1.2971  -5.4927\n",
       "13    Topic10   0.389374       adding   2.583778   1.2729  -5.4836\n",
       "235   Topic10   0.396747       images   2.634603   1.2722  -5.4648\n",
       "200   Topic10   0.389152    functions   2.672634   1.2385  -5.4841\n",
       "161   Topic10   0.398190  environment   2.739888   1.2366  -5.4612\n",
       "377   Topic10   0.387223     progress   2.668837   1.2350  -5.4891\n",
       "215   Topic10   0.391133      greatly   2.727631   1.2232  -5.4790\n",
       "130   Topic10   0.692197      default   5.148603   1.1588  -4.9082\n",
       "5     Topic10   0.679650         able   5.535095   1.0681  -4.9265\n",
       "199   Topic10   0.666929     function   6.188878   0.9375  -4.9454\n",
       "103   Topic10   0.694210      control   6.677729   0.9016  -4.9053\n",
       "480   Topic10   0.681465         sure   6.574571   0.8987  -4.9239\n",
       "81    Topic10   1.261405         code  18.932349   0.4567  -4.3081\n",
       "11    Topic10   0.666505          add   6.629846   0.8681  -4.9460\n",
       "182   Topic10   1.326434         file  24.517554   0.2485  -4.2578\n",
       "529   Topic10   1.307726        using  24.584263   0.2316  -4.2721\n",
       "321   Topic10   0.968856         need  13.885544   0.5029  -4.5720\n",
       "276   Topic10   0.708708      library   7.642431   0.7873  -4.8847\n",
       "509   Topic10   0.679530       trying   8.781724   0.6063  -4.9267\n",
       "113   Topic10   0.688955       create  11.600150   0.3418  -4.9129\n",
       "541   Topic10   0.679295         want  13.282541   0.1922  -4.9270\n",
       "27    Topic10   0.690472  application  14.248871   0.1383  -4.9107\n",
       "124   Topic10   0.675575         data  14.109473   0.1263  -4.9325\n",
       "277   Topic10   0.671229         like  20.135131  -0.2357  -4.9390\n",
       "29    Topic10   0.402609  appreciated   5.243278   0.5986  -5.4501\n",
       "\n",
       "[500 rows x 6 columns], token_table=      Topic      Freq       Term\n",
       "term                            \n",
       "0         1  0.561286         10\n",
       "0         5  0.280643         10\n",
       "5         2  0.180665       able\n",
       "5         3  0.180665       able\n",
       "5         4  0.180665       able\n",
       "5         6  0.361331       able\n",
       "5        10  0.180665       able\n",
       "7         1  0.274707    achieve\n",
       "7         6  0.274707    achieve\n",
       "7         7  0.274707    achieve\n",
       "8         7  0.462152     action\n",
       "10        3  0.357472   actually\n",
       "11        1  0.150833        add\n",
       "11        2  0.150833        add\n",
       "11        3  0.150833        add\n",
       "11        5  0.301666        add\n",
       "11       10  0.150833        add\n",
       "12        1  0.160528      added\n",
       "12        2  0.160528      added\n",
       "12        5  0.321057      added\n",
       "12        6  0.321057      added\n",
       "13        1  0.387030     adding\n",
       "14        1  0.360003      adult\n",
       "14        5  0.360003      adult\n",
       "18        4  0.457564  algorithm\n",
       "19        2  0.360707      align\n",
       "20        6  0.382451      allow\n",
       "23        1  0.477370     apache\n",
       "23        7  0.238685     apache\n",
       "24        2  0.301296        api\n",
       "...     ...       ...        ...\n",
       "549       7  0.307915     window\n",
       "550       1  0.157797    windows\n",
       "550       2  0.315594    windows\n",
       "550       6  0.315594    windows\n",
       "550       7  0.157797    windows\n",
       "553       3  0.537432  wondering\n",
       "553       8  0.268716  wondering\n",
       "554       1  0.104328       work\n",
       "554       2  0.417313       work\n",
       "554       3  0.312985       work\n",
       "554       4  0.104328       work\n",
       "554       6  0.104328       work\n",
       "555       1  0.278850    working\n",
       "555       4  0.278850    working\n",
       "555       6  0.278850    working\n",
       "556       1  0.174329      works\n",
       "556       3  0.348659      works\n",
       "556       4  0.174329      works\n",
       "556       6  0.174329      works\n",
       "557       1  0.423444      world\n",
       "558       2  0.325038        wpf\n",
       "558       6  0.325038        wpf\n",
       "560       3  0.664771      wrong\n",
       "561       1  0.858246        www\n",
       "561       5  0.078022        www\n",
       "562       2  0.575325       xaml\n",
       "563       1  0.294114        xml\n",
       "563       2  0.294114        xml\n",
       "563       3  0.147057        xml\n",
       "564       1  0.439376        yes\n",
       "\n",
       "[905 rows x 3 columns], R=30, lambda_step=0.01, plot_opts={'ylab': 'PC2', 'xlab': 'PC1'}, topic_order=[8, 10, 3, 2, 1, 7, 4, 9, 6, 5])"
      ]
     },
     "execution_count": 124,
     "metadata": {},
     "output_type": "execute_result"
    }
   ],
   "source": [
    "import warnings\n",
    "warnings.filterwarnings('ignore')\n",
    "pyLDAvis.prepare(**opts, mds='tsne')"
   ]
  },
  {
   "cell_type": "code",
   "execution_count": null,
   "metadata": {
    "collapsed": true
   },
   "outputs": [],
   "source": []
  }
 ],
 "metadata": {
  "kernelspec": {
   "display_name": "Python 3",
   "language": "python",
   "name": "python3"
  },
  "language_info": {
   "codemirror_mode": {
    "name": "ipython",
    "version": 3
   },
   "file_extension": ".py",
   "mimetype": "text/x-python",
   "name": "python",
   "nbconvert_exporter": "python",
   "pygments_lexer": "ipython3",
   "version": "3.5.1"
  }
 },
 "nbformat": 4,
 "nbformat_minor": 0
}
