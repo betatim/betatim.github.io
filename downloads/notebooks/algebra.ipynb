{
 "cells": [
  {
   "cell_type": "markdown",
   "metadata": {},
   "source": [
    "# AlgebraNet - Learning Algebra from Scratch\n",
    "\n",
    "*This notebook first appeared as a [blog post](//betatim.github.io/posts/algebra-from-scratch) on [Tim Head](//betatim.github.io)'s blog.*\n",
    "\n",
    "*License: [MIT](http://opensource.org/licenses/MIT)*\n",
    "\n",
    "*(C) 2016, Tim Head.*\n",
    "*Feel free to use, distribute, and modify with the above attribution.*"
   ]
  },
  {
   "cell_type": "markdown",
   "metadata": {},
   "source": [
    "In this post a computer will learn basic algebra, from scratch! Not excited? Keep reading. This is an introduction to basic sequence-to-sequence learning using a [Long short term memory](https://en.wikipedia.org/wiki/Long_short-term_memory) (LSTM) module.\n",
    "\n",
    "Sequences of varying length are everywhere around us. Yet most machine-learning problems\n",
    "are presented as \"here are five features describing each instance, please predict these three\n",
    "properties\". Or some variation on this. This is not a particularly good fit with\n",
    "sequences of varying length like: sentences, sound recordings, or time series data. In\n",
    "addition the order in which things occur in the sequence carries meaning. Let's take\n",
    "advantage of all that structure!\n",
    "\n",
    "Imagine trying to shoehorn the task of translating English sentences to German sentences into\n",
    "a classical $N$ features and $M$ outputs setup. A bit of a nightmare. This is where\n",
    "sequence to sequence learning comes in. You feed in a sequence and produce a new sequence,\n",
    "potentially of different length.\n",
    "\n",
    "You can use this for translating English to German, generating captions for images, or\n",
    "as we will do: learn how to do basic algebra.\n",
    "\n",
    "\n",
    "## The Problem\n",
    "\n",
    "Given a string of characters representing a math problem `\"3141+42\"` we would like\n",
    "to generate a string of characters representing the correct solution: `\"3183\"`. Our\n",
    "network will learn how to do addition, subtraction, multiplication and division.\n",
    "\n",
    "The important\n",
    "part is that we will not first use our human intelligence to break the string up into\n",
    "integers and a mathematical operator. We want the computer to figure all that out by\n",
    "itself.\n",
    "\n",
    "Let's go! This post will use the excellent [`keras`](https://keras.io/) deep-learning\n",
    "library and is based on one of their [examples](https://github.com/fchollet/keras/blob/master/examples/addition_rnn.py).\n",
    "\n",
    "First some imports, and then we generate examples."
   ]
  },
  {
   "cell_type": "code",
   "execution_count": 1,
   "metadata": {
    "collapsed": true
   },
   "outputs": [],
   "source": [
    "%matplotlib inline\n",
    "%config InlineBackend.figure_format='retina'"
   ]
  },
  {
   "cell_type": "code",
   "execution_count": 2,
   "metadata": {
    "collapsed": false
   },
   "outputs": [
    {
     "name": "stderr",
     "output_type": "stream",
     "text": [
      "Using Theano backend.\n"
     ]
    }
   ],
   "source": [
    "import operator\n",
    "\n",
    "import numpy as np\n",
    "import matplotlib.pyplot as plt\n",
    "plt.rcParams[\"figure.figsize\"] = (8, 8)\n",
    "plt.rcParams[\"font.size\"] = 14\n",
    "\n",
    "from sklearn.cross_validation import train_test_split\n",
    "from sklearn.utils import check_random_state\n",
    "\n",
    "from keras.models import Sequential\n",
    "from keras.layers import Dense, RepeatVector, TimeDistributed, Activation\n",
    "from keras.layers.recurrent import LSTM\n",
    "from keras.optimizers import SGD"
   ]
  },
  {
   "cell_type": "code",
   "execution_count": 3,
   "metadata": {
    "collapsed": true
   },
   "outputs": [],
   "source": [
    "OPS = ['+', '*', '-', '/']\n",
    "ABC = '1234567890' + ''.join(OPS) + '. '"
   ]
  },
  {
   "cell_type": "markdown",
   "metadata": {},
   "source": [
    "## Creating Examples\n",
    "\n",
    "Using simple algebra problems like this demonstrates all the basics of\n",
    "sequence to sequence learning and allows us to generate a lot of data\n",
    "very quickly (compared to say audio recordings).\n",
    "\n",
    "We need a way to represent a sequence of characters as a sequence of\n",
    "binary vectors, this is what `encode` and `decode` take care of. Each\n",
    "character is [one-hot encoded](https://en.wikipedia.org/wiki/One-hot). The\n",
    "`make_maths_problem` function uses them to generate a large set of\n",
    "examples."
   ]
  },
  {
   "cell_type": "code",
   "execution_count": 12,
   "metadata": {
    "collapsed": false
   },
   "outputs": [],
   "source": [
    "def encode(characters):\n",
    "    \"\"\"Encode a string as an array of integers.\"\"\"\n",
    "    char_idx = dict((c, i) for i, c in enumerate(ABC))\n",
    "    X_ = np.zeros((len(characters), len(ABC)))\n",
    "    for i, c in enumerate(characters):\n",
    "        try:\n",
    "            X_[i, char_idx[c]] = 1\n",
    "        except:\n",
    "            print('chars:', characters)\n",
    "            print(i, c, char_idx[c], X_.shape)\n",
    "    return X_\n",
    "\n",
    "\n",
    "def decode(X, calc_argmax=True):\n",
    "    \"\"\"Decode an array of integers to a string.\"\"\"\n",
    "    idx_char = dict((i, c) for i, c in enumerate(ABC))\n",
    "    X = X.argmax(axis=-1)    \n",
    "    return ''.join(idx_char[i] for i in X)\n",
    "\n",
    "\n",
    "# Generate data\n",
    "def make_maths_problem(n_samples=1000, n_digits=3, invert=True, random_state=None):\n",
    "    rng = check_random_state(random_state)\n",
    "    \n",
    "    X_ = []\n",
    "    y_ = []\n",
    "    \n",
    "    assert all(op in ABC for op in OPS), \"Not all operations are in the alphabet\"\n",
    "    \n",
    "    math_op = {'+': operator.add, \n",
    "               '-': operator.sub,\n",
    "               '*': operator.mul,\n",
    "               '/': operator.truediv}\n",
    "    n_ops = len(OPS)\n",
    "    # the one represents the character for the operator\n",
    "    max_len = 2 * n_digits + 1\n",
    "\n",
    "    while len(X_) < n_samples:\n",
    "        a, b = rng.randint(10**n_digits, size=2)\n",
    "        op = rng.choice(OPS)\n",
    "        a_op_b = \"%i%s%i\" % (a, op, b)\n",
    "        if a_op_b not in X_:\n",
    "            answer = math_op[op](a, b)\n",
    "\n",
    "            if answer == np.inf or np.isnan(answer):\n",
    "                continue\n",
    "            \n",
    "            if invert:\n",
    "                X_.append(a_op_b.ljust(max_len)[::-1])\n",
    "            else:\n",
    "                X_.append(a_op_b.ljust(max_len))\n",
    "            # make sure the string is white space padded but no longer\n",
    "            # than the max length (could happen when representing 1/3)\n",
    "            y_.append(str(answer).ljust(2 * n_digits)[:2 * n_digits])\n",
    "    \n",
    "    X = np.zeros((n_samples, max_len, len(ABC)),\n",
    "                 dtype=np.bool)\n",
    "    y = np.zeros((n_samples, 2 * n_digits, len(ABC)),\n",
    "                 dtype=np.bool)\n",
    "    for i, x in enumerate(X_):\n",
    "        X[i] = encode(x)\n",
    "        \n",
    "    for i, x in enumerate(y_):\n",
    "        y[i] = encode(x)\n",
    "\n",
    "    return (X, y)"
   ]
  },
  {
   "cell_type": "markdown",
   "metadata": {},
   "source": [
    "## Encoding\n",
    "\n",
    "An algebra problem like `\"23+42\"` would be encoded as a sequence of five\n",
    "arrays, one each for each character."
   ]
  },
  {
   "cell_type": "code",
   "execution_count": 5,
   "metadata": {
    "collapsed": false
   },
   "outputs": [
    {
     "data": {
      "text/plain": [
       "array([[ 0.,  1.,  0.,  0.,  0.,  0.,  0.,  0.,  0.,  0.,  0.,  0.,  0.,\n",
       "         0.,  0.,  0.],\n",
       "       [ 0.,  0.,  1.,  0.,  0.,  0.,  0.,  0.,  0.,  0.,  0.,  0.,  0.,\n",
       "         0.,  0.,  0.],\n",
       "       [ 0.,  0.,  0.,  0.,  0.,  0.,  0.,  0.,  0.,  0.,  1.,  0.,  0.,\n",
       "         0.,  0.,  0.],\n",
       "       [ 0.,  0.,  0.,  1.,  0.,  0.,  0.,  0.,  0.,  0.,  0.,  0.,  0.,\n",
       "         0.,  0.,  0.],\n",
       "       [ 0.,  1.,  0.,  0.,  0.,  0.,  0.,  0.,  0.,  0.,  0.,  0.,  0.,\n",
       "         0.,  0.,  0.]])"
      ]
     },
     "execution_count": 5,
     "metadata": {},
     "output_type": "execute_result"
    }
   ],
   "source": [
    "encode(\"23+42\")"
   ]
  },
  {
   "cell_type": "markdown",
   "metadata": {},
   "source": [
    "Let's try out our math problem generator and check that we can correctly\n",
    "round trip problems:"
   ]
  },
  {
   "cell_type": "code",
   "execution_count": 14,
   "metadata": {
    "collapsed": false
   },
   "outputs": [
    {
     "name": "stdout",
     "output_type": "stream",
     "text": [
      "646/541 = 1.1940\n",
      "31*70   = 2170  \n",
      "12+757  = 769   \n",
      "96*516  = 49536 \n",
      "291/612 = 0.4754\n",
      "22+941  = 963   \n",
      "188*632 = 118816\n",
      "370/824 = 0.4490\n",
      "794*918 = 728892\n",
      "136/201 = 0.6766\n"
     ]
    }
   ],
   "source": [
    "X, y = make_maths_problem(10, n_digits=3)\n",
    "\n",
    "for i in range(10):\n",
    "    # undo question reversal\n",
    "    q = decode(X[i][::-1])\n",
    "    correct = decode(y[i])\n",
    "    print(q, '=', correct)"
   ]
  },
  {
   "cell_type": "markdown",
   "metadata": {},
   "source": [
    "Looks like it works.\n",
    "\n",
    "\n",
    "## Big Data\n",
    "\n",
    "To learn the model we need more than ten examples, so we make a big set of\n",
    "problems and simultaneously set some of them aside as test data set that\n",
    "we can use to evaluate the performance of the model."
   ]
  },
  {
   "cell_type": "code",
   "execution_count": 17,
   "metadata": {
    "collapsed": false
   },
   "outputs": [],
   "source": [
    "X, y = make_maths_problem(2*50000, n_digits=3, random_state=234)\n",
    "X_train,X_test, y_train,y_test = train_test_split(X, y, train_size=0.8)"
   ]
  },
  {
   "cell_type": "markdown",
   "metadata": {},
   "source": [
    "## The Model\n",
    "\n",
    "We use a single LSTM to encode the input sequence into a fixed length\n",
    "state vector. This vector is then decoded by a second LSTM to produce\n",
    "the output sequence. The final layer is a softmax layer to pick which\n",
    "character to place at each position of the output sequence."
   ]
  },
  {
   "cell_type": "code",
   "execution_count": 18,
   "metadata": {
    "collapsed": false
   },
   "outputs": [],
   "source": [
    "def rnn_model(hidden_size=128, n_digits=3, abc_size=len(ABC)):\n",
    "    model = Sequential()\n",
    "    # encoder\n",
    "    model.add(LSTM(hidden_size, input_shape=(None, abc_size)))\n",
    "    # input for the decoder\n",
    "    # this sets the length of the output sequence and has to\n",
    "    # match the length we used when constructing the examples\n",
    "    model.add(RepeatVector(2 * n_digits))\n",
    "\n",
    "    # decoder model\n",
    "    model.add((LSTM(hidden_size, return_sequences=True)))\n",
    "\n",
    "    # For each step of the output sequence, decide which character should be chosen\n",
    "    model.add(TimeDistributed(Dense(abc_size)))\n",
    "    model.add(Activation('softmax'))\n",
    "\n",
    "    model.compile(loss='categorical_crossentropy',\n",
    "                  optimizer='adam',\n",
    "                  metrics=['accuracy'])\n",
    "\n",
    "    return model"
   ]
  },
  {
   "cell_type": "markdown",
   "metadata": {},
   "source": [
    "## Training\n",
    "\n",
    "Let's train the model for a few epochs and see how it performs afterwards. Every ten epochs\n",
    "we will print out ten test math problems for manual inspection. By reusing the same ten\n",
    "examples we can see if the network is making progress or not."
   ]
  },
  {
   "cell_type": "code",
   "execution_count": 22,
   "metadata": {
    "collapsed": false,
    "scrolled": false
   },
   "outputs": [
    {
     "name": "stdout",
     "output_type": "stream",
     "text": [
      "\n",
      "--------------------------------------------------\n",
      "After 10 epochs:\n",
      "586/75  = 7.8133 =? 7.9211\n",
      "943-826 = 117    =? 135   \n",
      "249/532 = 0.4680 =? 0.4999\n",
      "241-660 = -419   =? -493  \n",
      "368*178 = 65504  =? 63392 \n",
      "110-948 = -838   =? -866  \n",
      "7/277   = 0.0252 =? 0.0192\n",
      "522/956 = 0.5460 =? 0.5959\n",
      "61*454  = 27694  =? 29992 \n",
      "260*994 = 258440 =? 289960\n",
      "78*459  = 35802  =? 39992 \n",
      "79+450  = 529    =? 633   \n",
      "764+190 = 954    =? 992   \n",
      "335*477 = 159795 =? 163925\n",
      "887*263 = 233281 =? 219999\n",
      "183-864 = -681   =? -695  \n",
      "53-116  = -63    =? -15   \n",
      "453+214 = 667    =? 673   \n",
      "837+392 = 1229   =? 1235  \n",
      "924/134 = 6.8955 =? 5.5522\n",
      "\n",
      "--------------------------------------------------\n",
      "After 20 epochs:\n",
      "586/75  = 7.8133 =? 7.28  \n",
      "943-826 = 117    =? 111   \n",
      "249/532 = 0.4680 =? 0.4414\n",
      "241-660 = -419   =? -413  \n",
      "368*178 = 65504  =? 66444 \n",
      "110-948 = -838   =? -812  \n",
      "7/277   = 0.0252 =? 0.0211\n",
      "522/956 = 0.5460 =? 0.5410\n",
      "61*454  = 27694  =? 24444 \n",
      "260*994 = 258440 =? 251460\n",
      "78*459  = 35802  =? 34444 \n",
      "79+450  = 529    =? 535   \n",
      "764+190 = 954    =? 966   \n",
      "335*477 = 159795 =? 154025\n",
      "887*263 = 233281 =? 244441\n",
      "183-864 = -681   =? -675  \n",
      "53-116  = -63    =? -75   \n",
      "453+214 = 667    =? 665   \n",
      "837+392 = 1229   =? 1225  \n",
      "924/134 = 6.8955 =? 6.2424\n",
      "\n",
      "--------------------------------------------------\n",
      "After 30 epochs:\n",
      "586/75  = 7.8133 =? 8.23  \n",
      "943-826 = 117    =? 113   \n",
      "249/532 = 0.4680 =? 0.4765\n",
      "241-660 = -419   =? -419  \n",
      "368*178 = 65504  =? 66664 \n",
      "110-948 = -838   =? -832  \n",
      "7/277   = 0.0252 =? 0.0251\n",
      "522/956 = 0.5460 =? 0.5561\n",
      "61*454  = 27694  =? 26332 \n",
      "260*994 = 258440 =? 265360\n",
      "78*459  = 35802  =? 34776 \n",
      "79+450  = 529    =? 533   \n",
      "764+190 = 954    =? 954   \n",
      "335*477 = 159795 =? 153985\n",
      "887*263 = 233281 =? 233351\n",
      "183-864 = -681   =? -681  \n",
      "53-116  = -63    =? -67   \n",
      "453+214 = 667    =? 667   \n",
      "837+392 = 1229   =? 1229  \n",
      "924/134 = 6.8955 =? 6.2618\n"
     ]
    }
   ],
   "source": [
    "BATCH_SIZE = 128\n",
    "\n",
    "model = rnn_model()\n",
    "\n",
    "# use same 10 examples for all iterations\n",
    "n_test = 10\n",
    "idx = np.random.randint(len(X_test), size=n_test)\n",
    "Xs, ys = X_test[idx], y_test[idx]\n",
    "\n",
    "for iteration in range(3):\n",
    "    print()\n",
    "    print('-' * 50)\n",
    "    print('After', 10 * (iteration + 1), 'epochs:')\n",
    "    model.fit(X_train, y_train, batch_size=BATCH_SIZE, nb_epoch=10, verbose=False,\n",
    "              validation_data=(X_test, y_test))\n",
    "\n",
    "    probas = model.predict_proba(Xs, verbose=0)\n",
    "\n",
    "    for i in range(n_test):\n",
    "        # undo question reversal\n",
    "        q = decode(Xs[i][::-1])\n",
    "        correct = decode(ys[i])\n",
    "        guess = decode(probas[i])\n",
    "        print(q, '=', correct, '=?', guess)"
   ]
  },
  {
   "cell_type": "code",
   "execution_count": 24,
   "metadata": {
    "collapsed": false
   },
   "outputs": [
    {
     "data": {
      "image/png": "[encoded data removed]",
      "text/plain": [
       "<matplotlib.figure.Figure at 0x11a34f4e0>"
      ]
     },
     "metadata": {
      "image/png": {
       "height": 504,
       "width": 482
      }
     },
     "output_type": "display_data"
    }
   ],
   "source": [
    "def fractional_difference(n_test=200):\n",
    "    idx = np.random.randint(len(X_test), size=n_test)\n",
    "    Xs, ys = X_test[idx], y_test[idx]\n",
    "    probas = model.predict_proba(Xs, verbose=0)\n",
    "    true_ = np.array([float(decode(ys[i])) for i in range(n_test)])\n",
    "    predicted_ = np.array([float(decode(probas[i])) for i in range(n_test)])\n",
    "\n",
    "    _ = plt.hist((true_ - predicted_)/true_, range=(-0.1, 0.1), bins=20)\n",
    "    plt.xlabel('(true-guess)/true')\n",
    "    plt.xlim(-0.11, 0.11)\n",
    "    \n",
    "fractional_difference()"
   ]
  },
  {
   "cell_type": "markdown",
   "metadata": {},
   "source": [
    "It looks as if after such a short amount of training we get within roughly 5% of the right\n",
    "answer, and frequently even closer. From monitoring the loss on an evaluation set I think\n",
    "this network would continue to improve if trained for a larger number of epochs.\n",
    "\n",
    "\n",
    "## Conclusion\n",
    "\n",
    "While the network does not perform perfectly yet, this illustrates how to build a network\n",
    "that performs sequence-to-sequence learning. Without any knowledge about algebra or even\n",
    "digits it learnt to do reasonably well on basic math problems. It even figured out how to\n",
    "use the decimal point!\n",
    "\n",
    "Some next steps could be:\n",
    "\n",
    "* generating words instead of numbers, the network would output `\"thirtytwo\"`\n",
    "  instead of `\"32\"`;\n",
    "* using images of digits as input instead of strings;\n",
    "* using voice as input or output; or\n",
    "* solving a completely different problem based around sequences.\n",
    "\n",
    "Get in touch on twitter @[betatim](//twitter.com/betatim) if you have questions or comments."
   ]
  }
 ],
 "metadata": {
  "kernelspec": {
   "display_name": "Python 3",
   "language": "python",
   "name": "python3"
  },
  "language_info": {
   "codemirror_mode": {
    "name": "ipython",
    "version": 3
   },
   "file_extension": ".py",
   "mimetype": "text/x-python",
   "name": "python",
   "nbconvert_exporter": "python",
   "pygments_lexer": "ipython3",
   "version": "3.5.2"
  }
 },
 "nbformat": 4,
 "nbformat_minor": 0
}
