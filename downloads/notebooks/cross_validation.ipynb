{
 "metadata": {
  "name": "",
  "signature": "sha256:097a8a41967d221c8afce37b24abebda2e5c5747a6e4117851fd2c2edeaa664e"
 },
 "nbformat": 3,
 "nbformat_minor": 0,
 "worksheets": [
  {
   "cells": [
    {
     "cell_type": "markdown",
     "metadata": {},
     "source": [
      "# Cross-Validation Gone Wrong\n",
      "\n",
      "*This notebook first appeared as a [blog post](//betatim.github.io/posts/cross-validation-gone-wrong) on [Tim Head](//betatim.github.io)'s blog.*\n",
      "\n",
      "*License: [MIT](http://opensource.org/licenses/MIT)*\n",
      "\n",
      "*(C) 2015, Tim Head.*\n",
      "*Feel free to use, distribute, and modify with the above attribution.*"
     ]
    },
    {
     "cell_type": "markdown",
     "metadata": {},
     "source": [
      "Every time you want to use machine learning to solve a challenge you face a problem: Choosing the input features, classifier type, ... and then estimating your new model's performance. Simultaneously it is one of the most important steps as the difference in performance can be quite different for different models, so optimising your choices matters.\n",
      "\n",
      "A universially used technique to help with this task, called model selection, is cross-validation. Using cross-validation is an excellent idea, but as with everything there are some traps waiting for you.\n",
      "\n",
      "This post is about some of traps and how to avoid them.\n",
      "\n",
      "As usual, first a few imports:"
     ]
    },
    {
     "cell_type": "code",
     "collapsed": true,
     "input": [
      "%matplotlib inline"
     ],
     "language": "python",
     "metadata": {},
     "outputs": [],
     "prompt_number": 1
    },
    {
     "cell_type": "code",
     "collapsed": false,
     "input": [
      "import numpy as np\n",
      "\n",
      "import matplotlib.pyplot as plt\n",
      "import seaborn as sns\n",
      "\n",
      "import sklearn\n",
      "from sklearn.ensemble import GradientBoostingClassifier\n",
      "from sklearn.cross_validation import cross_val_score\n",
      "from sklearn.feature_selection import SelectKBest, f_regression\n",
      "\n",
      "\n",
      "np.random.seed(6450345)"
     ],
     "language": "python",
     "metadata": {},
     "outputs": [],
     "prompt_number": 2
    },
    {
     "cell_type": "markdown",
     "metadata": {},
     "source": [
      "## Feature Selection\n",
      "\n",
      "Often selecting which features/variables to include in your model is part of the model selection step. Let's try it.\n",
      "\n",
      "One strategy to select a subset of features is to evaluate how correlated each one is with the class labels and then choose the $N$ features with the largest correlation.\n",
      "\n",
      "Let's create a dataset where the class labels are chosen at random:"
     ]
    },
    {
     "cell_type": "code",
     "collapsed": false,
     "input": [
      "def make_data(N=1000, n_vars=10,\n",
      "              n_classes=2):\n",
      "    X = np.random.normal(size=(N,n_vars))\n",
      "    y = np.random.choice(n_classes, N)\n",
      "    \n",
      "    return X, y"
     ],
     "language": "python",
     "metadata": {},
     "outputs": [],
     "prompt_number": 3
    },
    {
     "cell_type": "markdown",
     "metadata": {},
     "source": [
      "What does the correlation matrix between the different features and the class labels look like:"
     ]
    },
    {
     "cell_type": "code",
     "collapsed": false,
     "input": [
      "X,y = make_data(n_vars=5)\n",
      "\n",
      "sns.corrplot(np.c_[X, y],\n",
      "             names=[\"var%i\"%n for n in range(X.shape[1])]+['y'])"
     ],
     "language": "python",
     "metadata": {},
     "outputs": [
      {
       "metadata": {},
       "output_type": "pyout",
       "prompt_number": 4,
       "text": [
        "<matplotlib.axes._subplots.AxesSubplot at 0x109f74f90>"
       ]
      },
      {
       "metadata": {},
       "output_type": "display_data",
       "png": "[encoded data removed]",
       "text": [
        "<matplotlib.figure.Figure at 0x103aa14d0>"
       ]
      }
     ],
     "prompt_number": 4
    },
    {
     "cell_type": "markdown",
     "metadata": {},
     "source": [
      "As you can see the correlations are not huge, but some variables have a higher correlation than others.\n",
      "\n",
      "Let's select the 20 features with the largest correlation and then use cross-validation to evaluate the performance of our choice."
     ]
    },
    {
     "cell_type": "code",
     "collapsed": false,
     "input": [
      "X,y = make_data(N=2000, n_vars=50000)\n",
      "\n",
      "select3 = SelectKBest(f_regression, k=20)\n",
      "X_three = select3.fit_transform(X,y)\n",
      "\n",
      "clf = GradientBoostingClassifier()\n",
      "scores = cross_val_score(clf, X_three, y, cv=5, n_jobs=8)\n",
      "\n",
      "print \"Scores on each subset:\"\n",
      "print scores\n",
      "avg = (100*np.mean(scores), 100*np.std(scores)/np.sqrt(scores.shape[0]))\n",
      "print \"Average score and uncertainty: (%.2f +- %.3f)%%\"%avg"
     ],
     "language": "python",
     "metadata": {},
     "outputs": [
      {
       "output_type": "stream",
       "stream": "stdout",
       "text": [
        "Scores on each subset:\n",
        "[ 0.6275  0.605   0.5625  0.6125  0.635 ]\n",
        "Average score and uncertainty: (60.85 +- 1.133)%\n"
       ]
      }
     ],
     "prompt_number": 5
    },
    {
     "cell_type": "markdown",
     "metadata": {},
     "source": [
      "## Huzzah!\n",
      "\n",
      "Machine learning is magic! Using features which have no bearing what so ever on the class labels we managed to predict the correct class in about 60% of cases, 10% better than what would be expected from random guessing.\n",
      "\n",
      "Can you spot where we cheated?\n",
      "\n",
      "## Doing it the Right Way\n",
      "\n",
      "There is no way to beat logic. None of the features contains any information about the class labels, afterall they were choosen at random. So how did we manage to outperform guessing? We cheated when we selected the features we use to train our classifier. We used the full data to find\n",
      "the two features with the highest correlation with the labels and used those.\n",
      "\n",
      "If you want cross validation to give you an unbiased estimated of your true performance any and all your choices about features, hyper-parameters and the like have to be performed within the cross validation loop.\n",
      "\n",
      "Here is how to do it right:"
     ]
    },
    {
     "cell_type": "code",
     "collapsed": false,
     "input": [
      "from sklearn.pipeline import make_pipeline\n",
      "\n",
      "clf = make_pipeline(SelectKBest(f_regression, k=20),\n",
      "                    GradientBoostingClassifier())\n",
      "\n",
      "scores = cross_val_score(clf, X, y, cv=5)\n",
      "\n",
      "print \"Scores on each subset:\"\n",
      "print scores\n",
      "avg = (100*np.mean(scores), 100*np.std(scores)/np.sqrt(scores.shape[0]))\n",
      "print \"Average score and uncertainty: (%.2f +- %.3f)%%\"%avg"
     ],
     "language": "python",
     "metadata": {},
     "outputs": [
      {
       "output_type": "stream",
       "stream": "stdout",
       "text": [
        "Scores on each subset:\n",
        "[ 0.485   0.5     0.5375  0.5175  0.5075]\n",
        "Average score and uncertainty: (50.95 +- 0.785)%\n"
       ]
      }
     ],
     "prompt_number": 6
    },
    {
     "cell_type": "markdown",
     "metadata": {},
     "source": [
      "Once you include your choice of the 20 best variables in your cross validation pipeline, everything is back to normal.\n",
      "\n",
      "No one, not even super smart ensembles of decision trees can perform miracles. If your labels are unrelated to the features, you might as well just guess.\n",
      "\n",
      "## Take Home Message\n",
      "\n",
      "Choosing your input features is just one of the many choices you have to make when building your machine-learning application. Remember to make all decisions during the cross validation, otherwise you are in for a rude awakening when your model is confronted with unseen data for the first time.\n",
      "\n",
      "If you find a mistake or want to tell me something else get in touch on twitter @[betatim](//twitter.com/betatim)"
     ]
    }
   ],
   "metadata": {}
  }
 ]
}