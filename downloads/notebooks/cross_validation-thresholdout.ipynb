{
 "cells": [
  {
   "cell_type": "markdown",
   "metadata": {},
   "source": [
    "# Cross-Validation Gone Wrong - thresholdout\n",
    "\n",
    "*This notebook first appeared as a [blog post](//betatim.github.io/posts/cross-validation-gone-wrong) on [Tim Head](//betatim.github.io)'s blog.*\n",
    "\n",
    "*License: [MIT](http://opensource.org/licenses/MIT)*\n",
    "\n",
    "*(C) 2015, Tim Head.*\n",
    "*Feel free to use, distribute, and modify with the above attribution.*"
   ]
  },
  {
   "cell_type": "markdown",
   "metadata": {},
   "source": [
    "Every time you want to use machine learning to solve a challenge you face a problem: Choosing the input features, classifier type, ... and then estimating your new model's performance. Simultaneously it is one of the most important steps as the difference in performance can be quite different for different models, so optimising your choices matters.\n",
    "\n",
    "A universially used technique to help with this task, called model selection, is cross-validation. Using cross-validation is an excellent idea, but as with everything there are some traps waiting for you.\n",
    "\n",
    "This post is about some of traps and how to avoid them.\n",
    "\n",
    "As usual, first a few imports:"
   ]
  },
  {
   "cell_type": "code",
   "execution_count": 1,
   "metadata": {
    "collapsed": true
   },
   "outputs": [],
   "source": [
    "%matplotlib inline"
   ]
  },
  {
   "cell_type": "code",
   "execution_count": 2,
   "metadata": {
    "collapsed": false
   },
   "outputs": [],
   "source": [
    "import numpy as np\n",
    "\n",
    "from scipy.stats import sem\n",
    "\n",
    "import matplotlib.pyplot as plt\n",
    "import seaborn as sns\n",
    "\n",
    "import sklearn\n",
    "from sklearn.ensemble import GradientBoostingClassifier\n",
    "from sklearn.ensemble import RandomForestClassifier\n",
    "from sklearn.ensemble import ExtraTreesClassifier\n",
    "from sklearn.linear_model import LinearRegression, LogisticRegression\n",
    "from sklearn.cross_validation import cross_val_score, train_test_split\n",
    "from sklearn.feature_selection import SelectKBest, f_regression\n",
    "from sklearn.pipeline import make_pipeline\n",
    "\n",
    "\n",
    "np.random.seed(6450345)"
   ]
  },
  {
   "cell_type": "markdown",
   "metadata": {},
   "source": [
    "## Feature Selection\n",
    "\n",
    "Often selecting which features/variables to include in your model is part of the model selection step. Let's try it.\n",
    "\n",
    "One strategy to select a subset of features is to evaluate how correlated each one is with the class labels and then choose the $N$ features with the largest correlation.\n",
    "\n",
    "Let's create a dataset where the class labels are chosen at random:"
   ]
  },
  {
   "cell_type": "code",
   "execution_count": 3,
   "metadata": {
    "collapsed": false
   },
   "outputs": [],
   "source": [
    "def make_data(N=1000, n_vars=10,\n",
    "              n_classes=2):\n",
    "    X = np.random.normal(size=(N,n_vars))\n",
    "    y = np.random.choice(n_classes, N)\n",
    "    \n",
    "    return X, y"
   ]
  },
  {
   "cell_type": "markdown",
   "metadata": {},
   "source": [
    "What does the correlation matrix between the different features and the class labels look like:"
   ]
  },
  {
   "cell_type": "code",
   "execution_count": 4,
   "metadata": {
    "collapsed": false
   },
   "outputs": [
    {
     "name": "stderr",
     "output_type": "stream",
     "text": [
      "/Users/thead/anaconda/envs/py35/lib/python3.5/site-packages/seaborn/linearmodels.py:1285: UserWarning: The `corrplot` function has been deprecated in favor of `heatmap` and will be removed in a forthcoming release. Please update your code.\n",
      "  warnings.warn((\"The `corrplot` function has been deprecated in favor \"\n",
      "/Users/thead/anaconda/envs/py35/lib/python3.5/site-packages/seaborn/linearmodels.py:1351: UserWarning: The `symmatplot` function has been deprecated in favor of `heatmap` and will be removed in a forthcoming release. Please update your code.\n",
      "  warnings.warn((\"The `symmatplot` function has been deprecated in favor \"\n"
     ]
    },
    {
     "data": {
      "text/plain": [
       "<matplotlib.axes._subplots.AxesSubplot at 0x108034c50>"
      ]
     },
     "execution_count": 4,
     "metadata": {},
     "output_type": "execute_result"
    },
    {
     "data": {
      "image/png": "[encoded data removed]",
      "text/plain": [
       "<matplotlib.figure.Figure at 0x10b427da0>"
      ]
     },
     "metadata": {},
     "output_type": "display_data"
    }
   ],
   "source": [
    "X,y = make_data(n_vars=5)\n",
    "\n",
    "sns.corrplot(np.c_[X, y],\n",
    "             names=[\"var%i\"%n for n in range(X.shape[1])]+['y'])"
   ]
  },
  {
   "cell_type": "markdown",
   "metadata": {},
   "source": [
    "As you can see the correlations are not huge, but some variables have a higher correlation than others.\n",
    "\n",
    "Let's select the 20 features with the largest correlation and then use cross-validation to evaluate the performance of our choice."
   ]
  },
  {
   "cell_type": "code",
   "execution_count": 5,
   "metadata": {
    "collapsed": false
   },
   "outputs": [
    {
     "name": "stdout",
     "output_type": "stream",
     "text": [
      "1\n",
      "0.493499319344 0.00325153951088\n",
      "2\n",
      "0.49679847944 0.00398999480929\n",
      "3\n",
      "0.497398659524 0.00336124245137\n",
      "4\n",
      "0.496897559264 0.00650387841554\n",
      "5\n",
      "0.498898779668 0.00305205884484\n",
      "6\n",
      "0.503599040096 0.00366548464328\n",
      "7\n",
      "0.497598139436 0.00482933186651\n",
      "8\n",
      "0.50049749954 0.0062661240392\n",
      "9\n",
      "0.4982981795 0.00464984077817\n",
      "10\n",
      "0.499299839912 0.00211623453982\n",
      "11\n",
      "0.500598079664 0.00480396274039\n",
      "12\n",
      "0.500597119472 0.00791736642728\n",
      "13\n",
      "0.500298319688 0.0055561917111\n",
      "14\n",
      "0.499598339636 0.00581299691074\n",
      "15\n",
      "0.5030992601 0.00226017712304\n",
      "16\n",
      "0.50219841986 0.00477596964371\n",
      "17\n",
      "0.504598720112 0.00321840975837\n",
      "18\n",
      "0.506097940076 0.00518535436907\n",
      "19\n",
      "0.502898159864 0.00471621673142\n"
     ]
    }
   ],
   "source": [
    "X,y = make_data(N=10000, n_vars=10000)\n",
    "Xp,yp = make_data(N=10000, n_vars=10000)\n",
    "\n",
    "Xp_train,Xp_test, yp_train,yp_test = train_test_split(Xp, yp, test_size=0.5)\n",
    "\n",
    "scores = []\n",
    "scores2 = []\n",
    "train_scores = []\n",
    "fresh_scores = []\n",
    "for n_features in range(1, 20):\n",
    "    print(n_features)\n",
    "    select = SelectKBest(f_regression, k=n_features)\n",
    "    X_slim = select.fit_transform(X,y)\n",
    "    \n",
    "    Xp_slim = select.transform(Xp_train)\n",
    "\n",
    "    #clf = GradientBoostingClassifier()\n",
    "    clf = LogisticRegression()\n",
    "    \n",
    "    cv_scores = cross_val_score(clf, X_slim,y, cv=3)\n",
    "    scores.append((np.mean(cv_scores), sem(cv_scores)))\n",
    "    \n",
    "    clf.fit(X_slim, y)\n",
    "    \n",
    "    train_scores.append(clf.score(X_slim, y))\n",
    "    fresh_scores.append(clf.score(Xp_slim, yp_train))\n",
    "    \n",
    "    clf2 = make_pipeline(SelectKBest(f_regression, k=n_features),\n",
    "                         #GradientBoostingClassifier()\n",
    "                         LogisticRegression()\n",
    "                        )\n",
    "\n",
    "    cv_scores = cross_val_score(clf2, X,y, cv=3)\n",
    "\n",
    "    scores2.append((np.mean(cv_scores), sem(cv_scores)))\n",
    "\n",
    "    print(np.mean(cv_scores), sem(cv_scores))"
   ]
  },
  {
   "cell_type": "code",
   "execution_count": 6,
   "metadata": {
    "collapsed": false
   },
   "outputs": [
    {
     "data": {
      "text/plain": [
       "<matplotlib.legend.Legend at 0x19ab2d518>"
      ]
     },
     "execution_count": 6,
     "metadata": {},
     "output_type": "execute_result"
    },
    {
     "data": {
      "image/png": "[encoded data removed]",
      "text/plain": [
       "<matplotlib.figure.Figure at 0x10b713588>"
      ]
     },
     "metadata": {},
     "output_type": "display_data"
    }
   ],
   "source": [
    "plt.plot(range(1, len(scores)+1), train_scores, label='train score')\n",
    "plt.plot(range(1, len(scores)+1), [s[0] for s in scores], label='cv score')\n",
    "plt.plot(range(1, len(scores)+1), fresh_scores, label='fresh score')\n",
    "plt.plot(range(1, len(scores)+1), [s[0] for s in scores2], label='pipe score')\n",
    "\n",
    "\n",
    "plt.legend(loc='best')\n",
    "#plt.ylim([0.45, 0.75])"
   ]
  },
  {
   "cell_type": "code",
   "execution_count": null,
   "metadata": {
    "collapsed": true
   },
   "outputs": [],
   "source": [
    "def make_data(N=1000, n_vars=10,\n",
    "              n_classes=2):\n",
    "    X = np.random.normal(size=(N,n_vars))\n",
    "    y = np.random.choice(n_classes, N)\n",
    "    \n",
    "    return X, y\n",
    "\n",
    "n_features = 1\n",
    "X,y = make_data(N=10000, n_vars=10000)\n",
    "clf2 = make_pipeline(SelectKBest(f_regression, k=n_features),\n",
    "                     GradientBoostingClassifier())\n",
    "\n",
    "cv_scores = cross_val_score(clf2, X,y, cv=2, n_jobs=8)"
   ]
  },
  {
   "cell_type": "markdown",
   "metadata": {},
   "source": [
    "## Huzzah!\n",
    "\n",
    "Machine learning is magic! Using features which have no bearing what so ever on the class labels we managed to predict the correct class in about 60% of cases, 10% better than what would be expected from random guessing.\n",
    "\n",
    "Can you spot where we cheated?\n",
    "\n",
    "## Doing it the Right Way\n",
    "\n",
    "There is no way to beat logic. None of the features contains any information about the class labels, afterall they were choosen at random. So how did we manage to outperform guessing? We cheated when we selected the features we use to train our classifier. We used the full data to find\n",
    "the two features with the highest correlation with the labels and used those.\n",
    "\n",
    "If you want cross validation to give you an unbiased estimated of your true performance any and all your choices about features, hyper-parameters and the like have to be performed within the cross validation loop.\n",
    "\n",
    "Here is how to do it right:"
   ]
  },
  {
   "cell_type": "code",
   "execution_count": 6,
   "metadata": {
    "collapsed": false
   },
   "outputs": [
    {
     "name": "stdout",
     "output_type": "stream",
     "text": [
      "Scores on each subset:\n",
      "[ 0.485   0.5     0.5375  0.5175  0.5075]\n",
      "Average score and uncertainty: (50.95 +- 0.785)%\n"
     ]
    }
   ],
   "source": [
    "from sklearn.pipeline import make_pipeline\n",
    "\n",
    "clf = make_pipeline(SelectKBest(f_regression, k=20),\n",
    "                    GradientBoostingClassifier())\n",
    "\n",
    "scores = cross_val_score(clf, X, y, cv=5)\n",
    "\n",
    "print \"Scores on each subset:\"\n",
    "print scores\n",
    "avg = (100*np.mean(scores), 100*np.std(scores)/np.sqrt(scores.shape[0]))\n",
    "print \"Average score and uncertainty: (%.2f +- %.3f)%%\"%avg"
   ]
  },
  {
   "cell_type": "markdown",
   "metadata": {},
   "source": [
    "Once you include your choice of the 20 best variables in your cross validation pipeline, everything is back to normal.\n",
    "\n",
    "No one, not even super smart ensembles of decision trees can perform miracles. If your labels are unrelated to the features, you might as well just guess.\n",
    "\n",
    "## Take Home Message\n",
    "\n",
    "Choosing your input features is just one of the many choices you have to make when building your machine-learning application. Remember to make all decisions during the cross validation, otherwise you are in for a rude awakening when your model is confronted with unseen data for the first time.\n",
    "\n",
    "If you find a mistake or want to tell me something else get in touch on twitter @[betatim](//twitter.com/betatim)"
   ]
  }
 ],
 "metadata": {
  "kernelspec": {
   "display_name": "Python 3",
   "language": "python",
   "name": "python3"
  },
  "language_info": {
   "codemirror_mode": {
    "name": "ipython",
    "version": 3
   },
   "file_extension": ".py",
   "mimetype": "text/x-python",
   "name": "python",
   "nbconvert_exporter": "python",
   "pygments_lexer": "ipython3",
   "version": "3.5.2"
  }
 },
 "nbformat": 4,
 "nbformat_minor": 0
}
