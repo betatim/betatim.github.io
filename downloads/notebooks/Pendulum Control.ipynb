{
 "cells": [
  {
   "cell_type": "code",
   "execution_count": 1,
   "metadata": {
    "collapsed": true
   },
   "outputs": [],
   "source": [
    "%matplotlib inline"
   ]
  },
  {
   "cell_type": "code",
   "execution_count": 33,
   "metadata": {
    "collapsed": false
   },
   "outputs": [],
   "source": [
    "import numpy as np\n",
    "\n",
    "import sympy\n",
    "import sympy as sp\n",
    "sympy.init_printing()\n",
    "\n",
    "from sympy import var, symbols\n",
    "\n",
    "import matplotlib.pyplot as plt"
   ]
  },
  {
   "cell_type": "code",
   "execution_count": 3,
   "metadata": {
    "collapsed": false
   },
   "outputs": [],
   "source": [
    "n = 2\n",
    "t = var('t')\n",
    "\n",
    "coordinates = symbols(\",\".join(['x'] + ['theta%i'%i for i in range(1,n+1)]), real=True)\n",
    "coordinates = tuple([c(t) for c in coordinates])\n",
    "#velocities = tuple([c.diff(t) for c in coordinates])\n",
    "velocities = symbols(\",\".join(['v'] + ['omega%i'%i for i in range(1,n+1)]), real=True)\n",
    "velocities = tuple([c(t) for c in velocities])\n",
    "\n",
    "\n",
    "lengths = symbols(','.join(['d%i'%i for i in range(1,n+1)]), real=True)\n",
    "masses = symbols(','.join(['m%i'%i for i in range(1,n+1)]), real=True)\n",
    "m_cart = symbols('C', real=True)"
   ]
  },
  {
   "cell_type": "code",
   "execution_count": null,
   "metadata": {
    "collapsed": true
   },
   "outputs": [],
   "source": [
    "#x = var('h')\n",
    "#y = var('h1')\n",
    "\n",
    "#z = (x + y + 3.141)**2\n",
    "#x_vec = np.arange(0, 10, 0.1)\n",
    "#y_vec = np.arange(0, 10, 0.1)\n",
    "#f = sp.lambdify([x, y], z, 'numpy') \n",
    "#f(x_vec, y_vec)"
   ]
  },
  {
   "cell_type": "code",
   "execution_count": 27,
   "metadata": {
    "collapsed": false
   },
   "outputs": [],
   "source": [
    "def forces(i):\n",
    "    if i == 0:\n",
    "        return 0.\n",
    "    else:\n",
    "        return 0.\n",
    "\n",
    "def hinges(i):\n",
    "    if i == 1:\n",
    "        return sp.Matrix((coordinates[0], 0.))\n",
    "    else:\n",
    "        return hinges(i-1) + lengths[i-1] * sp.Matrix((sp.cos(coordinates[i-1]),\n",
    "                                                       sp.sin(coordinates[i-1])))\n",
    "\n",
    "def armcenters(i):\n",
    "    return hinges(i) + lengths[i-1]/2. * sp.Matrix((sp.cos(coordinates[i]),\n",
    "                                                    sp.sin(coordinates[i])))\n",
    "\n",
    "def ke(i):\n",
    "    v = armcenters(i).diff(t)\n",
    "    return 0.5 * masses[i-1] * v.dot(v)\n",
    "\n",
    "def pe(i):\n",
    "    return masses[i-1] * armcenters(i)[1]\n",
    "\n",
    "def lagrangian(N):\n",
    "    # Lagrangian for a `N` pendulum setup\n",
    "    return (0.5 * m_cart * velocities[0]**2\n",
    "            + sum(ke(i) for i in range(1,N+1))\n",
    "            - sum(pe(i) for i in range(1,N+1)))\n",
    "\n",
    "def EL(N):\n",
    "    L = lambda n: lagrangian(n)\n",
    "    #return [(L(i).diff(velocities[i]).diff(t) - L(i).diff(coordinates[i]),\n",
    "    #         forces(i))\n",
    "    #        for i in range(N+1)]\n",
    "    return [L(i).diff(velocities[i]).diff(t) - L(i).diff(coordinates[i]) for i in range(N+1)]"
   ]
  },
  {
   "cell_type": "code",
   "execution_count": 5,
   "metadata": {
    "collapsed": false
   },
   "outputs": [],
   "source": [
    "from scipy.integrate import odeint"
   ]
  },
  {
   "cell_type": "code",
   "execution_count": 30,
   "metadata": {
    "collapsed": false
   },
   "outputs": [
    {
     "data": {
      "image/png": "[encoded data removed]",
      "text/latex": [
       "$$0.5 C v^{2}{\\left (t \\right )} - 0.5 d_{1} m_{1} \\sin{\\left (\\theta_{1}{\\left (t \\right )} \\right )} + 0.5 m_{1} \\left(0.25 d_{1}^{2} \\left(\\frac{d}{d t} \\theta_{1}{\\left (t \\right )}\\right)^{2} - 1.0 d_{1} \\sin{\\left (\\theta_{1}{\\left (t \\right )} \\right )} \\frac{d}{d t} \\theta_{1}{\\left (t \\right )} \\frac{d}{d t} x{\\left (t \\right )} + 1.0 \\left(\\frac{d}{d t} x{\\left (t \\right )}\\right)^{2}\\right)$$"
      ],
      "text/plain": [
       "                                               ⎛                    2         \n",
       "       2                                       ⎜       2 ⎛d        ⎞          \n",
       "0.5⋅C⋅v (t) - - -0.5⋅d₁⋅m₁⋅sin(θ₁(t)) + 0.5⋅m₁⋅⎜0.25⋅d₁ ⋅⎜──(θ₁(t))⎟  - - -1.0\n",
       "                                               ⎝         ⎝dt       ⎠          \n",
       "\n",
       "                                                  2⎞\n",
       "               d         d              ⎛d       ⎞ ⎟\n",
       "⋅d₁⋅sin(θ₁(t))⋅──(θ₁(t))⋅──(x(t)) + 1.0⋅⎜──(x(t))⎟ ⎟\n",
       "               dt        dt             ⎝dt      ⎠ ⎠"
      ]
     },
     "execution_count": 30,
     "metadata": {},
     "output_type": "execute_result"
    }
   ],
   "source": [
    "sp.simplify(lagrangian(1))"
   ]
  },
  {
   "cell_type": "code",
   "execution_count": 16,
   "metadata": {
    "collapsed": false
   },
   "outputs": [],
   "source": [
    "F = sp.lambdify([m_cart, velocities[0]], EL(0)[0], 'numpy') "
   ]
  },
  {
   "cell_type": "code",
   "execution_count": 17,
   "metadata": {
    "collapsed": false
   },
   "outputs": [
    {
     "ename": "NameError",
     "evalue": "global name 'Derivative' is not defined",
     "output_type": "error",
     "traceback": [
      "\u001b[0;31m---------------------------------------------------------------------------\u001b[0m",
      "\u001b[0;31mNameError\u001b[0m                                 Traceback (most recent call last)",
      "\u001b[0;32m<ipython-input-17-b121fdf9e466>\u001b[0m in \u001b[0;36m<module>\u001b[0;34m()\u001b[0m\n\u001b[0;32m----> 1\u001b[0;31m \u001b[0mF\u001b[0m\u001b[0;34m(\u001b[0m\u001b[0;36m1\u001b[0m\u001b[0;34m,\u001b[0m\u001b[0;36m0\u001b[0m\u001b[0;34m)\u001b[0m\u001b[0;34m\u001b[0m\u001b[0m\n\u001b[0m",
      "\u001b[0;32m/Users/thead/virtualenvs/default/lib/python2.7/site-packages/numpy/__init__.pyc\u001b[0m in \u001b[0;36m<lambda>\u001b[0;34m(_Dummy_30, _Dummy_31)\u001b[0m\n",
      "\u001b[0;31mNameError\u001b[0m: global name 'Derivative' is not defined"
     ]
    }
   ],
   "source": [
    "F(1,0)"
   ]
  },
  {
   "cell_type": "code",
   "execution_count": 21,
   "metadata": {
    "collapsed": false
   },
   "outputs": [
    {
     "data": {
      "image/png": "[encoded data removed]",
      "text/latex": [
       "$$1.0 \\frac{d}{d t} 2$$"
      ],
      "text/plain": [
       "    d    \n",
       "1.0⋅──(2)\n",
       "    dt   "
      ]
     },
     "execution_count": 21,
     "metadata": {},
     "output_type": "execute_result"
    }
   ],
   "source": [
    "e.subs([(m_cart, 1.), (velocities[0], 2)])"
   ]
  },
  {
   "cell_type": "code",
   "execution_count": 37,
   "metadata": {
    "collapsed": false
   },
   "outputs": [
    {
     "data": {
      "text/plain": [
       "[<matplotlib.lines.Line2D at 0x106dd9110>,\n",
       " <matplotlib.lines.Line2D at 0x1071df790>]"
      ]
     },
     "execution_count": 37,
     "metadata": {},
     "output_type": "execute_result"
    },
    {
     "data": {
      "image/png": "[encoded data removed]",
      "text/plain": [
       "<matplotlib.figure.Figure at 0x107093150>"
      ]
     },
     "metadata": {},
     "output_type": "display_data"
    }
   ],
   "source": [
    "func = lambda y,t: y\n",
    "X = np.linspace(0, 4, 16)\n",
    "plt.plot(X, odeint(func, [1., 2.], X))"
   ]
  },
  {
   "cell_type": "code",
   "execution_count": null,
   "metadata": {
    "collapsed": true
   },
   "outputs": [],
   "source": []
  }
 ],
 "metadata": {
  "kernelspec": {
   "display_name": "Python 2",
   "language": "python",
   "name": "python2"
  },
  "language_info": {
   "codemirror_mode": {
    "name": "ipython",
    "version": 2
   },
   "file_extension": ".py",
   "mimetype": "text/x-python",
   "name": "python",
   "nbconvert_exporter": "python",
   "pygments_lexer": "ipython2",
   "version": "2.7.8"
  }
 },
 "nbformat": 4,
 "nbformat_minor": 0
}
