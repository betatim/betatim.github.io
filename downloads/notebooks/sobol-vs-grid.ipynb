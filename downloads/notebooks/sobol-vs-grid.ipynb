{
 "cells": [
  {
   "cell_type": "code",
   "execution_count": 1,
   "metadata": {
    "collapsed": true
   },
   "outputs": [],
   "source": [
    "%config InlineBackend.figure_format='retina'\n",
    "%matplotlib inline"
   ]
  },
  {
   "cell_type": "code",
   "execution_count": 14,
   "metadata": {
    "collapsed": true
   },
   "outputs": [],
   "source": [
    "import matplotlib.pyplot as plt\n",
    "import numpy as np"
   ]
  },
  {
   "cell_type": "code",
   "execution_count": 2,
   "metadata": {
    "collapsed": false
   },
   "outputs": [],
   "source": [
    "%load_ext Cython"
   ]
  },
  {
   "cell_type": "code",
   "execution_count": 3,
   "metadata": {
    "collapsed": false
   },
   "outputs": [],
   "source": [
    "%%cython -l gsl\n",
    "# Include the right header file and declare the function\n",
    "cdef extern from \"gsl/gsl_sf_bessel.h\":\n",
    "    double gsl_sf_bessel_J0(double x)\n",
    "\n",
    "# small python wrapper to give it a nicer name\n",
    "def bessel_J0(double x):\n",
    "    return gsl_sf_bessel_J0(x)"
   ]
  },
  {
   "cell_type": "code",
   "execution_count": 4,
   "metadata": {
    "collapsed": false
   },
   "outputs": [],
   "source": [
    "%%cython -l gsl\n",
    "from cpython.mem cimport PyMem_Malloc, PyMem_Free\n",
    "\n",
    "# Declare the few types and functions we need\n",
    "cdef extern from \"gsl/gsl_qrng.h\":\n",
    "    ctypedef struct gsl_qrng\n",
    "    ctypedef struct gsl_qrng_type\n",
    "    gsl_qrng_type* gsl_qrng_sobol\n",
    "    \n",
    "    gsl_qrng* gsl_qrng_alloc(gsl_qrng_type* T, unsigned int d)\n",
    "    void gsl_qrng_free(gsl_qrng* q)\n",
    "    \n",
    "    int gsl_qrng_get(const gsl_qrng * q, double x[])\n",
    "\n",
    "# This is the wrapper class\n",
    "cdef class Sobol:\n",
    "    cdef gsl_qrng* _q\n",
    "    cdef unsigned _D\n",
    "    cdef double *_v\n",
    "    def __cinit__(self, D=1):\n",
    "        \"\"\"Create a `D` dimensional Sobol sequence.\"\"\"\n",
    "        self._D = D\n",
    "        \n",
    "        # gsl_qrng_get() returns the next\n",
    "        # value in one of its arguments\n",
    "        self._v = <double *>PyMem_Malloc(D * sizeof(double))\n",
    "        if not self._v:\n",
    "            raise MemoryError()\n",
    "        \n",
    "        # Actually allocate the QRNG generator\n",
    "        self._q = gsl_qrng_alloc(gsl_qrng_sobol, D)\n",
    "        if self._q is NULL:\n",
    "            raise MemoryError()\n",
    "        \n",
    "    def get(self, int N=1):\n",
    "        \"\"\"The next `N` points in the sequence.\"\"\"\n",
    "        points = []\n",
    "        for n in xrange(N):\n",
    "            points.append(self.__next__())\n",
    "            \n",
    "        return points\n",
    "        \n",
    "    def __next__(self):\n",
    "        \"\"\"Iterate over the sequence.\"\"\"\n",
    "        gsl_qrng_get(self._q, self._v)\n",
    "        return [self._v[i] for i in xrange(self._D)]\n",
    "    \n",
    "    def __iter__(self):\n",
    "        return self\n",
    "    \n",
    "    # Make sure we free all the memory we allocated\n",
    "    def __dealloc__(self):\n",
    "        if self._q is not NULL:\n",
    "            gsl_qrng_free(self._q)\n",
    "            \n",
    "        PyMem_Free(self._v)"
   ]
  },
  {
   "cell_type": "code",
   "execution_count": 7,
   "metadata": {
    "collapsed": false
   },
   "outputs": [],
   "source": [
    "sobol2d = Sobol(2)"
   ]
  },
  {
   "cell_type": "code",
   "execution_count": 9,
   "metadata": {
    "collapsed": false
   },
   "outputs": [],
   "source": [
    "from scipy.stats.distributions import uniform, norm"
   ]
  },
  {
   "cell_type": "code",
   "execution_count": 12,
   "metadata": {
    "collapsed": false
   },
   "outputs": [
    {
     "data": {
      "text/plain": [
       "1.0"
      ]
     },
     "execution_count": 12,
     "metadata": {},
     "output_type": "execute_result"
    }
   ],
   "source": [
    "uniform.pdf(0.2)"
   ]
  },
  {
   "cell_type": "code",
   "execution_count": 20,
   "metadata": {
    "collapsed": false
   },
   "outputs": [
    {
     "data": {
      "text/plain": [
       "[<matplotlib.lines.Line2D at 0x10b89a828>]"
      ]
     },
     "execution_count": 20,
     "metadata": {},
     "output_type": "execute_result"
    },
    {
     "data": {
      "image/png": "[encoded data removed]",
      "text/plain": [
       "<matplotlib.figure.Figure at 0x10b525a58>"
      ]
     },
     "metadata": {
      "image/png": {
       "height": 255,
       "width": 373
      }
     },
     "output_type": "display_data"
    }
   ],
   "source": [
    "x = np.linspace(0,1, 100)\n",
    "plt.plot(x, norm(0.7, 0.03).pdf(x))"
   ]
  },
  {
   "cell_type": "code",
   "execution_count": null,
   "metadata": {
    "collapsed": true
   },
   "outputs": [],
   "source": []
  }
 ],
 "metadata": {
  "kernelspec": {
   "display_name": "Python 3",
   "language": "python",
   "name": "python3"
  },
  "language_info": {
   "codemirror_mode": {
    "name": "ipython",
    "version": 3
   },
   "file_extension": ".py",
   "mimetype": "text/x-python",
   "name": "python",
   "nbconvert_exporter": "python",
   "pygments_lexer": "ipython3",
   "version": "3.5.1"
  }
 },
 "nbformat": 4,
 "nbformat_minor": 0
}
