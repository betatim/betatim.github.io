{
 "metadata": {
  "name": "",
  "signature": "sha256:b3266006ffaaea7d20f0a6095a80a9fcfb6ba5281e7d8eda3e7fa3673e96ac19"
 },
 "nbformat": 3,
 "nbformat_minor": 0,
 "worksheets": [
  {
   "cells": [
    {
     "cell_type": "markdown",
     "metadata": {},
     "source": [
      "# Cross-validation Gone Wrong\n",
      "\n",
      "*This notebook first appeared as a [blog post](//betatim.github.io/posts/wrong-cross-validation) on [Tim Head](//betatim.github.io)'s blog.*\n",
      "\n",
      "*License: [MIT](http://opensource.org/licenses/MIT)*\n",
      "\n",
      "*(C) 2015, Tim Head.*\n",
      "*Feel free to use, distribute, and modify with the above attribution.*"
     ]
    },
    {
     "cell_type": "markdown",
     "metadata": {},
     "source": [
      "Selecting your model and estimating its performance is one of the trickiest parts of developing a new application based on machine-learning techniques. Simultaneously it is one of the most important steps as the difference in performance can be quite different for different models.\n",
      "\n",
      "A universially used technique to help with this task is cross-validation. Using cross-validation is an excellent idea.\n",
      "\n",
      "This post is about traps one can fall into when using cross-validation to evaluate the performance of a model.\n",
      "\n",
      "As usual, first a few imports:"
     ]
    },
    {
     "cell_type": "code",
     "collapsed": true,
     "input": [
      "%matplotlib inline"
     ],
     "language": "python",
     "metadata": {},
     "outputs": [],
     "prompt_number": 6
    },
    {
     "cell_type": "code",
     "collapsed": false,
     "input": [
      "import numpy as np\n",
      "\n",
      "import matplotlib.pyplot as plt\n",
      "import seaborn as sns\n",
      "\n",
      "import sklearn\n",
      "from sklearn.ensemble import GradientBoostingClassifier\n",
      "from sklearn.cross_validation import cross_val_score\n",
      "from sklearn.feature_selection import SelectKBest, f_regression\n",
      "\n",
      "\n",
      "np.random.seed(634500345)"
     ],
     "language": "python",
     "metadata": {},
     "outputs": [],
     "prompt_number": 7
    },
    {
     "cell_type": "markdown",
     "metadata": {},
     "source": [
      "## Feature Selection\n",
      "\n",
      "Often selecting which features/variables to include in your model is part of the model selection step. Let's try it.\n",
      "\n",
      "One strategy to select a subset of features is to evaluate how correlated each one is with the class labels and then choose the $N$ features with the largest correlation.\n",
      "\n",
      "Let's create a dataset where the class labels are chosen at random:"
     ]
    },
    {
     "cell_type": "code",
     "collapsed": false,
     "input": [
      "def make_data(N=1000, n_vars=10,\n",
      "              n_classes=2):\n",
      "    X = np.random.normal(size=(N,n_vars))\n",
      "    y = np.random.choice(n_classes, N)\n",
      "    \n",
      "    return X, y"
     ],
     "language": "python",
     "metadata": {},
     "outputs": [],
     "prompt_number": 8
    },
    {
     "cell_type": "markdown",
     "metadata": {},
     "source": [
      "What does the correlation matrix between the different features and the class labels look like:"
     ]
    },
    {
     "cell_type": "code",
     "collapsed": false,
     "input": [
      "X,y = make_data(n_vars=5)\n",
      "\n",
      "sns.corrplot(np.c_[X, y],\n",
      "             names=[\"var%i\"%n for n in range(X.shape[1])]+['y'])"
     ],
     "language": "python",
     "metadata": {},
     "outputs": [
      {
       "metadata": {},
       "output_type": "pyout",
       "prompt_number": 9,
       "text": [
        "<matplotlib.axes._subplots.AxesSubplot at 0x10a327590>"
       ]
      },
      {
       "metadata": {},
       "output_type": "display_data",
       "png": "[encoded data removed]",
       "text": [
        "<matplotlib.figure.Figure at 0x10a33d150>"
       ]
      }
     ],
     "prompt_number": 9
    },
    {
     "cell_type": "markdown",
     "metadata": {},
     "source": [
      "As you can see the correlations are not huge, but some variables have a higher correlation than others.\n",
      "\n",
      "Let's select the three features with the largest correlation and then use cross-validation to evaluate the performance of our choice."
     ]
    },
    {
     "cell_type": "code",
     "collapsed": false,
     "input": [
      "X,y = make_data(N=500, n_vars=500)\n",
      "\n",
      "select3 = SelectKBest(f_regression, k=2)\n",
      "X_three = select3.fit_transform(X,y)\n",
      "\n",
      "clf = GradientBoostingClassifier()\n",
      "scores = cross_val_score(clf, X_three, y, cv=5, n_jobs=8)\n",
      "print scores\n",
      "np.mean(scores), np.std(scores)/np.sqrt(10)"
     ],
     "language": "python",
     "metadata": {},
     "outputs": [
      {
       "output_type": "stream",
       "stream": "stdout",
       "text": [
        "[ 0.47524752  0.5         0.51        0.48        0.49494949]\n"
       ]
      },
      {
       "metadata": {},
       "output_type": "pyout",
       "prompt_number": 35,
       "text": [
        "(0.49203940394039403, 0.0040529919418213359)"
       ]
      }
     ],
     "prompt_number": 35
    },
    {
     "cell_type": "code",
     "collapsed": false,
     "input": [
      "X,y = useless_data(N=2000, n_vars=500)\n",
      "\n",
      "good_vars = large_correlations(X,y)\n",
      "good_X = X[:,good_vars]\n",
      "print good_X.shape"
     ],
     "language": "python",
     "metadata": {},
     "outputs": [
      {
       "output_type": "stream",
       "stream": "stdout",
       "text": [
        "(2000, 15)\n"
       ]
      }
     ],
     "prompt_number": 84
    },
    {
     "cell_type": "code",
     "collapsed": false,
     "input": [
      "clf = GradientBoostingClassifier()\n",
      "\n",
      "scores = cross_val_score(clf, good_X, y, cv=5, n_jobs=8)\n",
      "print scores\n",
      "np.mean(scores), np.std(scores)/np.sqrt(10)"
     ],
     "language": "python",
     "metadata": {},
     "outputs": [
      {
       "output_type": "stream",
       "stream": "stdout",
       "text": [
        "[ 0.58354115  0.53117207  0.55        0.53383459  0.60150376]\n"
       ]
      },
      {
       "metadata": {},
       "output_type": "pyout",
       "prompt_number": 93,
       "text": [
        "(0.56001031256445355, 0.0088231803158587575)"
       ]
      }
     ],
     "prompt_number": 93
    },
    {
     "cell_type": "code",
     "collapsed": false,
     "input": [
      "scores = cross_val_score(clf, X, y, cv=5, n_jobs=8)\n",
      "print scores\n",
      "np.mean(scores), np.std(scores)/np.sqrt(10)"
     ],
     "language": "python",
     "metadata": {},
     "outputs": [
      {
       "output_type": "stream",
       "stream": "stdout",
       "text": [
        "[ 0.51620948  0.47880299  0.5         0.52380952  0.5112782 ]\n"
       ]
      },
      {
       "metadata": {},
       "output_type": "pyout",
       "prompt_number": 94,
       "text": [
        "(0.50602003762523518, 0.004949640594736981)"
       ]
      }
     ],
     "prompt_number": 94
    },
    {
     "cell_type": "code",
     "collapsed": false,
     "input": [
      "def large_correlations(X, y, threshold=0.05):\n",
      "    \"\"\"Return indices of variables with correlation above `threshold`\"\"\"\n",
      "    # last row, all correlation co-effs\n",
      "    # except for the last one which is y\n",
      "    # with itself\n",
      "    corr = np.corrcoef(np.c_[X, y], rowvar=0)[-1,:-1]\n",
      "    large_vars = np.abs(corr) > threshold\n",
      "    return large_vars"
     ],
     "language": "python",
     "metadata": {},
     "outputs": [],
     "prompt_number": 61
    },
    {
     "cell_type": "code",
     "collapsed": false,
     "input": [
      "selector = SelectKBest(f_regression, k=3)\n",
      "\n",
      "selector.fit_transform(X,y)"
     ],
     "language": "python",
     "metadata": {},
     "outputs": [
      {
       "metadata": {},
       "output_type": "pyout",
       "prompt_number": 98,
       "text": [
        "array([[-0.90563926,  0.86878001,  0.28261163],\n",
        "       [ 0.39460477,  0.80565798,  0.68820152],\n",
        "       [ 1.05495168,  0.54024977,  1.01748853],\n",
        "       ..., \n",
        "       [ 0.92659296,  1.31747857,  0.25976647],\n",
        "       [ 0.36080226, -0.46122117,  0.56769363],\n",
        "       [-0.44954559,  0.96580254,  1.42566154]])"
       ]
      }
     ],
     "prompt_number": 98
    },
    {
     "cell_type": "code",
     "collapsed": false,
     "input": [
      "good_X[0,:]"
     ],
     "language": "python",
     "metadata": {},
     "outputs": [
      {
       "metadata": {},
       "output_type": "pyout",
       "prompt_number": 106,
       "text": [
        "array([ 0.56004566,  0.47804218,  0.48330825,  1.87573073,  1.0916491 ,\n",
        "       -1.1513238 , -0.90563926,  0.86878001, -0.14994085,  0.74175386,\n",
        "       -0.7189952 , -1.34143129,  0.28261163,  0.09385847, -0.13291131])"
       ]
      }
     ],
     "prompt_number": 106
    },
    {
     "cell_type": "code",
     "collapsed": false,
     "input": [
      "best3 = np.argsort(np.abs(np.corrcoef(np.c_[X, y], rowvar=0))[-1,:-1])[-3:]\n",
      "X[:,best3]"
     ],
     "language": "python",
     "metadata": {},
     "outputs": [
      {
       "metadata": {},
       "output_type": "pyout",
       "prompt_number": 37,
       "text": [
        "array([[ 0.62066983,  0.94770158,  1.81196491],\n",
        "       [ 1.33725487, -1.58605014, -0.79090356],\n",
        "       [ 0.0322344 , -1.69773042,  1.90328989],\n",
        "       ..., \n",
        "       [-0.09692397,  0.04096684, -0.17279877],\n",
        "       [-0.11024057,  0.01255146,  1.08144836],\n",
        "       [-0.01015259, -0.97215475,  0.69815032]])"
       ]
      }
     ],
     "prompt_number": 37
    },
    {
     "cell_type": "markdown",
     "metadata": {},
     "source": [
      "If you find a mistake or want to tell me something else get in touch on twitter @[betatim](//twitter.com/betatim)"
     ]
    }
   ],
   "metadata": {}
  }
 ]
}