{
 "metadata": {
  "name": "",
  "signature": "sha256:a1b4d9dd5ce567b3a70768c435d9d5e7b38fad0ac00c3c665bc9dc8ff16b2a91"
 },
 "nbformat": 3,
 "nbformat_minor": 0,
 "worksheets": []
}