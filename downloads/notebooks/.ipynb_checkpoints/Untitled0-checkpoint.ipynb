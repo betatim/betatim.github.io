{
 "metadata": {
  "name": "",
  "signature": "sha256:77ec1b4c36b2f77cb0653efa377e88324a8edfea86a0913a1ca2bba39760b570"
 },
 "nbformat": 3,
 "nbformat_minor": 0,
 "worksheets": [
  {
   "cells": [
    {
     "cell_type": "code",
     "collapsed": false,
     "input": [
      "import pandas as pd"
     ],
     "language": "python",
     "metadata": {},
     "outputs": [],
     "prompt_number": 1
    },
    {
     "cell_type": "code",
     "collapsed": false,
     "input": [
      "df = pd.DataFrame(data=range(401), columns=['price'])"
     ],
     "language": "python",
     "metadata": {},
     "outputs": [],
     "prompt_number": 6
    },
    {
     "cell_type": "code",
     "collapsed": false,
     "input": [
      "X = df.price[:400].reshape(100,4)\n",
      "X[:10]"
     ],
     "language": "python",
     "metadata": {},
     "outputs": [
      {
       "metadata": {},
       "output_type": "pyout",
       "prompt_number": 13,
       "text": [
        "array([[ 0,  1,  2,  3],\n",
        "       [ 4,  5,  6,  7],\n",
        "       [ 8,  9, 10, 11],\n",
        "       [12, 13, 14, 15],\n",
        "       [16, 17, 18, 19],\n",
        "       [20, 21, 22, 23],\n",
        "       [24, 25, 26, 27],\n",
        "       [28, 29, 30, 31],\n",
        "       [32, 33, 34, 35],\n",
        "       [36, 37, 38, 39]])"
       ]
      }
     ],
     "prompt_number": 13
    },
    {
     "cell_type": "code",
     "collapsed": false,
     "input": [
      "df.price[4::4].as_matrix()"
     ],
     "language": "python",
     "metadata": {},
     "outputs": [
      {
       "metadata": {},
       "output_type": "pyout",
       "prompt_number": 27,
       "text": [
        "array([  4,   8,  12,  16,  20,  24,  28,  32,  36,  40,  44,  48,  52,\n",
        "        56,  60,  64,  68,  72,  76,  80,  84,  88,  92,  96, 100, 104,\n",
        "       108, 112, 116, 120, 124, 128, 132, 136, 140, 144, 148, 152, 156,\n",
        "       160, 164, 168, 172, 176, 180, 184, 188, 192, 196, 200, 204, 208,\n",
        "       212, 216, 220, 224, 228, 232, 236, 240, 244, 248, 252, 256, 260,\n",
        "       264, 268, 272, 276, 280, 284, 288, 292, 296, 300, 304, 308, 312,\n",
        "       316, 320, 324, 328, 332, 336, 340, 344, 348, 352, 356, 360, 364,\n",
        "       368, 372, 376, 380, 384, 388, 392, 396, 400])"
       ]
      }
     ],
     "prompt_number": 27
    },
    {
     "cell_type": "code",
     "collapsed": false,
     "input": [
      "last = df.price[-4:].reshape(1,4)"
     ],
     "language": "python",
     "metadata": {},
     "outputs": [],
     "prompt_number": 34
    },
    {
     "cell_type": "code",
     "collapsed": false,
     "input": [],
     "language": "python",
     "metadata": {},
     "outputs": []
    }
   ],
   "metadata": {}
  }
 ]
}