{
 "cells": [
  {
   "cell_type": "markdown",
   "metadata": {},
   "source": [
    "# Genome Assembly for Hackers\n",
    "\n",
    "*This notebook first appeared as a [blog post](//betatim.github.io/posts/genome-hackers) on [Tim Head](//betatim.github.io)'s blog.*\n",
    "\n",
    "*License: [MIT](http://opensource.org/licenses/MIT)*\n",
    "\n",
    "*(C) 2016, Tim Head.*\n",
    "*Feel free to use, distribute, and modify with the above attribution.*"
   ]
  },
  {
   "cell_type": "markdown",
   "metadata": {},
   "source": [
    "This post collects code snippets I created while learning about genome assembly.\n",
    "I understand complicated things through code. I build simulations or little\n",
    "tools and they help me immensely to understand how something works. Probably\n",
    "because it uses vocabulary I am familiar with (python!) instead of domain\n",
    "specific jargon.\n",
    "\n",
    "For another great example of \"understanding X through code\" check out [Jake VanderPlas'](https://twitter.com/jakevdp) talk [Statistics for hackers](https://speakerdeck.com/jakevdp/statistics-for-hackers) ([video](https://www.youtube.com/watch?v=-7I7MWTX0gA)).\n",
    "\n",
    "This post covers the basic basics of \"genome assembly\". Starting with a genome,\n",
    "creating \"reads\" from it, breaking these reads up into \"kmers\", and then\n",
    "doing the actual assembly. There are a lot of subtleties that I gloss over,\n",
    "ignored details and ouright shortcuts (hashtag-physics-style). Please biology\n",
    "friends, don't hate me :)\n",
    "\n",
    "I assume you have done some reading about this topic and came here to see it\n",
    "translated into code. I link to various wikipedia articles through out, but\n",
    "otherwise will not try and explain the biology reasoning behind all this (not just\n",
    "because I don't know it myself ...).\n",
    "\n",
    "Let's start with generating a random \"genome\"."
   ]
  },
  {
   "cell_type": "code",
   "execution_count": 1,
   "metadata": {
    "collapsed": true
   },
   "outputs": [],
   "source": [
    "import copy\n",
    "import string\n",
    "import random\n",
    "from itertools import product\n",
    "from collections import defaultdict\n",
    "\n",
    "import numpy as np\n",
    "\n",
    "random.seed(123)\n",
    "np.random.seed(321)"
   ]
  },
  {
   "cell_type": "markdown",
   "metadata": {},
   "source": [
    "## The Genome\n",
    "\n",
    "We will use a fairly short genome made up totally at random. In reality\n",
    "genomes have millions or billions of base pairs and contain structure.\n",
    "Welcome to the world of [\"spherical cows in a vacuum\"](https://en.wikipedia.org/wiki/Spherical_cow)."
   ]
  },
  {
   "cell_type": "code",
   "execution_count": 2,
   "metadata": {
    "collapsed": false
   },
   "outputs": [],
   "source": [
    "genome = \"\".join(random.choice(\"AGCT\") for _ in range(1000))"
   ]
  },
  {
   "cell_type": "code",
   "execution_count": 3,
   "metadata": {
    "collapsed": false
   },
   "outputs": [
    {
     "data": {
      "text/plain": [
       "'ACATCAATCCAGGCCGGATATAACTAAAGGACTTCTACCTGCATTTTCAGATCGCCTATTCAGACACGTACTGTGGTTTAAGTGACCCTTAAACAATATATACCTACTCAGTAGCGAATCGCTCGCAGTTAGTACTTCTAGCGCACGCACGGCCTAAGGAGCGACACGGTTTACTCTGGATCAACTCTCCGTCGGTATTCGTCACACCATATCATCGTCTCGTCCAGAATTGTATGCCGATCACTGACCGTCTAATGGACGGCTTGCAATCGATTTAATTCGTGGGGAGGATAATCAAGTCGCACCGACGTGTGTTGTATACGTAGATCATCCCGTAAACAGTGTGTGAGACAAGGTTGTAAGATAGACTGGGTCGAACCTCGAAAAGCGGACTCCGTACCCACACATGCTAGTAGGCTTCGTACAGGCGAGACAACACCGCTACAACCCTGAAAATTCGGTATGGATGAGCTGTCAAATCAGCCCAGCCGTGTATAGGAGATGTTCAGATACAGAGAATTTCGTTAAAGGGCCTCCTGAAGATGTACCTCCCGGACAATCTGAAGTGATGTCCTCCTGGAAGCAGGGTGGGTATGCCTGATTTCATTACTTAAACCCGTCGAGGTGTTACGCCCACGAAGATTTTAGGCGCTTATACTAGCAACGGAATTTTATAACTTCCCACGAATTCAGCCCGCTCGATGGCGTGCGGTTCTTTCTCATTACTGGAGTTCGCGGTATACTGGCGGCTGGTCGGCGACGTAGGCGCAAGACGAGTTGAAGATGGCGTGCTATCTTGGGGCTGGGGGTAACGATTGGTACCCCGGGGAATCTAGTCATCATAGCCGTTCATTCCAGCCCAAACCTTTGGGGCGTGGTCTGCCTTAGTGGGCTCATCTAGACGCGTGGGGGCTTATTCCGAGTCACGTCTTAAGGTTGATACGGGAAATTCGCTGGGAGCCTCGTCGGGACGCATAACATCAGGCTGTCGCCTCTCCGT'"
      ]
     },
     "execution_count": 3,
     "metadata": {},
     "output_type": "execute_result"
    }
   ],
   "source": [
    "# this is a great genome, trust me\n",
    "genome"
   ]
  },
  {
   "cell_type": "markdown",
   "metadata": {},
   "source": [
    "## Reading\n",
    "\n",
    "To get the genome out of a cell you need to read it. This is called [sequencing](https://en.wikipedia.org/wiki/Sequencing). While there are many methods to do\n",
    "this in an actual lab, in practice they all create \"reads\". These are short sections\n",
    "of the genome that cover a random part of it. To start with let's assume we can\n",
    "generate these reads without making any mistakes."
   ]
  },
  {
   "cell_type": "code",
   "execution_count": 4,
   "metadata": {
    "collapsed": true
   },
   "outputs": [],
   "source": [
    "def perfect_reads(genome, n_reads=10):\n",
    "    \"\"\"Create perfect reads from `genome`\"\"\"\n",
    "    starts = np.random.randint(len(genome), size=n_reads)\n",
    "    length = np.random.randint(27,33, size=n_reads)\n",
    "    for n in range(n_reads):\n",
    "        low = starts[n]\n",
    "        yield genome[low:low + length[n]]"
   ]
  },
  {
   "cell_type": "code",
   "execution_count": 5,
   "metadata": {
    "collapsed": false
   },
   "outputs": [
    {
     "data": {
      "text/plain": [
       "['GAAGATGTACCTCCCGGACAATCTGAAG',\n",
       " 'GCAGTTAGTACTTCTAGCGCACGCACG',\n",
       " 'GGGCTGGGGGTAACGATTGGTACCCCGG']"
      ]
     },
     "execution_count": 5,
     "metadata": {},
     "output_type": "execute_result"
    }
   ],
   "source": [
    "list(perfect_reads(genome, 3))"
   ]
  },
  {
   "cell_type": "markdown",
   "metadata": {},
   "source": [
    "Reads can vary in size and come without information about where\n",
    "in the genome they took place. You can end up with duplicate reads\n",
    "of parts of reads overlapping. This is a good thing. These overlaps\n",
    "is what will allow us to piece everything back together. Read more\n",
    "about [Shotgun sequencing](https://en.wikipedia.org/wiki/Shotgun_sequencing)\n",
    "\n",
    "_NB:_ Today most real world sequencing is done using [\"double barrel\"\n",
    "shotguns](https://en.wikipedia.org/wiki/Shotgun_sequencing#Whole_genome_shotgun_sequencing). The key realisation is thhat you can create reads from both ends of\n",
    "a fragment of the genome. This way you gain some information about the\n",
    "direction of the reads relative to each other and how far they are apart.\n",
    "\n",
    "Next each read is turned into a [`k-mer`](https://en.wikipedia.org/wiki/K-mer).\n",
    "These are what is used during the actual assembly. `k-mer`s are the substrings of\n",
    "length `k` that you can generate from a string."
   ]
  },
  {
   "cell_type": "code",
   "execution_count": 6,
   "metadata": {
    "collapsed": true
   },
   "outputs": [],
   "source": [
    "def kmers(read, k=10):\n",
    "    \"\"\"Generate `k`-mers from a `read`\"\"\"\n",
    "    for n in range(len(read) - k + 1):\n",
    "        yield read[n:n+k]"
   ]
  },
  {
   "cell_type": "code",
   "execution_count": 7,
   "metadata": {
    "collapsed": false
   },
   "outputs": [],
   "source": [
    "def get_perfect_kmers(genome):\n",
    "    kmers_ = []\n",
    "    for read in perfect_reads(genome, n_reads=1000):\n",
    "        for kmer in kmers(read):\n",
    "            kmers_.append(kmer)\n",
    "            \n",
    "    return kmers_"
   ]
  },
  {
   "cell_type": "code",
   "execution_count": 8,
   "metadata": {
    "collapsed": false
   },
   "outputs": [
    {
     "name": "stdout",
     "output_type": "stream",
     "text": [
      "19968 990\n"
     ]
    }
   ],
   "source": [
    "kmers_ = get_perfect_kmers(genome)\n",
    "# lots of kmers, but not that many are unique\n",
    "print(len(kmers_), len(set(kmers_)))"
   ]
  },
  {
   "cell_type": "markdown",
   "metadata": {},
   "source": [
    "With perfect reads from our random genome you end up with a\n",
    "large number of `k-mers` (of length ten) but most of them\n",
    "are duplicates. The roughly 20000 `k-mers` we created only\n",
    "contain about 1000 unique `k-mers`.\n",
    "\n",
    "\n",
    "## Flipping reads\n",
    "\n",
    "In reality the sequencing process is not perfect and will\n",
    "make mistakes. The simplest way to illustrate this is to\n",
    "randomly flip a base in a read. Even fairly low error rates\n",
    "of 1% per base have a large effect on the number of unique `k-mers`\n",
    "we find."
   ]
  },
  {
   "cell_type": "code",
   "execution_count": 9,
   "metadata": {
    "collapsed": true
   },
   "outputs": [],
   "source": [
    "def flip(read, p=0.01):\n",
    "    \"\"\"Flip a base to one of the other bases with probability `p`\"\"\"\n",
    "    bases = []\n",
    "    for b in read:\n",
    "        if np.random.uniform() <= p:\n",
    "            bases.append(random.choice(\"AGCT\".replace(b, \"\")))\n",
    "        else:\n",
    "            bases.append(b)\n",
    "    return \"\".join(bases)\n",
    "\n",
    "def reads_with_errors(genome, n_reads=10):\n",
    "    \"\"\"Generate reads where bases might be flipped.\"\"\"\n",
    "    starts = np.random.randint(len(genome), size=n_reads)\n",
    "    length = np.random.randint(27,33, size=n_reads)\n",
    "    for n in range(n_reads):\n",
    "        low = starts[n]\n",
    "        yield flip(genome[low:low + length[n]])"
   ]
  },
  {
   "cell_type": "code",
   "execution_count": 10,
   "metadata": {
    "collapsed": false
   },
   "outputs": [
    {
     "name": "stdout",
     "output_type": "stream",
     "text": [
      "20055 3062\n"
     ]
    }
   ],
   "source": [
    "def get_kmers(genome):\n",
    "    kmers_ = []\n",
    "    for read in reads_with_errors(genome, n_reads=1000):\n",
    "        for kmer in kmers(read):\n",
    "            kmers_.append(kmer)\n",
    "            \n",
    "    return kmers_\n",
    "\n",
    "kmers_ = get_kmers(genome)\n",
    "# roughly same number of kmers, but a lot more unique ones\n",
    "print(len(kmers_), len(set(kmers_)))"
   ]
  },
  {
   "cell_type": "markdown",
   "metadata": {},
   "source": [
    "We still generate roughly 20000 `k-mers` but now there are\n",
    "three times as many unique `k-mers`. This is one of the factors\n",
    "that mkes assembling a genome so hard.\n",
    "\n",
    "So now that we have a super simplistic model for generating\n",
    "`k-mers`, how do we put them back together?"
   ]
  },
  {
   "cell_type": "markdown",
   "metadata": {},
   "source": [
    "# Assembly\n",
    "\n",
    "Left as an exercise for the reader.\n",
    "\n",
    "Just kidding. Assembly happens by creating\n",
    "a [de Bruijn graph](https://en.wikipedia.org/wiki/De_Bruijn_graph)\n",
    "from our `k-mers`. Importantly each `k-mer` is represented\n",
    "by an **edge** in the graph, not a node! Nodes are for `k-1-mers`.\n",
    "If we have one 4-mer, `abcd`, the graph would look like this: `abc -> bcd`.\n",
    "The first node represents the first `n-1` symbols in the `k-mer` and\n",
    "the second node represents the last `n-1` symbols.\n",
    "\n",
    "We will leave the world of biology behind for a moment and create\n",
    "completely artificial examples. I found this easier to understand\n",
    "and debug.\n",
    "\n",
    "First we will need something that can turn a string into a graph.\n",
    "Using `k=2` the `make_graph` function will do just that."
   ]
  },
  {
   "cell_type": "code",
   "execution_count": 11,
   "metadata": {
    "collapsed": false
   },
   "outputs": [
    {
     "name": "stdout",
     "output_type": "stream",
     "text": [
      "defaultdict(<class 'list'>, {'a': ['b'], 'x': ['d'], 'd': ['e', 'b'], 'b': ['c', 'd', 'f'], 'f': ['g'], 'g': ['a'], 'e': ['x'], 'c': ['b']})\n"
     ]
    }
   ],
   "source": [
    "def make_graph(string, k):\n",
    "    k_mers = list(kmers(string, k))\n",
    "    nodes = defaultdict(list)\n",
    "\n",
    "    for kmer in k_mers:\n",
    "        head = kmer[:-1]\n",
    "        tail = kmer[1:]\n",
    "        nodes[head].append(tail)\n",
    "        \n",
    "    return nodes\n",
    "\n",
    "nodes = make_graph('abcbdexdbfga', 2)\n",
    "print(nodes)"
   ]
  },
  {
   "cell_type": "markdown",
   "metadata": {},
   "source": [
    "`nodes` is a dictionary mapping each node to the list\n",
    "of outgoing edges for that node. Its printed representation\n",
    "is quite ugly, so here is a graphical version of it:\n",
    "\n",
    "<img src=\"/images/euler-graph.png\"/>\n",
    "\n",
    "You can render this with `graphviz` but this is not\n",
    "installed on tmpbnb.org so will fail here."
   ]
  },
  {
   "cell_type": "code",
   "execution_count": 12,
   "metadata": {
    "collapsed": false
   },
   "outputs": [
    {
     "data": {
      "image/svg+xml": [
       "<?xml version=\"1.0\" encoding=\"UTF-8\" standalone=\"no\"?>\n",
       "<!DOCTYPE svg PUBLIC \"-//W3C//DTD SVG 1.1//EN\"\n",
       " \"http://www.w3.org/Graphics/SVG/1.1/DTD/svg11.dtd\">\n",
       "<!-- Generated by graphviz version 2.38.0 (20140413.2041)\n",
       " -->\n",
       "<!-- Title: %3 Pages: 1 -->\n",
       "<svg width=\"229pt\" height=\"332pt\"\n",
       " viewBox=\"0.00 0.00 229.00 332.00\" xmlns=\"http://www.w3.org/2000/svg\" xmlns:xlink=\"http://www.w3.org/1999/xlink\">\n",
       "<g id=\"graph0\" class=\"graph\" transform=\"scale(1 1) rotate(0) translate(4 328)\">\n",
       "<title>%3</title>\n",
       "<polygon fill=\"white\" stroke=\"none\" points=\"-4,4 -4,-328 225,-328 225,4 -4,4\"/>\n",
       "<!-- a -->\n",
       "<g id=\"node1\" class=\"node\"><title>a</title>\n",
       "<ellipse fill=\"none\" stroke=\"black\" cx=\"194\" cy=\"-306\" rx=\"27\" ry=\"18\"/>\n",
       "<text text-anchor=\"middle\" x=\"194\" y=\"-301.8\" font-family=\"Times,serif\" font-size=\"14.00\">a</text>\n",
       "</g>\n",
       "<!-- b -->\n",
       "<g id=\"node4\" class=\"node\"><title>b</title>\n",
       "<ellipse fill=\"none\" stroke=\"black\" cx=\"131\" cy=\"-234\" rx=\"27\" ry=\"18\"/>\n",
       "<text text-anchor=\"middle\" x=\"131\" y=\"-229.8\" font-family=\"Times,serif\" font-size=\"14.00\">b</text>\n",
       "</g>\n",
       "<!-- a&#45;&gt;b -->\n",
       "<g id=\"edge1\" class=\"edge\"><title>a&#45;&gt;b</title>\n",
       "<path fill=\"none\" stroke=\"black\" d=\"M180.639,-290.155C172.12,-280.689 160.915,-268.238 151.307,-257.563\"/>\n",
       "<polygon fill=\"black\" stroke=\"black\" points=\"153.633,-254.915 144.341,-249.824 148.43,-259.598 153.633,-254.915\"/>\n",
       "</g>\n",
       "<!-- x -->\n",
       "<g id=\"node2\" class=\"node\"><title>x</title>\n",
       "<ellipse fill=\"none\" stroke=\"black\" cx=\"27\" cy=\"-18\" rx=\"27\" ry=\"18\"/>\n",
       "<text text-anchor=\"middle\" x=\"27\" y=\"-13.8\" font-family=\"Times,serif\" font-size=\"14.00\">x</text>\n",
       "</g>\n",
       "<!-- d -->\n",
       "<g id=\"node3\" class=\"node\"><title>d</title>\n",
       "<ellipse fill=\"none\" stroke=\"black\" cx=\"27\" cy=\"-162\" rx=\"27\" ry=\"18\"/>\n",
       "<text text-anchor=\"middle\" x=\"27\" y=\"-157.8\" font-family=\"Times,serif\" font-size=\"14.00\">d</text>\n",
       "</g>\n",
       "<!-- x&#45;&gt;d -->\n",
       "<g id=\"edge2\" class=\"edge\"><title>x&#45;&gt;d</title>\n",
       "<path fill=\"none\" stroke=\"black\" d=\"M23.7517,-36.1119C21.9542,-46.4578 19.9053,-59.9366 19,-72 17.8026,-87.9551 17.8026,-92.0449 19,-108 19.6366,-116.482 20.8384,-125.664 22.1208,-133.964\"/>\n",
       "<polygon fill=\"black\" stroke=\"black\" points=\"18.6763,-134.588 23.7517,-143.888 25.5836,-133.453 18.6763,-134.588\"/>\n",
       "</g>\n",
       "<!-- d&#45;&gt;b -->\n",
       "<g id=\"edge4\" class=\"edge\"><title>d&#45;&gt;b</title>\n",
       "<path fill=\"none\" stroke=\"black\" d=\"M47.9432,-173.715C65.1825,-184.097 89.346,-200.103 107.265,-212.867\"/>\n",
       "<polygon fill=\"black\" stroke=\"black\" points=\"105.351,-215.802 115.503,-218.834 109.458,-210.133 105.351,-215.802\"/>\n",
       "</g>\n",
       "<!-- e -->\n",
       "<g id=\"node7\" class=\"node\"><title>e</title>\n",
       "<ellipse fill=\"none\" stroke=\"black\" cx=\"55\" cy=\"-90\" rx=\"27\" ry=\"18\"/>\n",
       "<text text-anchor=\"middle\" x=\"55\" y=\"-85.8\" font-family=\"Times,serif\" font-size=\"14.00\">e</text>\n",
       "</g>\n",
       "<!-- d&#45;&gt;e -->\n",
       "<g id=\"edge3\" class=\"edge\"><title>d&#45;&gt;e</title>\n",
       "<path fill=\"none\" stroke=\"black\" d=\"M33.6356,-144.411C36.9134,-136.216 40.9442,-126.14 44.6181,-116.955\"/>\n",
       "<polygon fill=\"black\" stroke=\"black\" points=\"47.9477,-118.055 48.412,-107.47 41.4484,-115.455 47.9477,-118.055\"/>\n",
       "</g>\n",
       "<!-- b&#45;&gt;d -->\n",
       "<g id=\"edge6\" class=\"edge\"><title>b&#45;&gt;d</title>\n",
       "<path fill=\"none\" stroke=\"black\" d=\"M110.195,-222.369C92.9366,-211.982 68.6725,-195.912 50.7019,-183.109\"/>\n",
       "<polygon fill=\"black\" stroke=\"black\" points=\"52.5953,-180.159 42.4439,-177.126 48.4882,-185.828 52.5953,-180.159\"/>\n",
       "</g>\n",
       "<!-- f -->\n",
       "<g id=\"node5\" class=\"node\"><title>f</title>\n",
       "<ellipse fill=\"none\" stroke=\"black\" cx=\"99\" cy=\"-162\" rx=\"27\" ry=\"18\"/>\n",
       "<text text-anchor=\"middle\" x=\"99\" y=\"-157.8\" font-family=\"Times,serif\" font-size=\"14.00\">f</text>\n",
       "</g>\n",
       "<!-- b&#45;&gt;f -->\n",
       "<g id=\"edge7\" class=\"edge\"><title>b&#45;&gt;f</title>\n",
       "<path fill=\"none\" stroke=\"black\" d=\"M123.416,-216.411C119.631,-208.129 114.966,-197.925 110.731,-188.662\"/>\n",
       "<polygon fill=\"black\" stroke=\"black\" points=\"113.87,-187.11 106.529,-179.47 107.504,-190.02 113.87,-187.11\"/>\n",
       "</g>\n",
       "<!-- c -->\n",
       "<g id=\"node8\" class=\"node\"><title>c</title>\n",
       "<ellipse fill=\"none\" stroke=\"black\" cx=\"171\" cy=\"-162\" rx=\"27\" ry=\"18\"/>\n",
       "<text text-anchor=\"middle\" x=\"171\" y=\"-157.8\" font-family=\"Times,serif\" font-size=\"14.00\">c</text>\n",
       "</g>\n",
       "<!-- b&#45;&gt;c -->\n",
       "<g id=\"edge5\" class=\"edge\"><title>b&#45;&gt;c</title>\n",
       "<path fill=\"none\" stroke=\"black\" d=\"M134.805,-216.055C138.956,-207.133 145.11,-196.056 151.261,-186.334\"/>\n",
       "<polygon fill=\"black\" stroke=\"black\" points=\"154.251,-188.159 156.851,-177.888 148.413,-184.295 154.251,-188.159\"/>\n",
       "</g>\n",
       "<!-- g -->\n",
       "<g id=\"node6\" class=\"node\"><title>g</title>\n",
       "<ellipse fill=\"none\" stroke=\"black\" cx=\"176\" cy=\"-90\" rx=\"27\" ry=\"18\"/>\n",
       "<text text-anchor=\"middle\" x=\"176\" y=\"-85.8\" font-family=\"Times,serif\" font-size=\"14.00\">g</text>\n",
       "</g>\n",
       "<!-- f&#45;&gt;g -->\n",
       "<g id=\"edge8\" class=\"edge\"><title>f&#45;&gt;g</title>\n",
       "<path fill=\"none\" stroke=\"black\" d=\"M114.582,-146.834C125.613,-136.806 140.59,-123.191 152.993,-111.916\"/>\n",
       "<polygon fill=\"black\" stroke=\"black\" points=\"155.659,-114.222 160.704,-104.906 150.95,-109.043 155.659,-114.222\"/>\n",
       "</g>\n",
       "<!-- g&#45;&gt;a -->\n",
       "<g id=\"edge9\" class=\"edge\"><title>g&#45;&gt;a</title>\n",
       "<path fill=\"none\" stroke=\"black\" d=\"M187.866,-106.245C194.946,-116.338 203.264,-130.213 207,-144 219.454,-189.96 209.667,-245.784 201.665,-278.166\"/>\n",
       "<polygon fill=\"black\" stroke=\"black\" points=\"198.184,-277.641 199.054,-288.2 204.959,-279.404 198.184,-277.641\"/>\n",
       "</g>\n",
       "<!-- e&#45;&gt;x -->\n",
       "<g id=\"edge10\" class=\"edge\"><title>e&#45;&gt;x</title>\n",
       "<path fill=\"none\" stroke=\"black\" d=\"M48.3644,-72.411C45.0866,-64.2164 41.0558,-54.1395 37.3819,-44.9548\"/>\n",
       "<polygon fill=\"black\" stroke=\"black\" points=\"40.5516,-43.4548 33.588,-35.4699 34.0523,-46.0546 40.5516,-43.4548\"/>\n",
       "</g>\n",
       "<!-- c&#45;&gt;b -->\n",
       "<g id=\"edge11\" class=\"edge\"><title>c&#45;&gt;b</title>\n",
       "<path fill=\"none\" stroke=\"black\" d=\"M167.193,-179.951C162.993,-188.975 156.746,-200.202 150.526,-210.002\"/>\n",
       "<polygon fill=\"black\" stroke=\"black\" points=\"147.501,-208.23 144.881,-218.496 153.331,-212.105 147.501,-208.23\"/>\n",
       "</g>\n",
       "</g>\n",
       "</svg>\n"
      ],
      "text/plain": [
       "<graphviz.dot.Digraph at 0x1072e60f0>"
      ]
     },
     "execution_count": 12,
     "metadata": {},
     "output_type": "execute_result"
    }
   ],
   "source": [
    "from graphviz import Digraph\n",
    "\n",
    "dot = Digraph(comment='debruijn')\n",
    "\n",
    "for km1mer in nodes:\n",
    "    dot.node(km1mer, km1mer)\n",
    "    \n",
    "for src in nodes:\n",
    "    ends = nodes[src]\n",
    "    for end in ends:\n",
    "        dot.edge(src, end)\n",
    "\n",
    "dot.format = 'png'\n",
    "dot"
   ]
  },
  {
   "cell_type": "markdown",
   "metadata": {},
   "source": [
    "## Eulerian walks\n",
    "\n",
    "Why create this weird graph structure from our reads? At\n",
    "first it seems like it makes things more complicated. Actually\n",
    "this is an example of transforming your problem to make it\n",
    "easier.\n",
    "\n",
    "To reconstruct the original string from this graph all we\n",
    "have to do is find a trip along all the edges of the graph\n",
    "that visits each edge only once. If we can do that, we\n",
    "are done. People who are into graph theory call this\n",
    "an eulerian walk. If you grew up in Germany you might\n",
    "recognise this as solving the [kids puzzle](https://de.wikipedia.org/wiki/Haus_vom_Nikolaus) \"Das ist das\n",
    "Haus vom Ni-ko-laus.\"\n",
    "\n",
    "\n",
    "<p><a href=\"https://commons.wikimedia.org/wiki/File:Blender3D_HouseOfStNiclas.gif#/media/File:Blender3D_HouseOfStNiclas.gif\"><img src=\"https://upload.wikimedia.org/wikipedia/commons/1/11/Blender3D_HouseOfStNiclas.gif\" alt=\"Blender3D HouseOfStNiclas.gif\"></a><br>Von <a href=\"//commons.wikimedia.org/wiki/User:SoylentGreen\" title=\"User:SoylentGreen\">SoylentGreen</a> - <span class=\"int-own-work\" lang=\"de\">Eigenes Werk</span>, <a href=\"http://creativecommons.org/licenses/by-sa/3.0/\" title=\"Creative Commons Attribution-Share Alike 3.0\">CC BY-SA 3.0</a>, https://commons.wikimedia.org/w/index.php?curid=2308144</p>\n",
    "\n",
    "\n",
    "## Is it a tour?\n",
    "\n",
    "First things first, how will we know if a proposed tour is\n",
    "a valid one? This is what the next few functions take care\n",
    "of."
   ]
  },
  {
   "cell_type": "code",
   "execution_count": 13,
   "metadata": {
    "collapsed": true
   },
   "outputs": [],
   "source": [
    "def edges(graph):\n",
    "    \"\"\"List all directed edges of `graph`\"\"\"\n",
    "    for node in graph:\n",
    "        for target in graph[node]:\n",
    "            yield (node, target)\n",
    "\n",
    "\n",
    "def follow_tour(tour, graph):\n",
    "    \"\"\"Follow a tour and check it is eulerian\"\"\"\n",
    "    edges_ = list(edges(graph))\n",
    "    for start, end in zip(tour, tour[1:]):\n",
    "        try:\n",
    "            edges_.remove((start, end))\n",
    "        # most likely removing an edge that was already used\n",
    "        except:\n",
    "            return False\n",
    "        \n",
    "    # if there are any edges left this is neither\n",
    "    # an eulerian tour nor an eulerian trail\n",
    "    if edges_:\n",
    "        return False\n",
    "    else:\n",
    "        return True\n",
    "\n",
    "\n",
    "def check_tour(start, graph):\n",
    "    our_tour = tour(start, graph)\n",
    "    valid_tour = follow_tour(our_tour, graph)\n",
    "    return valid_tour, \"\".join(s[0] for s in our_tour) "
   ]
  },
  {
   "cell_type": "markdown",
   "metadata": {},
   "source": [
    "To construct an actual eulerian cycle or trail we use\n",
    "[Hierholzer's algorithm](https://en.wikipedia.org/wiki/Eulerian_path#Hierholzer.27s_algorithm).\n",
    "\n",
    "There are some subtleties we would have to take\n",
    "care of for a production grade implementation, like\n",
    "dealing with where to start when the graph only contains\n",
    "an eulerian path and not a cycle, etc. However it\n",
    "does the job for small examples and allows you to\n",
    "witness the miracle of genome assembly!"
   ]
  },
  {
   "cell_type": "code",
   "execution_count": 14,
   "metadata": {
    "collapsed": true
   },
   "outputs": [],
   "source": [
    "def tour(start_node, graph):\n",
    "    \"\"\"Find an eulerian cycle or trail.\n",
    "    \n",
    "    This does not check if the graph is eulerian\n",
    "    so it might return tours that are nonsense.\n",
    "    \"\"\"\n",
    "    # _tour() modifies the graph structure so we need to copy it\n",
    "    graph = copy.deepcopy(graph)\n",
    "    return _tour(start_node, graph)\n",
    "\n",
    "def _tour(start_node, graph, end=None):\n",
    "    tour = [start_node]\n",
    "    finish_on = end if end is not None else start_node\n",
    "    while True:\n",
    "        options = graph[tour[-1]]\n",
    "\n",
    "        # eulerian trail, not tour?\n",
    "        if not options:\n",
    "            break\n",
    "        \n",
    "        tour.append(options.pop())\n",
    "        if tour[-1] == finish_on:\n",
    "            break\n",
    "    \n",
    "    # when we insert a sub-tour we extend the\n",
    "    # length of tour, need to track this\n",
    "    offset = 0\n",
    "    for n,step in enumerate(tour[:]):\n",
    "        options = graph[step]\n",
    "        if options:\n",
    "            t = _tour(options.pop(), graph, step)\n",
    "            n += offset\n",
    "            tour = tour[:n+1] + t + tour[n+1:]\n",
    "            offset += len(t)\n",
    "            \n",
    "    return tour"
   ]
  },
  {
   "cell_type": "markdown",
   "metadata": {},
   "source": [
    "below some examples of graphs I tried out while\n",
    "writing the algorithm. This is an [interactive blog post](http://betatim.github.io/posts/interactive-posts/)\n",
    "so play around with them. Use the snippet form above to\n",
    "draw each graph if you prefer to see it visually."
   ]
  },
  {
   "cell_type": "code",
   "execution_count": 15,
   "metadata": {
    "collapsed": false
   },
   "outputs": [
    {
     "name": "stdout",
     "output_type": "stream",
     "text": [
      "defaultdict(<class 'list'>, {'a': ['b'], 'x': ['d'], 'd': ['e', 'b'], 'b': ['c', 'd', 'f'], 'f': ['g'], 'g': ['a'], 'e': ['x'], 'c': ['b']})\n",
      "cbfgabdexdbc\n"
     ]
    }
   ],
   "source": [
    "check_tour('a', {'a': ['b'], 'b': ['a']})\n",
    "check_tour('a', {'a': ['b'], 'b': ['c'], 'c': ['a', 'e'], 'e': ['f'], 'f': ['c']})\n",
    "check_tour('a', {'a': ['b'], 'b': ['c'], 'c': ['a', 'e'], 'e': ['f'],\n",
    "                 'f': ['c', 'g'], 'g': ['f']})\n",
    "check_tour('f', {'a': ['b'], 'b': ['c'], 'c': ['a', 'e'], 'e': ['f'],\n",
    "                 'f': ['c', 'g'], 'g': ['f']})\n",
    "check_tour('g', {'a': ['b'], 'b': ['c'], 'c': ['a', 'e'], 'e': ['f'],\n",
    "                 'f': ['c', 'g'], 'g': ['f']})\n",
    "check_tour('c', {'a': ['b'], 'b': ['c'], 'c': ['a', 'e'], 'e': ['f'],\n",
    "                 'f': ['c', 'g'], 'g': ['f']})\n",
    "\n",
    "\n",
    "random.seed(54)\n",
    "genome = 'abcbdexdbfga'\n",
    "g = make_graph(genome, 2)\n",
    "\n",
    "valid, t = check_tour(genome[random.randint(0, len(genome)-1)], g)\n",
    "\n",
    "print(g)\n",
    "print(t)"
   ]
  },
  {
   "cell_type": "markdown",
   "metadata": {
    "collapsed": true
   },
   "source": [
    "I hope this helps you understand a bit more how all this genome assembly\n",
    "stuff works. it certainly helped me. If you know about the biology behind\n",
    "all this, please be lenient, if you spot gross mistakes or imprecise\n",
    "statements that cause confusion for novices do get in touch!\n",
    "\n",
    "If you find a mistake or want to tell me something else get in touch on twitter @[betatim](//twitter.com/betatim)"
   ]
  }
 ],
 "metadata": {
  "kernelspec": {
   "display_name": "Python 3",
   "language": "python",
   "name": "python3"
  },
  "language_info": {
   "codemirror_mode": {
    "name": "ipython",
    "version": 3
   },
   "file_extension": ".py",
   "mimetype": "text/x-python",
   "name": "python",
   "nbconvert_exporter": "python",
   "pygments_lexer": "ipython3",
   "version": "3.5.1"
  }
 },
 "nbformat": 4,
 "nbformat_minor": 0
}
