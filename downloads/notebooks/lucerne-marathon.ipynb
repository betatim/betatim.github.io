{
 "cells": [
  {
   "cell_type": "markdown",
   "metadata": {},
   "source": [
    "# An Improbable Afternoon\n",
    "\n",
    "*This notebook first appeared as a [blog post](//betatim.github.io/posts/improbable-afternoon) on [Tim Head](//betatim.github.io)'s blog.*\n",
    "\n",
    "*License: [MIT](http://opensource.org/licenses/MIT)*\n",
    "\n",
    "*(C) 2016, Tim Head.*\n",
    "*Feel free to use, distribute, and modify with the above attribution.*"
   ]
  },
  {
   "cell_type": "code",
   "execution_count": 1,
   "metadata": {
    "collapsed": true
   },
   "outputs": [],
   "source": [
    "%config InlineBackend.figure_format='retina'\n",
    "%matplotlib inline"
   ]
  },
  {
   "cell_type": "code",
   "execution_count": 5,
   "metadata": {
    "collapsed": false
   },
   "outputs": [],
   "source": [
    "from urllib import request\n",
    "import numpy as np\n",
    "import pandas as pd"
   ]
  },
  {
   "cell_type": "code",
   "execution_count": 13,
   "metadata": {
    "collapsed": true
   },
   "outputs": [],
   "source": [
    "#pd.read_html('http://services.datasport.com/2012/lauf/lucernemarathon/rang091.htm')\n",
    "url = 'https://services.datasport.com/2012/lauf/lucernemarathon/rang091.htm'\n",
    "\n",
    "x = request.urlopen(url)\n",
    "html = '\\n'.join([l.decode('utf8') for l in x.readlines()])"
   ]
  },
  {
   "cell_type": "code",
   "execution_count": 48,
   "metadata": {
    "collapsed": false
   },
   "outputs": [],
   "source": [
    "text12 =\"\"\"Rang Name                    Jg   Land/Ort                 Zeit   Rückstand    Stnr         Kat/Rang       Schnitt ¦    Start-Horw ¦      Horw-HM ¦      HM-Horw ¦    Horw-Ziel ¦\n",
    "     Team                                                                                                          ¦               ¦     - 21.1km ¦     - 33.8km ¦   - 42.195km ¦\n",
    "------------------------------------------------------------------------------------------------------------------------------------------------------------------------------------------------------------------------------------------------\n",
    "  1. Jeanneret Patrick       1971 Fribourg            2:36.02,1       -----    (52) Diplom  M-M40    1.       3.41 ¦   45.06     1.¦  31.23     1.¦  46.37     1.¦  32.54     1.¦\n",
    "     Swisscom Marathon Team                                                                                        ¦               ¦1:16.30     1.¦2:03.07     1.¦2:36.02     1.¦\n",
    "  2. Gisler Steve            1964 Erstfeld            2:39.07,9      3.05,8   (688) Diplom  M-M40    2.       3.46 ¦   45.13     2.¦  32.08     6.¦  47.38     2.¦  34.07     2.¦\n",
    "     Imholz-Sport & Steve-Events                                                                                   ¦               ¦1:17.22     4.¦2:05.00     2.¦2:39.07     2.¦\n",
    "  3. Weiss Alexander         1977 A-Kirchdorf an de   2:41.30,1      5.28,0   (788) Diplom  M-M30    1.       3.49 ¦   45.30     5.¦  31.33     3.¦  48.27     3.¦  35.58     8.¦\n",
    "     Team Zisser Enns                                                                                              ¦               ¦1:17.03     2.¦2:05.31     3.¦2:41.30     3.¦\n",
    "  4. Burkhard Beat           1975 Gutenswil           2:41.56,5      5.54,4  (1455) Diplom  M-M30    2.       3.50 ¦   45.29     4.¦  31.51     4.¦  49.19     6.¦  35.16     7.¦\n",
    "     LC Uster                                                                                                      ¦               ¦1:17.20     3.¦2:06.40     4.¦2:41.56     4.¦\n",
    "  5. Frei Rolf               1970 Uznach              2:41.56,6      5.54,5  (1817) Diplom  M-M40    3.       3.50 ¦   45.28     3.¦  31.59     5.¦  49.23     7.¦  35.06     5.¦\n",
    "     sport trend shop                                                                                              ¦               ¦1:17.27     5.¦2:06.50     5.¦2:41.56     5.¦\n",
    "  6. Wyss Roman              1976 Niederbipp          2:43.09,8      7.07,7  (2002) Diplom  M-M30    3.       3.52 ¦   46.30    11.¦  32.48    10.¦  48.44     4.¦  35.05     4.¦\n",
    "                                                                                                                   ¦               ¦1:19.19     8.¦2:08.04     6.¦2:43.09     6.¦\n",
    "  7. Eggenberger Michael     1977 Zug                 2:43.49,7      7.47,6  (1253) Diplom  M-M30    4.       3.52 ¦   45.44     7.¦  32.34     8.¦  50.23    10.¦  35.07     6.¦\n",
    "     VELORADO Racing Team                                                                                          ¦               ¦1:18.19     7.¦2:08.42     7.¦2:43.49     7.¦\n",
    "  8. Elmer Rico              1969 Elm                 2:46.29,6     10.27,5   (833) Diplom  M-M40    4.       3.56 ¦   46.43    13.¦  32.51    11.¦  50.37    12.¦  36.17    11.¦\n",
    "     Central Garage Glarus                                                                                         ¦               ¦1:19.35    12.¦2:10.12    10.¦2:46.29     8.¦\n",
    "  9. Kacir Vlastimil         1979 CZ-Praha            2:47.08,2     11.06,1   (413) Diplom  M-M30    5.       3.57 ¦   46.39    12.¦  32.43     9.¦  49.54     8.¦  37.50    28.¦\n",
    "                                                                                                                   ¦               ¦1:19.22     9.¦2:09.17     8.¦2:47.08     9.¦\n",
    " 10. Willcock Patrick        1976 Müswangen           2:47.20,7     11.18,6  (1562) Diplom  M-M30    6.       3.57 ¦   48.25    24.¦  33.49    19.¦  50.17     9.¦  34.48     3.¦\n",
    "     Pilatus Ski Club                                                                                              ¦               ¦1:22.14    23.¦2:12.32    15.¦2:47.20    10.¦\n",
    "\"\"\"\n",
    "\n",
    "text15 = \"\"\"Rang Name                    Jg   Land/Ort                 Zeit   Rückstand     Stnr               Kat/Rang       Schnitt ¦    Start-Horw ¦      Horw-HM ¦      HM-Horw ¦    Horw-Ziel ¦\n",
    "       Team                                                                                                                 ¦               ¦     - 21.1km ¦     - 33.8km ¦              ¦\n",
    "---------------------------------------------------------------------------------------------------------------------------------------------------------------------------------------------------------------------------------------------------------\n",
    "    1. Kuert Fabian            1983 Langenthal          2:26.18,1       -----   (1161) Diplom Video  M-M30    1.       3.28 ¦   42.30     2.¦  30.16     2.¦  43.24     1.¦  30.06     1.¦\n",
    "                                                                                                                            ¦               ¦1:12.47     2.¦1:56.11     1.¦              ¦\n",
    "    2. Wenk Stephan            1982 Greifensee          2:29.09,3      2.51,2     (20) Diplom Video  M-M30    2.       3.32 ¦   42.22     1.¦  30.11     1.¦  43.38     2.¦  32.56     5.¦\n",
    "       TV Oerlikon/Scott                                                                                                    ¦               ¦1:12.34     1.¦1:56.12     2.¦              ¦\n",
    "    3. Bodenmann Heinz         1988 Gais                2:32.10,7      5.52,6    (229) Diplom Video  M-M20    1.       3.36 ¦   43.45     5.¦  31.13     3.¦  44.38     3.¦  32.33     2.¦\n",
    "       LG Rheintal                                                                                                          ¦               ¦1:14.59     3.¦1:59.37     3.¦              ¦\n",
    "    4. Jenni Walter            1968 Oberwil b. Büren    2:35.38,6      9.20,5   (1808) Diplom Video  M-M45    1.       3.41 ¦   44.19     8.¦  32.31    10.¦  45.54     4.¦  32.52     4.¦\n",
    "                                                                                                                            ¦               ¦1:16.51     9.¦2:02.46     5.¦              ¦\n",
    "    5. Frieden Thomas          1969 Kollbrunn           2:36.04,9      9.46,8    (240) Diplom Video  M-M45    2.       3.41 ¦   44.51    12.¦  32.18     7.¦  46.14     5.¦  32.40     3.¦\n",
    "       LSV Winterthur                                                                                                       ¦               ¦1:17.09    10.¦2:03.24     7.¦              ¦\n",
    "    6. Eggenschwiler Bernhard  1985 Büsserach           2:37.56,2     11.38,1    (438) Diplom Video  M-M30    3.       3.44 ¦   44.52    13.¦  32.33    11.¦  46.51     7.¦  33.39     6.¦\n",
    "       mega-joule.ch                                                                                                        ¦               ¦1:17.26    13.¦2:04.17    10.¦              ¦\n",
    "    7. Jeanneret Patrick       1971 Bern                2:38.23,7     12.05,6     (56) Diplom Video  M-M40    1.       3.45 ¦   44.21    10.¦  31.36     4.¦  46.59     8.¦  35.27    17.¦\n",
    "       Trilogie Running Team - Mizuno                                                                                       ¦               ¦1:15.57     6.¦2:02.56     6.¦              ¦\n",
    "    8. Arnold Philipp          1987 Cham                2:39.02,4     12.44,3    (218) Diplom Video  M-M20    2.       3.46 ¦   43.51     6.¦  32.18     8.¦  47.36    11.¦  35.15    14.¦\n",
    "       LAC TV Unterstrass                                                                                                   ¦               ¦1:16.10     7.¦2:03.47     8.¦              ¦\n",
    "    9. Schmauder Stefan        1985 Diepoldsau          2:40.00,7     13.42,6    (232) Diplom Video  M-M30    4.       3.47 ¦   44.20     9.¦  32.52    14.¦  47.51    14.¦  34.56    11.¦\n",
    "       LG Rheintal                                                                                                          ¦               ¦1:17.13    11.¦2:05.04    11.¦              ¦\n",
    "   10. Perino José Manuel      1980 Luzern              2:40.02,3     13.44,2   (1734) Diplom Video  M-M35    1.       3.47 ¦   44.56    15.¦  33.02    16.¦  48.17    16.¦  33.45     7.¦\n",
    "       erdbeergold.ch                                                                                                       ¦               ¦1:17.59    15.¦2:06.16    14.¦              ¦\n",
    "\n",
    "\"\"\""
   ]
  },
  {
   "cell_type": "code",
   "execution_count": 50,
   "metadata": {
    "collapsed": false
   },
   "outputs": [
    {
     "name": "stdout",
     "output_type": "stream",
     "text": [
      "1.|Jeanneret Patrick|Fribourg|2:36.02,1|M-M40|45.06|31.23|46.37|32.54\n",
      "====================\n",
      "2.|Gisler Steve|Erstfeld|2:39.07,9|M-M40|45.13|32.08|47.38|34.07\n",
      "====================\n",
      "3.|Weiss Alexander|A-Kirchdorf an de|2:41.30,1|M-M30|45.30|31.33|48.27|35.58\n",
      "====================\n",
      "4.|Burkhard Beat|Gutenswil|2:41.56,5|M-M30|45.29|31.51|49.19|35.16\n",
      "====================\n",
      "5.|Frei Rolf|Uznach|2:41.56,6|M-M40|45.28|31.59|49.23|35.06\n",
      "====================\n",
      "6.|Wyss Roman|Niederbipp|2:43.09,8|M-M30|46.30|32.48|48.44|35.05\n",
      "====================\n",
      "7.|Eggenberger Michael|Zug|2:43.49,7|M-M30|45.44|32.34|50.23|35.07\n",
      "====================\n",
      "8.|Elmer Rico|Elm|2:46.29,6|M-M40|46.43|32.51|50.37|36.17\n",
      "====================\n",
      "9.|Kacir Vlastimil|CZ-Praha|2:47.08,2|M-M30|46.39|32.43|49.54|37.50\n",
      "====================\n",
      "10.|Willcock Patrick|Müswangen|2:47.20,7|M-M30|48.25|33.49|50.17|34.48\n",
      "====================\n"
     ]
    },
    {
     "ename": "ValueError",
     "evalue": "not enough values to unpack (expected 16, got 0)",
     "output_type": "error",
     "traceback": [
      "\u001b[0;31m---------------------------------------------------------------------------\u001b[0m",
      "\u001b[0;31mValueError\u001b[0m                                Traceback (most recent call last)",
      "\u001b[0;32m<ipython-input-50-abe284e21e1e>\u001b[0m in \u001b[0;36m<module>\u001b[0;34m()\u001b[0m\n\u001b[1;32m      8\u001b[0m         \u001b[0;32mpass\u001b[0m\u001b[0;34m\u001b[0m\u001b[0m\n\u001b[1;32m      9\u001b[0m     \u001b[0;32melse\u001b[0m\u001b[0;34m:\u001b[0m\u001b[0;34m\u001b[0m\u001b[0m\n\u001b[0;32m---> 10\u001b[0;31m         \u001b[0mname\u001b[0m\u001b[0;34m,\u001b[0m \u001b[0mplace\u001b[0m\u001b[0;34m,\u001b[0m \u001b[0mtotal\u001b[0m\u001b[0;34m,\u001b[0m \u001b[0m_\u001b[0m\u001b[0;34m,\u001b[0m\u001b[0m_\u001b[0m\u001b[0;34m,\u001b[0m \u001b[0mcat\u001b[0m\u001b[0;34m,\u001b[0m \u001b[0m_\u001b[0m\u001b[0;34m,\u001b[0m\u001b[0m_\u001b[0m\u001b[0;34m,\u001b[0m \u001b[0msplit1\u001b[0m\u001b[0;34m,\u001b[0m\u001b[0m_\u001b[0m\u001b[0;34m,\u001b[0m\u001b[0msplit2\u001b[0m\u001b[0;34m,\u001b[0m\u001b[0m_\u001b[0m\u001b[0;34m,\u001b[0m\u001b[0msplit3\u001b[0m\u001b[0;34m,\u001b[0m\u001b[0m_\u001b[0m\u001b[0;34m,\u001b[0m\u001b[0msplit4\u001b[0m\u001b[0;34m,\u001b[0m\u001b[0m_\u001b[0m \u001b[0;34m=\u001b[0m \u001b[0mfields\u001b[0m\u001b[0;34m\u001b[0m\u001b[0m\n\u001b[0m\u001b[1;32m     11\u001b[0m         \u001b[0mpos\u001b[0m\u001b[0;34m,\u001b[0m \u001b[0mname\u001b[0m \u001b[0;34m=\u001b[0m \u001b[0mname\u001b[0m\u001b[0;34m.\u001b[0m\u001b[0msplit\u001b[0m\u001b[0;34m(\u001b[0m\u001b[0mmaxsplit\u001b[0m\u001b[0;34m=\u001b[0m\u001b[0;36m1\u001b[0m\u001b[0;34m)\u001b[0m\u001b[0;34m\u001b[0m\u001b[0m\n\u001b[1;32m     12\u001b[0m         \u001b[0myob\u001b[0m\u001b[0;34m,\u001b[0m \u001b[0mcity\u001b[0m \u001b[0;34m=\u001b[0m \u001b[0mplace\u001b[0m\u001b[0;34m.\u001b[0m\u001b[0msplit\u001b[0m\u001b[0;34m(\u001b[0m\u001b[0mmaxsplit\u001b[0m\u001b[0;34m=\u001b[0m\u001b[0;36m1\u001b[0m\u001b[0;34m)\u001b[0m\u001b[0;34m\u001b[0m\u001b[0m\n",
      "\u001b[0;31mValueError\u001b[0m: not enough values to unpack (expected 16, got 0)"
     ]
    }
   ],
   "source": [
    "text = text12\n",
    "lines = text.split('\\n')\n",
    "for n,line in enumerate(lines[3:]):\n",
    "    #\n",
    "    fields = [f.strip() for f in line.strip().split('  ')]\n",
    "    fields = [f for f in fields if f]\n",
    "    if n%2: #odd lines\n",
    "        pass\n",
    "    else:\n",
    "        name, place, total, _,_, cat, _,_, split1,_,split2,_,split3,_,split4,_ = fields\n",
    "        pos, name = name.split(maxsplit=1)\n",
    "        yob, city = place.split(maxsplit=1)\n",
    "        print('|'.join((pos, name, city, total, cat, split1, split2, split3, split4)))\n",
    "        print('='*20)"
   ]
  },
  {
   "cell_type": "code",
   "execution_count": 28,
   "metadata": {
    "collapsed": false
   },
   "outputs": [
    {
     "name": "stdout",
     "output_type": "stream",
     "text": [
      "1. Jeanneret Patrick 2:36.02,1 M-M40 45.06 31.23 46.37 32.54\n"
     ]
    }
   ],
   "source": [
    "fields\n",
    "pos,first,last, _,_, total,_,_,_,cat,_,_,_,split1,_,split2,_,split3,_,split4,_ = fields\n",
    "print(pos, first, last, total, cat, split1, split2, split3, split4)"
   ]
  }
 ],
 "metadata": {
  "kernelspec": {
   "display_name": "Python 3",
   "language": "python",
   "name": "python3"
  },
  "language_info": {
   "codemirror_mode": {
    "name": "ipython",
    "version": 3
   },
   "file_extension": ".py",
   "mimetype": "text/x-python",
   "name": "python",
   "nbconvert_exporter": "python",
   "pygments_lexer": "ipython3",
   "version": "3.5.2"
  }
 },
 "nbformat": 4,
 "nbformat_minor": 0
}
