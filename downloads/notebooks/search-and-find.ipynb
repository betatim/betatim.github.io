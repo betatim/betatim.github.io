{
 "metadata": {
  "name": "Search and find!"
 },
 "nbformat": 3,
 "nbformat_minor": 0,
 "worksheets": [
  {
   "cells": [
    {
     "cell_type": "markdown",
     "metadata": {},
     "source": [
      "What is the best strategy to find something you lost? Since [MH370](http://en.wikipedia.org/wiki/Malaysia_Airlines_Flight_370) went missing my interest in search strategies was rekindled. I had read before about \"sophisticated statistical methods\" being used to recover the nuclear weapon lost during the [Palomares B-52 crash](http://en.wikipedia.org/wiki/1966_Palomares_B-52_crash), but did not investigate further.\n",
      "\n",
      "Then this article came along: [Math equation could help find missing malaysian plane](http://america.aljazeera.com/articles/2014/3/12/mathematical-equationcouldhelpfindmissingmalaysianplane.html). The idea underlying it all is [Bayesian search theory](http://en.wikipedia.org/wiki/Bayesian_search_theory).\n",
      "\n",
      "Before going off to do something fancy, let's setup the problem and investigate the two most basic search strategies."
     ]
    },
    {
     "cell_type": "code",
     "collapsed": false,
     "input": [
      "import random\n",
      "random.seed(12345)\n",
      "\n",
      "import numpy as np\n",
      "\n",
      "SIZE = 30"
     ],
     "language": "python",
     "metadata": {},
     "outputs": [],
     "prompt_number": 1
    },
    {
     "cell_type": "code",
     "collapsed": false,
     "input": [
      "def make_search_area(N=SIZE, treasure=(13,14)):\n",
      "    search_area = {}\n",
      "\n",
      "    for x in xrange(N):\n",
      "        for y in xrange(N):\n",
      "            search_area[(x,y)] = False\n",
      "        \n",
      "    search_area[treasure] = True\n",
      "    return search_area"
     ],
     "language": "python",
     "metadata": {},
     "outputs": [],
     "prompt_number": 2
    },
    {
     "cell_type": "markdown",
     "metadata": {},
     "source": [
      "The simplest strategy you could imagine is to visit one square of the search space after the other, just like a tractor plowing a field. This is what the `Tractor` class implements. It always starts searching at (0,0) and then works its way along the columns and rows. This is a strategy you could implement with a boat searching an area of the sea, or a plane."
     ]
    },
    {
     "cell_type": "code",
     "collapsed": false,
     "input": [
      "class Tractor(object):\n",
      "    def __init__(self, size=SIZE):\n",
      "        self.size = size\n",
      "        \n",
      "    def __call__(self, (x, y)):\n",
      "        if x == y == None:\n",
      "            return (0,0)\n",
      "    \n",
      "        n = x + self.size*y\n",
      "        n += 1\n",
      "        new_x = n%self.size\n",
      "        new_y = (n-new_x)/self.size\n",
      "        return new_x, new_y"
     ],
     "language": "python",
     "metadata": {},
     "outputs": [],
     "prompt_number": 3
    },
    {
     "cell_type": "markdown",
     "metadata": {},
     "source": [
      "A strategy you could not use with a plane or boat is randomly visiting squares on the grid. However it is nice to have a strategy that is not much of a strategy to compare to. It would be a viable strategy though in cases where you had satellite images of the search region and needed to decide in which order to look at them."
     ]
    },
    {
     "cell_type": "code",
     "collapsed": false,
     "input": [
      "class Hopping(object):\n",
      "    def __init__(self, size=SIZE):\n",
      "        self.positions = []\n",
      "        for x in xrange(size):\n",
      "            for y in xrange(size):\n",
      "                self.positions.append((x,y))\n",
      "                \n",
      "        random.shuffle(self.positions)\n",
      "        \n",
      "    def __call__(self, (x,y)):\n",
      "        return self.positions.pop()"
     ],
     "language": "python",
     "metadata": {},
     "outputs": [],
     "prompt_number": 4
    },
    {
     "cell_type": "markdown",
     "metadata": {},
     "source": [
      "The next two bits of code take care of performing one actual search and then performing many searches so that we can collect statistics about how the searches proceed. For example the `Hopping` strategy could get lucky and pick the square that contains the treasure as the first one to visit. So you want to average over several searches to get an idea how long you should expect a typical search to take."
     ]
    },
    {
     "cell_type": "code",
     "collapsed": false,
     "input": [
      "def search(method, size, tx=13, ty=14):\n",
      "    search_area = make_search_area(N=size, treasure=(tx, ty))\n",
      "    \n",
      "    found = False\n",
      "    x = y = None\n",
      "    steps = 0\n",
      "\n",
      "    while not found:\n",
      "        x,y = method((x,y))\n",
      "        found = search_area[x,y]\n",
      "        steps += 1\n",
      "    \n",
      "    return steps, (x,y)"
     ],
     "language": "python",
     "metadata": {},
     "outputs": [],
     "prompt_number": 5
    },
    {
     "cell_type": "code",
     "collapsed": false,
     "input": [
      "def average_search(Method, N=2000, tx=lambda: 13,ty=lambda: 14):\n",
      "    steps_ = []\n",
      "    for n in xrange(N):\n",
      "        searcher = Method()\n",
      "        steps, (x,y) = search(searcher, size=SIZE, tx=tx(),ty=ty())\n",
      "        steps_.append(steps)\n",
      "    \n",
      "    return np.mean(steps_), np.std(steps_)/np.sqrt(N)"
     ],
     "language": "python",
     "metadata": {},
     "outputs": [],
     "prompt_number": 6
    },
    {
     "cell_type": "code",
     "collapsed": false,
     "input": [
      "print \"Hopping took %.2f +- %.3f steps on average.\"%(average_search(Hopping))"
     ],
     "language": "python",
     "metadata": {},
     "outputs": [
      {
       "output_type": "stream",
       "stream": "stdout",
       "text": [
        "Hopping took 442.75 +- 5.752 steps on average.\n"
       ]
      }
     ],
     "prompt_number": 7
    },
    {
     "cell_type": "code",
     "collapsed": false,
     "input": [
      "print \"Tractor took %.2f +- %.3f steps on average.\"%average_search(Tractor,\n",
      "                                                                   tx=lambda:random.randrange(0, SIZE),\n",
      "                                                                   ty=lambda:random.randrange(0, SIZE))"
     ],
     "language": "python",
     "metadata": {},
     "outputs": [
      {
       "output_type": "stream",
       "stream": "stdout",
       "text": [
        "Tractor took 452.28 +- 5.850 steps on average.\n"
       ]
      }
     ],
     "prompt_number": 8
    },
    {
     "cell_type": "markdown",
     "metadata": {},
     "source": [
      "When we have no clues about where in the search area the treasure could be, it makes no difference how you search it. The tractor like search path takes just as long as looking at squares at random. In the absence of any information we can not really do much better.\n",
      "\n",
      "If we do have some information about which squares are more or less likely to contain the treasure we should be able to find it more quickly. After working out what your belief is for the treasure being in any one square, you start searching the squares which have the highest probability. If you think you last saw your keys in the living room, you do not start by looking in the office. You do not need Bayesian statistics for this. Bayes' rule comes in handy once you have started looking. It allows you to update your beliefs after you have seen new evidence.\n",
      "\n",
      "Bayes rule helps you with combining the information you gained from searching a certain area with your prior information about where the treasure is.\n",
      "\n",
      "Bayes' rule goes like this:\n",
      "\n",
      "$$P(\\mathrm{H\\mid E}) = \\frac{P(\\mathrm{E \\mid H}) \\cdot P(\\mathrm{H})}{P(\\mathrm{E})}$$\n",
      "\n",
      "the probability $P(\\mathrm{H\\mid E})$ of hypothesis H given the evidence E is computed from the probability of the hypothesis H giving you evidence E, $P(\\mathrm{E\\mid H})$, the probability of the hypothesis, $P(\\mathrm{H})$ and the probability of the evidence, $P(\\mathrm{E})$.\n",
      "\n",
      "The question we want to answer is: What is the probability of the treasure being in a square after searching it and not finding anything?\n",
      "\n",
      "$$P(\\mathrm{there \\mid notfound}) = \\frac{P(\\mathrm{notfound \\mid there}) \\cdot P(\\mathrm{there}) }{ P(\\mathrm{notfound})} $$\n",
      "\n",
      "before we searched the square we thougth the probability for the treasure being in that square was $P(\\mathrm{there})$, the term $P(\\mathrm{notfound \\mid there})$ allows us to take into account that we might overlook the treasure, it is the probability of overlooking the treasure. These two probabilities are easy to work out, $P(\\mathrm{there})$ comes from our initial guess and we could evaluate $P(\\mathrm{notfound \\mid there})$ by placing a treasure in a square and repeatedly searching it and counting how often we do not find it. What is the probability $P(\\mathrm{notfound})$ though? There are two scenarios in which you can not find the treasure:\n",
      "\n",
      "1. the treasure is not there and you do not find it\n",
      "2. the treasure is there and you do not find it\n",
      "\n",
      "These two options cover all the bases. To work out $P(\\mathrm{notfound})$ we can use  the [Law of total probability](http://en.wikipedia.org/wiki/Total_probability). It goes like this:\n",
      "\n",
      "$$P(A)=\\sum_n P(A\\mid B_n) P(B_n)$$\n",
      "\n",
      "the probability for $A$ is the sum over all possible options $B_n$. Each term in the sum is the product of the probability for option $B_n$ and the probability for $A$ given the option $B_n$. In our case we have:\n",
      "\n",
      "$$P(\\mathrm{notfound}) = P(\\mathrm{notfound \\mid there}) \\cdot P(\\mathrm{there}) + P(\\mathrm{notfound \\mid notthere}) \\cdot P(\\mathrm{notthere})$$"
     ]
    },
    {
     "cell_type": "code",
     "collapsed": false,
     "input": [],
     "language": "python",
     "metadata": {},
     "outputs": [],
     "prompt_number": 8
    },
    {
     "cell_type": "code",
     "collapsed": false,
     "input": [],
     "language": "python",
     "metadata": {},
     "outputs": [],
     "prompt_number": 8
    }
   ],
   "metadata": {}
  }
 ]
}