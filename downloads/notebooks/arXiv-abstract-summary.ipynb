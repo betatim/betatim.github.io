{
 "metadata": {
  "name": "",
  "signature": "sha256:a6033ce62542ae999b6b1a3f2ceb7400aca572e159683302beb84475614d294a"
 },
 "nbformat": 3,
 "nbformat_minor": 0,
 "worksheets": [
  {
   "cells": [
    {
     "cell_type": "markdown",
     "metadata": {},
     "source": [
      "# Getting Ahead on Interesting Papers\n",
      "\n",
      "*This notebook first appeared as a [blog post](//betatim.github.io/posts/predicting-papers) on [Tim Head](//betatim.github.io)'s blog.*\n",
      "\n",
      "*License: [MIT](http://opensource.org/licenses/MIT)*\n",
      "\n",
      "*(C) 2015, Tim Head.*\n",
      "*Feel free to use, distribute, and modify with the above attribution.*"
     ]
    },
    {
     "cell_type": "markdown",
     "metadata": {},
     "source": [
      "A large number of scientific articles are published on the [arXiv](//arxiv.org) every day. Most of them are not that interesting. This post is about how you can improve your chances of picking an article that is interesting by a factor of about three!\n",
      "\n",
      "The dataset was collected for my previous post: [Analysing the arXiv](/posts/analysing-the-arxiv/). One of the lessons learnt from looking at citation data for the articles I collected was that most of them are never cited. This supports the idea that most articles are not the interesting. Not even a fellow academic can be bothered to refer to it!\n",
      "\n",
      "We will use NLP and Machine Learning to build a tool that can predict if an article will be interesting or not, at the moment it is published. This means we can not use information like how often it was cited to decide if the article is interesting.\n",
      "\n",
      "So let's start this post about finding interesting things to read with some boring imports we will need later on:"
     ]
    },
    {
     "cell_type": "code",
     "collapsed": false,
     "input": [
      "%matplotlib inline"
     ],
     "language": "python",
     "metadata": {},
     "outputs": [],
     "prompt_number": 1
    },
    {
     "cell_type": "code",
     "collapsed": false,
     "input": [
      "import datetime\n",
      "\n",
      "import nltk\n",
      "import numpy as np\n",
      "import pandas as pd\n",
      "\n",
      "import matplotlib.pyplot as plt\n",
      "\n",
      "from scipy import interp\n",
      "\n",
      "from sklearn import dummy\n",
      "from sklearn import ensemble\n",
      "from sklearn import grid_search\n",
      "from sklearn import linear_model\n",
      "from sklearn import cross_validation\n",
      "from sklearn.pipeline import Pipeline, FeatureUnion\n",
      "from sklearn.base import TransformerMixin, BaseEstimator, ClassifierMixin\n",
      "from sklearn.metrics import roc_curve, auc\n",
      "from sklearn.feature_extraction.text import CountVectorizer, TfidfTransformer, TfidfVectorizer"
     ],
     "language": "python",
     "metadata": {},
     "outputs": [],
     "prompt_number": 35
    },
    {
     "cell_type": "markdown",
     "metadata": {},
     "source": [
      "I am reusing data collected for my previous post, so head on over [there](/posts/analysing-the-arxiv/) to learn hwo to download it. Here I am just restoring a `pandas` dataframe from a HDF5 file:"
     ]
    },
    {
     "cell_type": "code",
     "collapsed": false,
     "input": [
      "store = pd.HDFStore(\"/Users/thead/git/arxiv-experiments/hep-ex.h5\")\n",
      "#store['df'] = df\n",
      "df = store['df']\n",
      "store.close()"
     ],
     "language": "python",
     "metadata": {},
     "outputs": [],
     "prompt_number": 3
    },
    {
     "cell_type": "markdown",
     "metadata": {},
     "source": [
      "## What is interesting?\n",
      "\n",
      "The most important question is: what is an interesting article? This is a highly contentious question, if you ask five people to give you a definition you will probably get six or seven. To make life simple we will define interesting as being in the top 10% of all the articles collected here.\n",
      "\n",
      "Instead of predicting the total number of citations an article will receive over its lifetime. Instead we will use the number of citations a paper receives per day as a measure for interestingness.\n",
      "\n",
      "An interesting article will be one that receives more than $f$ citations per day. There is some arbitrariness as to how to set $f$. We will set it so that 10% of articles have above $f$ citations per day.\n",
      "\n",
      "Calculate the number of citations per day that an article receives and make a plot:"
     ]
    },
    {
     "cell_type": "code",
     "collapsed": false,
     "input": [
      "end_of_2014 = datetime.date(2014,12,31)\n",
      "df['cites_per_day'] = (df.citation_count /\n",
      "                       ((end_of_2014 - df.created).astype(int) / 1000000000 / (3600*24)))\n",
      "\n",
      "df.cites_per_day.hist(bins=100, range=(0,1.5),\n",
      "                      normed=True, log=True, histtype='step')\n",
      "plt.xlabel(\"Citations per day\")\n",
      "plt.ylabel(\"Arbitrary units\")"
     ],
     "language": "python",
     "metadata": {},
     "outputs": [
      {
       "metadata": {},
       "output_type": "pyout",
       "prompt_number": 56,
       "text": [
        "<matplotlib.text.Text at 0x112a54990>"
       ]
      },
      {
       "metadata": {},
       "output_type": "display_data",
       "png": "[encoded data removed]",
       "text": [
        "<matplotlib.figure.Figure at 0x11449de50>"
       ]
      }
     ],
     "prompt_number": 56
    },
    {
     "cell_type": "markdown",
     "metadata": {},
     "source": [
      "You can see this is a steeply falling distribution, even on a plot with the y axis in log-scale! To pick the cut off value we query the data frame for the 90% quantile and use that as a threshold."
     ]
    },
    {
     "cell_type": "code",
     "collapsed": false,
     "input": [
      "threshold = df.cites_per_day.quantile(0.9)\n",
      "df['Y'] = df.cites_per_day>threshold"
     ],
     "language": "python",
     "metadata": {},
     "outputs": [],
     "prompt_number": 6
    },
    {
     "cell_type": "code",
     "collapsed": false,
     "input": [
      "df.Y.value_counts(normalize=True)"
     ],
     "language": "python",
     "metadata": {},
     "outputs": [
      {
       "metadata": {},
       "output_type": "pyout",
       "prompt_number": 7,
       "text": [
        "False    0.900006\n",
        "True     0.099994\n",
        "dtype: float64"
       ]
      }
     ],
     "prompt_number": 7
    },
    {
     "cell_type": "markdown",
     "metadata": {},
     "source": [
      "As you can see, roughly 10% of entries are labelled `True` for interesting and the other 90% are labelled as `False`.\n",
      "\n",
      "## The test-train divide\n",
      "\n",
      "Next we define our pipeline for processing articles and feeding them to a classification algorithm. Beyond splitting the data set into a development and evaluation set, we also initialise some standard `sklearn` transformers to take a bunch of text and turn it into features for the classifier.\n",
      "\n",
      "The `ColumnExtractor` is a handy class for extracting a specific column from a `pandas` data frame. By using it we can feed a data frame into our pipeline and have different columns extracted from it along the way. We use it to extract the abstract of every article and the title, and then process them separately."
     ]
    },
    {
     "cell_type": "code",
     "collapsed": false,
     "input": [
      "class ColumnExtractor(BaseEstimator, TransformerMixin):\n",
      "    def __init__(self, column=0):\n",
      "        \"\"\"Extract a column from a pandas.DataFrame\n",
      "        \n",
      "        Use this transformer at the beginning of a\n",
      "        pipeline to extract the column of interest\n",
      "        from a data frame.\n",
      "        \"\"\"\n",
      "        self.column = column\n",
      "\n",
      "    def fit_transform(self, X, y=None, **kwargs):\n",
      "        self.fit(X, y, **kwargs)\n",
      "        return self.transform(X)\n",
      "\n",
      "    def transform(self, X, **kwargs):\n",
      "        return X[:,self.column]\n",
      "\n",
      "    def fit(self, X, y=None, **kwargs):\n",
      "        return self\n",
      "        \n",
      "\n",
      "X_dev, X_eval, y_dev, y_eval = cross_validation.train_test_split(df,\n",
      "                                                                 df.Y,\n",
      "                                                                 test_size=0.33,\n",
      "                                                                 random_state=78534)"
     ],
     "language": "python",
     "metadata": {},
     "outputs": []
    },
    {
     "cell_type": "markdown",
     "metadata": {},
     "source": [
      "## Feature Extraction\n",
      "\n",
      "The next question is what to use as features for our classifier. We want to make\n",
      "a prediction as soon as an article is published. This limits us to features\n",
      "which are available from the beginning: title, abstract, authors, full text, etc.\n",
      "I suspect that the citations of an article would be a good feature to use\n",
      "to deduce its interestingness, but unfortunately this information is\n",
      "only available after a few weeks or months when people have started\n",
      "citing the article.\n",
      "\n",
      "A standard approach for text classification is to tokenise the text\n",
      "and then transform it into a high dimensional vector. Each dimension\n",
      "of that vector represents one of the tokens in the input text. A quick\n",
      "demonstration on a bit of nonsense text:"
     ]
    },
    {
     "cell_type": "code",
     "collapsed": false,
     "input": [
      "train = [\"hello world world tiger bunny hopping\",\n",
      "         \"tiger world\"]\n",
      "test = [\"hello world world tiger tiger\",\n",
      "        \"bunny hopping camel\"]\n",
      "c = CountVectorizer()\n",
      "# learn this vocabulary, with 5 unique tokens\n",
      "# the vectorizer will produce a 5D vector when\n",
      "# transforming text\n",
      "c.fit(train)\n",
      "# this is the mapping of token to dimension\n",
      "print c.vocabulary_\n",
      "# tokenise new text and display the 5D vector\n",
      "c.transform(test).toarray()"
     ],
     "language": "python",
     "metadata": {},
     "outputs": [
      {
       "output_type": "stream",
       "stream": "stdout",
       "text": [
        "{u'tiger': 3, u'world': 4, u'hello': 1, u'hopping': 2, u'bunny': 0}\n"
       ]
      },
      {
       "metadata": {},
       "output_type": "pyout",
       "prompt_number": 103,
       "text": [
        "array([[0, 1, 0, 2, 2],\n",
        "       [1, 0, 1, 0, 0]])"
       ]
      }
     ],
     "prompt_number": 103
    },
    {
     "cell_type": "markdown",
     "metadata": {},
     "source": [
      "You can see how both bits of text are transformed into 5D vectors. Something\n",
      "to keep in mind: Words which were not part of the training set are simply dropped.\n",
      "\n",
      "The vectorizer by itself is not enough though, using the raw counts of each\n",
      "token has several problems including:\n",
      "\n",
      "* it does not take into account the overall length of a document\n",
      "* uninformative words like \"the\" or \"and\" which appear in every document\n",
      "  receive a very high count\n",
      "  \n",
      "Both of these are addressed by the second step of the pipeline which\n",
      "turns the raw counts into a \"term-frequency times inverse document-frequency\" vector.\n",
      "Term-frequencey is the count of a token divided by the total number\n",
      "of tokens in a document. Inverse document-frequency scales down tokens\n",
      "found in a large number of documents, thereby giving them less weight."
     ]
    },
    {
     "cell_type": "code",
     "collapsed": false,
     "input": [
      "t = TfidfTransformer()\n",
      "t.fit(c.transform(train))\n",
      "print t.transform(c.transform(test)).toarray()"
     ],
     "language": "python",
     "metadata": {},
     "outputs": [
      {
       "output_type": "stream",
       "stream": "stdout",
       "text": [
        "[[ 0.          0.44499628  0.          0.63323704  0.63323704]\n",
        " [ 0.70710678  0.          0.70710678  0.          0.        ]]\n"
       ]
      }
     ],
     "prompt_number": 89
    },
    {
     "cell_type": "markdown",
     "metadata": {},
     "source": [
      "ss\n",
      "\n",
      "## Feature Pipeline\n",
      "\n",
      "Let's assemble our complete pipeline. Both the title and abstract\n",
      "pipelines use bi-grams as tokens isntead of simple words, as\n",
      "well as a modified `token_pattern` which does not match\n",
      "numbers, only words."
     ]
    },
    {
     "cell_type": "code",
     "collapsed": false,
     "input": [
      "# pretty names for the dataframe column indices \n",
      "TITLE = 0\n",
      "ABSTRACT = 1\n",
      "\n",
      "# sub-pipeline for extracting the abstract\n",
      "vect = CountVectorizer(stop_words='english',\n",
      "                       token_pattern=u'(?u)\\\\b[A-z][A-z]+\\\\b')\n",
      "abstract_pipe = Pipeline([('abstracts', ColumnExtractor(ABSTRACT)),\n",
      "                          ('vect', vect),\n",
      "                          ('tfidf', TfidfTransformer())\n",
      "                          ])\n",
      "\n",
      "# sub-pipeline for extracting the title\n",
      "title_pipe = Pipeline([('title', ColumnExtractor(TITLE)),\n",
      "                       ('vect', CountVectorizer(stop_words='english',\n",
      "                                                token_pattern=u'(?u)\\\\b[A-z][A-z]+\\\\b')),\n",
      "                       ('tfidf', TfidfTransformer())\n",
      "                       ])\n",
      "# combined pipeline\n",
      "text_clf = Pipeline([('features', FeatureUnion([('abstract', abstract_pipe),\n",
      "                                                ('title', title_pipe)])),\n",
      "                     ('clf', linear_model.SGDClassifier())\n",
      "                     # use DummyClassifier to convince yourself we do better\n",
      "                     # than pure luck\n",
      "                     #('clf', dummy.DummyClassifier())\n",
      "                     ])"
     ],
     "language": "python",
     "metadata": {},
     "outputs": [],
     "prompt_number": 94
    },
    {
     "cell_type": "markdown",
     "metadata": {},
     "source": [
      "## Baseline\n",
      "\n",
      "Running the pipeline with all hyperparameters set to their default values establishes a baseline:"
     ]
    },
    {
     "cell_type": "code",
     "collapsed": false,
     "input": [
      "scores = cross_validation.cross_val_score(text_clf, X_dev, y_dev,\n",
      "                                          cv=3, scoring='roc_auc')\n",
      "scores"
     ],
     "language": "python",
     "metadata": {},
     "outputs": [
      {
       "metadata": {},
       "output_type": "pyout",
       "prompt_number": 95,
       "text": [
        "array([ 0.79032066,  0.77259801,  0.76336835])"
       ]
      }
     ],
     "prompt_number": 95
    },
    {
     "cell_type": "markdown",
     "metadata": {},
     "source": [
      "Using the area under the ROC curve as performance metric we get to around 0.78 or so.\n",
      "\n",
      "By grid searching the hyperparameter space we can improve this a bit. This takes quite\n",
      "a bit of time to run, so skip ahead a few cells to get the parameter set which I found\n",
      "to perform best."
     ]
    },
    {
     "cell_type": "code",
     "collapsed": false,
     "input": [
      "parameters = {\n",
      "    'features__title__vect__max_df': (0.25, 0.5, 0.75, 1.0), #1.0 is best it seems\n",
      "    #'features__title__vect__min_df': (0.0, 0.25, 0.5, 0.75), #0.0 seems best\n",
      "    ##'vect__max_features': (None, 5000, 10000, 50000), #no limit wins\n",
      "    #'features__abstract__vect__ngram_range': ((1, 1), (1, 2)),  # unigrams or bigrams, bigrams win\n",
      "    'features__title__vect__ngram_range': ((1, 1), (1, 2)),  # unigrams or bigrams,\n",
      "    ##'tfidf__use_idf': (True, False),\n",
      "    ##'tfidf__norm': ('l1', 'l2'),\n",
      "    #'clf__loss': ('hinge', 'log',), #log wins\n",
      "    #'clf__alpha': (1e-4, 1e-5, 1e-6, 1e-7), #alpha 1e-5\n",
      "    ##'clf__penalty': ('l1', 'l2', 'elasticnet'), #l2\n",
      "    ##'clf__n_iter': (10, 50, 80),\n",
      "}"
     ],
     "language": "python",
     "metadata": {},
     "outputs": [],
     "prompt_number": 20
    },
    {
     "cell_type": "code",
     "collapsed": false,
     "input": [
      "grid = grid_search.GridSearchCV(text_clf, parameters,\n",
      "                                n_jobs=-1, #verbose=1,\n",
      "                                scoring='roc_auc')\n",
      "grid.fit(X_dev, y_dev)\n",
      "\n",
      "print(\"Best score: %0.3f\"%grid.best_score_)\n",
      "print(\"Best parameters set:\")\n",
      "best_parameters = grid.best_estimator_.get_params()\n",
      "for param_name in sorted(parameters.keys()):\n",
      "    print(\"\\t%s: %r\"%(param_name, best_parameters[param_name]))"
     ],
     "language": "python",
     "metadata": {},
     "outputs": []
    },
    {
     "cell_type": "markdown",
     "metadata": {},
     "source": [
      "## Grid Search Results\n",
      "\n",
      "This is the best set of parameters I found by grid searching the hyperparameter space. To get an unbiased estimated of the performance we evaluate it on the so far unseen \"evaluation\" set.\n",
      "Investing a few hours of computing time to find these parameters was only marginally\n",
      "successful as the performance is only slightly better than the default set."
     ]
    },
    {
     "cell_type": "code",
     "collapsed": false,
     "input": [
      "best_parameters = {'clf__alpha': 1e-05,\n",
      "                   'clf__class_weight': 'auto',\n",
      "                   'clf__penalty': 'l2',\n",
      "                   'clf__loss': 'log',\n",
      "                   'features__abstract__vect__ngram_range': (1, 2),\n",
      "                   'features__title__vect__ngram_range': (1, 2),\n",
      "                   'features__title__vect__max_df': 0.25,\n",
      "                   }\n",
      "\n",
      "text_clf.set_params(**best_parameters)\n",
      "scores = cross_validation.cross_val_score(text_clf, X_eval, y_eval,\n",
      "                                          cv=3, scoring='roc_auc')\n",
      "scores"
     ],
     "language": "python",
     "metadata": {},
     "outputs": [
      {
       "metadata": {},
       "output_type": "pyout",
       "prompt_number": 96,
       "text": [
        "array([ 0.79639601,  0.76458273,  0.82185392])"
       ]
      }
     ],
     "prompt_number": 96
    },
    {
     "cell_type": "markdown",
     "metadata": {},
     "source": [
      "A more detailed way to look at the performance is to plot the ROC curve directly:"
     ]
    },
    {
     "cell_type": "code",
     "collapsed": false,
     "input": [
      "cv = cross_validation.StratifiedKFold(y_dev, n_folds=3)\n",
      "\n",
      "for i, (train, test) in enumerate(cv):\n",
      "    probas_ = text_clf.fit(X_dev[train], y_dev[train]).predict_proba(X_dev[test])\n",
      "    # Compute ROC curve and area under the curve\n",
      "    fpr, tpr, thresholds = roc_curve(y_dev[test], probas_[:, 1])\n",
      "    roc_auc = auc(fpr, tpr)\n",
      "    plt.plot(fpr, tpr, lw=1, label='ROC fold %d (area = %0.2f)'%(i, roc_auc))\n",
      "\n",
      "plt.plot([0, 1], [0, 1], '--', color=(0.6, 0.6, 0.6), label='Luck')\n",
      "plt.xlim([-0.05, 1.05])\n",
      "plt.ylim([-0.05, 1.05])\n",
      "plt.xlabel('False Positive Rate')\n",
      "plt.ylabel('True Positive Rate')\n",
      "plt.title('Receiver operating characteristic')\n",
      "plt.legend(loc=\"lower right\")\n",
      "plt.grid()\n",
      "plt.show()"
     ],
     "language": "python",
     "metadata": {},
     "outputs": [
      {
       "metadata": {},
       "output_type": "display_data",
       "png": "[encoded data removed]",
       "text": [
        "<matplotlib.figure.Figure at 0x11007f510>"
       ]
      }
     ],
     "prompt_number": 97
    },
    {
     "cell_type": "markdown",
     "metadata": {},
     "source": [
      "## Nice!\n",
      "\n",
      "We built a simple pipeline which can tell the difference between an interesting and a boring article posted to the arXiv using nothing more than the title and the abstract.\n",
      "\n",
      "One thing to keep in mind though is that the number of boring articles is much, much larger than\n",
      "the number of interesting ones. This means if you tuned the decision threshold to have a false positive rate of 0.2 and a true-positive rate of 0.7 you would still get many more uninteresting articles than interesting ones. This goes by the name of [Base rate fallacy](//en.wikipedia.org/wiki/Base_rate_fallacy).\n",
      "\n",
      "If you receive 100 articles, then around 90 of them will be boring and the other ten will be interesting. Applying our classifier to these 100 articles it will classify about 25 as interesting, of which about seven will actually be interesting:"
     ]
    },
    {
     "cell_type": "code",
     "collapsed": false,
     "input": [
      "fake = 90*0.2\n",
      "real = 10*0.7\n",
      "print \"true positives: {} false positives: {}\".format(real, fake)\n",
      "print \"Chance of reading something interesting: {}\".format(real/(fake+real))"
     ],
     "language": "python",
     "metadata": {},
     "outputs": [
      {
       "output_type": "stream",
       "stream": "stdout",
       "text": [
        "true positives: 7.0 false positives: 18.0\n",
        "Chance of reading something interesting: 0.28\n"
       ]
      }
     ],
     "prompt_number": 101
    },
    {
     "cell_type": "markdown",
     "metadata": {},
     "source": [
      "While a 28% chance of reading something interesting is not amazing, it is about three times higher than if you look at every article that comes your way. This iquite nice for such a simple approach using only the abstract and title. To improve on this we could get hold of the list of authors for an article. By itself this should improve the performance. You could be even more ambitious and look at the interestingness of past articles written by the authors and make use of that as a feature.\n",
      "\n",
      "Happy reading!"
     ]
    }
   ],
   "metadata": {}
  }
 ]
}