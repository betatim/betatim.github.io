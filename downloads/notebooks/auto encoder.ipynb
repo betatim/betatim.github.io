{
 "metadata": {
  "name": "",
  "signature": "sha256:50c27a251c613e8f26b659910e4a0feaf8a1109ad65bdc689b0b80b4b4fe38cb"
 },
 "nbformat": 3,
 "nbformat_minor": 0,
 "worksheets": [
  {
   "cells": [
    {
     "cell_type": "code",
     "collapsed": false,
     "input": [
      "import os\n",
      "import sys\n",
      "import time\n",
      "\n",
      "import numpy\n",
      "\n",
      "import theano\n",
      "import theano.tensor as T\n",
      "from theano.tensor.shared_randomstreams import RandomStreams\n",
      "\n",
      "\n",
      "try:\n",
      "    import PIL.Image as Image\n",
      "except ImportError:\n",
      "    import Image"
     ],
     "language": "python",
     "metadata": {},
     "outputs": [
      {
       "output_type": "stream",
       "stream": "stderr",
       "text": [
        "Using gpu device 0: GeForce GT 750M\n"
       ]
      }
     ],
     "prompt_number": 1
    },
    {
     "cell_type": "code",
     "collapsed": false,
     "input": [
      "# loading the full sized MNIST images\n",
      "from sklearn.datasets import fetch_mldata\n",
      "digits = fetch_mldata('MNIST original', data_home='/tmp')"
     ],
     "language": "python",
     "metadata": {},
     "outputs": [],
     "prompt_number": 2
    },
    {
     "cell_type": "code",
     "collapsed": false,
     "input": [
      "from sklearn.utils import shuffle\n",
      "\n",
      "def shared_dataset(data_x, borrow=True):\n",
      "    \"\"\" Function that loads the dataset into shared variables\n",
      "\n",
      "    The reason we store our dataset in shared variables is to allow\n",
      "    Theano to copy it into the GPU memory (when code is run on GPU).\n",
      "    Since copying data into the GPU is slow, copying a minibatch everytime\n",
      "    is needed (the default behaviour if the data is not in a shared\n",
      "    variable) would lead to a large decrease in performance.\n",
      "    \"\"\"\n",
      "    shared_x = theano.shared(numpy.asarray(data_x,\n",
      "                                           dtype=theano.config.floatX),\n",
      "                             borrow=borrow)\n",
      "    # When storing data on the GPU it has to be stored as floats\n",
      "    # therefore we will store the labels as ``floatX`` as well\n",
      "    # (``shared_y`` does exactly that). But during our computations\n",
      "    # we need them as ints (we use labels as index, and if they are\n",
      "    # floats it doesn't make sense) therefore instead of returning\n",
      "    # ``shared_y`` we will have to cast it to int. This little hack\n",
      "    # lets ous get around this issue\n",
      "    return shared_x\n",
      "\n",
      "allX = digits.data/255.\n",
      "allX = shuffle(allX, random_state=346346)\n",
      "\n",
      "trX = allX[:20000]\n",
      "teX = allX[20000:20100]\n",
      "\n",
      "train_set_x = shared_dataset(trX)\n",
      "test_set_x = shared_dataset(teX)\n",
      "\n",
      "print len(allX), train_set_x.get_value().shape"
     ],
     "language": "python",
     "metadata": {},
     "outputs": [
      {
       "output_type": "stream",
       "stream": "stdout",
       "text": [
        "70000 (20000, 784)\n"
       ]
      }
     ],
     "prompt_number": 40
    },
    {
     "cell_type": "code",
     "collapsed": false,
     "input": [
      "def scale_to_unit_interval(ndar, eps=1e-8):\n",
      "    \"\"\" Scales all values in the ndarray ndar to be between 0 and 1 \"\"\"\n",
      "    ndar = ndar.copy()\n",
      "    ndar -= ndar.min()\n",
      "    ndar *= 1.0 / (ndar.max() + eps)\n",
      "    return ndar\n",
      "\n",
      "\n",
      "def tile_raster_images(X, img_shape, tile_shape, tile_spacing=(0, 0),\n",
      "                       scale_rows_to_unit_interval=True,\n",
      "                       output_pixel_vals=True):\n",
      "    \"\"\"\n",
      "    Transform an array with one flattened image per row, into an array in\n",
      "    which images are reshaped and layed out like tiles on a floor.\n",
      "\n",
      "    This function is useful for visualizing datasets whose rows are images,\n",
      "    and also columns of matrices for transforming those rows\n",
      "    (such as the first layer of a neural net).\n",
      "\n",
      "    :type X: a 2-D ndarray or a tuple of 4 channels, elements of which can\n",
      "    be 2-D ndarrays or None;\n",
      "    :param X: a 2-D array in which every row is a flattened image.\n",
      "\n",
      "    :type img_shape: tuple; (height, width)\n",
      "    :param img_shape: the original shape of each image\n",
      "\n",
      "    :type tile_shape: tuple; (rows, cols)\n",
      "    :param tile_shape: the number of images to tile (rows, cols)\n",
      "\n",
      "    :param output_pixel_vals: if output should be pixel values (i.e. int8\n",
      "    values) or floats\n",
      "\n",
      "    :param scale_rows_to_unit_interval: if the values need to be scaled before\n",
      "    being plotted to [0,1] or not\n",
      "\n",
      "\n",
      "    :returns: array suitable for viewing as an image.\n",
      "    (See:`Image.fromarray`.)\n",
      "    :rtype: a 2-d array with same dtype as X.\n",
      "\n",
      "    \"\"\"\n",
      "\n",
      "    assert len(img_shape) == 2\n",
      "    assert len(tile_shape) == 2\n",
      "    assert len(tile_spacing) == 2\n",
      "\n",
      "    # The expression below can be re-written in a more C style as\n",
      "    # follows :\n",
      "    #\n",
      "    # out_shape    = [0,0]\n",
      "    # out_shape[0] = (img_shape[0]+tile_spacing[0])*tile_shape[0] -\n",
      "    #                tile_spacing[0]\n",
      "    # out_shape[1] = (img_shape[1]+tile_spacing[1])*tile_shape[1] -\n",
      "    #                tile_spacing[1]\n",
      "    out_shape = [\n",
      "        (ishp + tsp) * tshp - tsp\n",
      "        for ishp, tshp, tsp in zip(img_shape, tile_shape, tile_spacing)\n",
      "    ]\n",
      "\n",
      "    if isinstance(X, tuple):\n",
      "        assert len(X) == 4\n",
      "        # Create an output numpy ndarray to store the image\n",
      "        if output_pixel_vals:\n",
      "            out_array = numpy.zeros((out_shape[0], out_shape[1], 4),\n",
      "                                    dtype='uint8')\n",
      "        else:\n",
      "            out_array = numpy.zeros((out_shape[0], out_shape[1], 4),\n",
      "                                    dtype=X.dtype)\n",
      "\n",
      "        #colors default to 0, alpha defaults to 1 (opaque)\n",
      "        if output_pixel_vals:\n",
      "            channel_defaults = [0, 0, 0, 255]\n",
      "        else:\n",
      "            channel_defaults = [0., 0., 0., 1.]\n",
      "\n",
      "        for i in xrange(4):\n",
      "            if X[i] is None:\n",
      "                # if channel is None, fill it with zeros of the correct\n",
      "                # dtype\n",
      "                dt = out_array.dtype\n",
      "                if output_pixel_vals:\n",
      "                    dt = 'uint8'\n",
      "                out_array[:, :, i] = numpy.zeros(\n",
      "                    out_shape,\n",
      "                    dtype=dt\n",
      "                ) + channel_defaults[i]\n",
      "            else:\n",
      "                # use a recurrent call to compute the channel and store it\n",
      "                # in the output\n",
      "                out_array[:, :, i] = tile_raster_images(\n",
      "                    X[i], img_shape, tile_shape, tile_spacing,\n",
      "                    scale_rows_to_unit_interval, output_pixel_vals)\n",
      "        return out_array\n",
      "\n",
      "    else:\n",
      "        # if we are dealing with only one channel\n",
      "        H, W = img_shape\n",
      "        Hs, Ws = tile_spacing\n",
      "\n",
      "        # generate a matrix to store the output\n",
      "        dt = X.dtype\n",
      "        if output_pixel_vals:\n",
      "            dt = 'uint8'\n",
      "        out_array = numpy.zeros(out_shape, dtype=dt)\n",
      "\n",
      "        for tile_row in xrange(tile_shape[0]):\n",
      "            for tile_col in xrange(tile_shape[1]):\n",
      "                if tile_row * tile_shape[1] + tile_col < X.shape[0]:\n",
      "                    this_x = X[tile_row * tile_shape[1] + tile_col]\n",
      "                    if scale_rows_to_unit_interval:\n",
      "                        # if we should scale values to be between 0 and 1\n",
      "                        # do this by calling the `scale_to_unit_interval`\n",
      "                        # function\n",
      "                        this_img = scale_to_unit_interval(\n",
      "                            this_x.reshape(img_shape))\n",
      "                    else:\n",
      "                        this_img = this_x.reshape(img_shape)\n",
      "                    # add the slice to the corresponding position in the\n",
      "                    # output array\n",
      "                    c = 1\n",
      "                    if output_pixel_vals:\n",
      "                        c = 255\n",
      "                    out_array[\n",
      "                        tile_row * (H + Hs): tile_row * (H + Hs) + H,\n",
      "                        tile_col * (W + Ws): tile_col * (W + Ws) + W\n",
      "                    ] = this_img * c\n",
      "        return out_array"
     ],
     "language": "python",
     "metadata": {},
     "outputs": [],
     "prompt_number": 6
    },
    {
     "cell_type": "code",
     "collapsed": false,
     "input": [
      "class DenoisingAutoEncoder(object):\n",
      "    def __init__(self, numpy_rng, theano_rng=None, input=None,\n",
      "                 n_visible=784, n_hidden=500, W=None,\n",
      "                 bhid=None, bvis=None):\n",
      "        \"\"\"Denoising Auto-Encoder\"\"\"\n",
      "        self.n_visible = n_visible\n",
      "        self.n_hidden = n_hidden\n",
      "\n",
      "        # create a Theano random generator that gives symbolic random values\n",
      "        if theano_rng is None:\n",
      "            theano_rng = RandomStreams(numpy_rng.randint(2 ** 30))\n",
      "\n",
      "        # note : W' was written as `W_prime` and b' as `b_prime`\n",
      "        if W is None:\n",
      "            # W is initialized with `initial_W` which is uniformely sampled\n",
      "            # from -4*sqrt(6./(n_visible+n_hidden)) and\n",
      "            # 4*sqrt(6./(n_hidden+n_visible))the output of uniform if\n",
      "            # converted using asarray to dtype\n",
      "            # theano.config.floatX so that the code is runable on GPU\n",
      "            initial_W = numpy.asarray(\n",
      "                numpy_rng.uniform(\n",
      "                    low=-4 * numpy.sqrt(6. / (n_hidden + n_visible)),\n",
      "                    high=4 * numpy.sqrt(6. / (n_hidden + n_visible)),\n",
      "                    size=(n_visible, n_hidden)\n",
      "                ),\n",
      "                dtype=theano.config.floatX\n",
      "            )\n",
      "            W = theano.shared(value=initial_W, name='W', borrow=True)\n",
      "\n",
      "        if bvis is None:\n",
      "            bvis = theano.shared(\n",
      "                value=numpy.zeros(\n",
      "                    n_visible,\n",
      "                    dtype=theano.config.floatX\n",
      "                ),\n",
      "                borrow=True\n",
      "            )\n",
      "\n",
      "        if bhid is None:\n",
      "            bhid = theano.shared(\n",
      "                value=numpy.zeros(\n",
      "                    n_hidden,\n",
      "                    dtype=theano.config.floatX\n",
      "                ),\n",
      "                name='b',\n",
      "                borrow=True\n",
      "            )\n",
      "\n",
      "        self.W = W\n",
      "        self.b = bhid # hidden layer bias\n",
      "        self.b_prime = bvis # visible/output layer bias\n",
      "        # tied weights, therefore W_prime is W transpose\n",
      "        self.W_prime = self.W.T\n",
      "        \n",
      "        self.theano_rng = theano_rng\n",
      "        \n",
      "        # if no input is given, generate a variable representing the input\n",
      "        if input is None:\n",
      "            # we use a matrix because we expect a minibatch of several\n",
      "            # examples, each example being a row\n",
      "            self.x = T.dmatrix(name='input')\n",
      "        else:\n",
      "            self.x = input\n",
      "\n",
      "        self.params = [self.W, self.b, self.b_prime]\n",
      "        \n",
      "    def get_corrupted_input(self, input, corruption_level):\n",
      "        \"\"\"This function keeps ``1-corruption_level`` entries of the inputs the\n",
      "        same and zero-out randomly selected subset of size ``coruption_level``\n",
      "        \"\"\"\n",
      "        return self.theano_rng.binomial(size=input.shape, n=1,\n",
      "                                        p=1 - corruption_level,\n",
      "                                        dtype=theano.config.floatX) * input\n",
      "\n",
      "    def get_hidden_values(self, input):\n",
      "        \"\"\" Computes the values of the hidden layer \"\"\"\n",
      "        return T.nnet.sigmoid(T.dot(input, self.W) + self.b)\n",
      "\n",
      "    def get_reconstructed_input(self, hidden):\n",
      "        \"\"\"Computes the reconstructed input given the values of the\n",
      "        hidden layer\n",
      "\n",
      "        \"\"\"\n",
      "        return T.nnet.sigmoid(T.dot(hidden, self.W_prime) + self.b_prime)\n",
      "\n",
      "    def get_evaluator(self):\n",
      "        tilde_x = self.get_corrupted_input(self.x, 0.0)\n",
      "        y = self.get_hidden_values(tilde_x)\n",
      "        z = self.get_reconstructed_input(y)\n",
      "        return z\n",
      "    \n",
      "    def get_cost_updates(self, corruption_level, learning_rate):\n",
      "        \"\"\" This function computes the cost and the updates for one trainng\n",
      "        step of the dA \"\"\"\n",
      "\n",
      "        tilde_x = self.get_corrupted_input(self.x, corruption_level)\n",
      "        y = self.get_hidden_values(tilde_x)\n",
      "        z = self.get_reconstructed_input(y)\n",
      "        # note : we sum over the size of a datapoint; if we are using\n",
      "        #        minibatches, L will be a vector, with one entry per\n",
      "        #        example in minibatch\n",
      "        L = - T.sum(self.x * T.log(z) + (1 - self.x) * T.log(1 - z), axis=1)\n",
      "        # note : L is now a vector, where each element is the\n",
      "        #        cross-entropy cost of the reconstruction of the\n",
      "        #        corresponding example of the minibatch. We need to\n",
      "        #        compute the average of all these to get the cost of\n",
      "        #        the minibatch\n",
      "        cost = T.mean(L)\n",
      "\n",
      "        # compute the gradients of the cost of the `dA` with respect\n",
      "        # to its parameters\n",
      "        gparams = T.grad(cost, self.params)\n",
      "        # generate the list of updates\n",
      "        updates = [\n",
      "            (param, param - learning_rate * gparam)\n",
      "            for param, gparam in zip(self.params, gparams)\n",
      "        ]\n",
      "\n",
      "        return (cost, updates)"
     ],
     "language": "python",
     "metadata": {},
     "outputs": [],
     "prompt_number": 24
    },
    {
     "cell_type": "code",
     "collapsed": false,
     "input": [
      "def test_dA(learning_rate=0.1, training_epochs=15,\n",
      "            batch_size=20, output_folder='/tmp/dA_plots',\n",
      "            corruption=0.):\n",
      "    \"\"\"This demo is tested on MNIST\"\"\"\n",
      "    # compute number of minibatches for training, validation and testing\n",
      "    n_train_batches = train_set_x.get_value(borrow=True).shape[0] / batch_size\n",
      "\n",
      "    # allocate symbolic variables for the data\n",
      "    index = T.lscalar()    # index to a [mini]batch\n",
      "    x = T.matrix('x')  # the data is presented as rasterized images\n",
      "    \n",
      "    ####################################\n",
      "    # BUILDING THE MODEL NO CORRUPTION #\n",
      "    ####################################\n",
      "\n",
      "    rng = numpy.random.RandomState(123)\n",
      "    theano_rng = RandomStreams(rng.randint(2 ** 30))\n",
      "\n",
      "    da = DenoisingAutoEncoder(\n",
      "        numpy_rng=rng,\n",
      "        theano_rng=theano_rng,\n",
      "        input=x,\n",
      "        n_visible=28 * 28,\n",
      "        n_hidden=500\n",
      "    )\n",
      "\n",
      "    cost, updates = da.get_cost_updates(\n",
      "        corruption_level=corruption,\n",
      "        learning_rate=learning_rate\n",
      "    )\n",
      "\n",
      "    train_da = theano.function(\n",
      "        [index],\n",
      "        cost,\n",
      "        updates=updates,\n",
      "        givens={\n",
      "            x: train_set_x[index * batch_size: (index + 1) * batch_size]\n",
      "        }\n",
      "    )\n",
      "\n",
      "    start_time = time.clock()\n",
      "\n",
      "    ############\n",
      "    # TRAINING #\n",
      "    ############\n",
      "\n",
      "    # go through training epochs\n",
      "    for epoch in xrange(training_epochs):\n",
      "        c = []\n",
      "        for batch_index in xrange(n_train_batches):\n",
      "            c.append(train_da(batch_index))\n",
      "\n",
      "        print 'Training epoch %d, cost ' % epoch, numpy.mean(c)\n",
      "\n",
      "    end_time = time.clock()\n",
      "\n",
      "    training_time = (end_time - start_time)\n",
      "\n",
      "    print 'The %i%% corruption code ran for %.2fm'%(corruption*100,\n",
      "                                                    (training_time) / 60.)\n",
      "    image = Image.fromarray(\n",
      "        tile_raster_images(X=da.W.get_value(borrow=True).T,\n",
      "                           img_shape=(28, 28),\n",
      "                           tile_shape=(10, 10),\n",
      "                           tile_spacing=(1, 1)))\n",
      "    image.save('/tmp/filters_corruption_%i.pdf'%(corruption*100))\n",
      "    \n",
      "    return da"
     ],
     "language": "python",
     "metadata": {},
     "outputs": [],
     "prompt_number": 26
    },
    {
     "cell_type": "code",
     "collapsed": false,
     "input": [
      "ddd = test_dA()"
     ],
     "language": "python",
     "metadata": {},
     "outputs": [
      {
       "output_type": "stream",
       "stream": "stdout",
       "text": [
        "Training epoch 0, cost  69.7791\n",
        "Training epoch 1, cost "
       ]
      },
      {
       "output_type": "stream",
       "stream": "stdout",
       "text": [
        " 57.7479\n",
        "Training epoch 2, cost "
       ]
      },
      {
       "output_type": "stream",
       "stream": "stdout",
       "text": [
        " 55.5261\n",
        "Training epoch 3, cost "
       ]
      },
      {
       "output_type": "stream",
       "stream": "stdout",
       "text": [
        " 54.5434\n",
        "Training epoch 4, cost "
       ]
      },
      {
       "output_type": "stream",
       "stream": "stdout",
       "text": [
        " 53.971\n",
        "Training epoch 5, cost "
       ]
      },
      {
       "output_type": "stream",
       "stream": "stdout",
       "text": [
        " 53.5789\n",
        "Training epoch 6, cost "
       ]
      },
      {
       "output_type": "stream",
       "stream": "stdout",
       "text": [
        " 53.284\n",
        "Training epoch 7, cost "
       ]
      },
      {
       "output_type": "stream",
       "stream": "stdout",
       "text": [
        " 53.0487\n",
        "Training epoch 8, cost "
       ]
      },
      {
       "output_type": "stream",
       "stream": "stdout",
       "text": [
        " 52.8537\n",
        "Training epoch 9, cost "
       ]
      },
      {
       "output_type": "stream",
       "stream": "stdout",
       "text": [
        " 52.6873\n",
        "Training epoch 10, cost "
       ]
      },
      {
       "output_type": "stream",
       "stream": "stdout",
       "text": [
        " 52.5425\n",
        "Training epoch 11, cost "
       ]
      },
      {
       "output_type": "stream",
       "stream": "stdout",
       "text": [
        " 52.4146\n",
        "Training epoch 12, cost "
       ]
      },
      {
       "output_type": "stream",
       "stream": "stdout",
       "text": [
        " 52.3001\n",
        "Training epoch 13, cost "
       ]
      },
      {
       "output_type": "stream",
       "stream": "stdout",
       "text": [
        " 52.1967\n",
        "Training epoch 14, cost "
       ]
      },
      {
       "output_type": "stream",
       "stream": "stdout",
       "text": [
        " 52.1025\n",
        "The 0% corruption code ran for 0.79m\n"
       ]
      }
     ],
     "prompt_number": 27
    },
    {
     "cell_type": "code",
     "collapsed": false,
     "input": [
      "e = ddd.get_evaluator()\n",
      "eval_da = theano.function([], e, givens={ddd.x: test_set_x})\n",
      "k = eval_da()\n",
      "print k.shape\n",
      "print test_set_x.get_value().shape"
     ],
     "language": "python",
     "metadata": {},
     "outputs": [
      {
       "output_type": "stream",
       "stream": "stdout",
       "text": [
        "(10, 784)\n",
        "(10, 784)\n"
       ]
      }
     ],
     "prompt_number": 38
    },
    {
     "cell_type": "code",
     "collapsed": false,
     "input": [
      "image = Image.fromarray(\n",
      "        tile_raster_images(X=test_set_x.get_value(),\n",
      "                           img_shape=(28, 28),\n",
      "                           tile_shape=(10, 10),\n",
      "                           tile_spacing=(1, 1)))\n",
      "image.save('/tmp/input_00.pdf')\n",
      "\n",
      "image = Image.fromarray(\n",
      "        tile_raster_images(X=k,\n",
      "                           img_shape=(28, 28),\n",
      "                           tile_shape=(10, 10),\n",
      "                           tile_spacing=(1, 1)))\n",
      "image.save('/tmp/output_00.pdf')"
     ],
     "language": "python",
     "metadata": {},
     "outputs": [],
     "prompt_number": 39
    },
    {
     "cell_type": "code",
     "collapsed": false,
     "input": [
      "test_dA(corruption=0.15)"
     ],
     "language": "python",
     "metadata": {},
     "outputs": [
      {
       "output_type": "stream",
       "stream": "stdout",
       "text": [
        "Training epoch 0, cost  79.1326\n",
        "Training epoch 1, cost "
       ]
      },
      {
       "output_type": "stream",
       "stream": "stdout",
       "text": [
        " 67.8413\n",
        "Training epoch 2, cost "
       ]
      },
      {
       "output_type": "stream",
       "stream": "stdout",
       "text": [
        " 66.0529\n",
        "Training epoch 3, cost "
       ]
      },
      {
       "output_type": "stream",
       "stream": "stdout",
       "text": [
        " 65.0099\n",
        "Training epoch 4, cost "
       ]
      },
      {
       "output_type": "stream",
       "stream": "stdout",
       "text": [
        " 64.2852\n",
        "Training epoch 5, cost "
       ]
      },
      {
       "output_type": "stream",
       "stream": "stdout",
       "text": [
        " 63.6415\n",
        "Training epoch 6, cost "
       ]
      },
      {
       "output_type": "stream",
       "stream": "stdout",
       "text": [
        " 63.171\n",
        "Training epoch 7, cost "
       ]
      },
      {
       "output_type": "stream",
       "stream": "stdout",
       "text": [
        " 62.7061\n",
        "Training epoch 8, cost "
       ]
      },
      {
       "output_type": "stream",
       "stream": "stdout",
       "text": [
        " 62.2877\n",
        "Training epoch 9, cost "
       ]
      },
      {
       "output_type": "stream",
       "stream": "stdout",
       "text": [
        " 61.9746\n",
        "Training epoch 10, cost "
       ]
      },
      {
       "output_type": "stream",
       "stream": "stdout",
       "text": [
        " 61.5952\n",
        "Training epoch 11, cost "
       ]
      },
      {
       "output_type": "stream",
       "stream": "stdout",
       "text": [
        " 61.3886\n",
        "Training epoch 12, cost "
       ]
      },
      {
       "output_type": "stream",
       "stream": "stdout",
       "text": [
        " 61.1166\n",
        "Training epoch 13, cost "
       ]
      },
      {
       "output_type": "stream",
       "stream": "stdout",
       "text": [
        " 60.9089\n",
        "Training epoch 14, cost "
       ]
      },
      {
       "output_type": "stream",
       "stream": "stdout",
       "text": [
        " 60.6674\n",
        "The 15% corruption code ran for 0.91m\n"
       ]
      }
     ],
     "prompt_number": 21
    },
    {
     "cell_type": "code",
     "collapsed": false,
     "input": [
      "ddd30 = test_dA(corruption=0.3)\n",
      "\n",
      "e = ddd.get_evaluator()\n",
      "eval_da = theano.function([], e, givens={ddd.x: test_set_x})\n",
      "k = eval_da()\n",
      "\n",
      "image = Image.fromarray(\n",
      "        tile_raster_images(X=test_set_x.get_value(),\n",
      "                           img_shape=(28, 28),\n",
      "                           tile_shape=(10, 10),\n",
      "                           tile_spacing=(1, 1)))\n",
      "image.save('/tmp/input_30.pdf')\n",
      "\n",
      "image = Image.fromarray(\n",
      "        tile_raster_images(X=k,\n",
      "                           img_shape=(28, 28),\n",
      "                           tile_shape=(10, 10),\n",
      "                           tile_spacing=(1, 1)))\n",
      "image.save('/tmp/output_30.pdf')"
     ],
     "language": "python",
     "metadata": {},
     "outputs": [
      {
       "output_type": "stream",
       "stream": "stdout",
       "text": [
        "Training epoch 0, cost  88.0263\n",
        "Training epoch 1, cost "
       ]
      },
      {
       "output_type": "stream",
       "stream": "stdout",
       "text": [
        " 76.6871\n",
        "Training epoch 2, cost "
       ]
      },
      {
       "output_type": "stream",
       "stream": "stdout",
       "text": [
        " 74.3434\n",
        "Training epoch 3, cost "
       ]
      },
      {
       "output_type": "stream",
       "stream": "stdout",
       "text": [
        " 72.7235\n",
        "Training epoch 4, cost "
       ]
      },
      {
       "output_type": "stream",
       "stream": "stdout",
       "text": [
        " 71.5186\n",
        "Training epoch 5, cost "
       ]
      },
      {
       "output_type": "stream",
       "stream": "stdout",
       "text": [
        " 70.4602\n",
        "Training epoch 6, cost "
       ]
      },
      {
       "output_type": "stream",
       "stream": "stdout",
       "text": [
        " 69.7098\n",
        "Training epoch 7, cost "
       ]
      },
      {
       "output_type": "stream",
       "stream": "stdout",
       "text": [
        " 69.0433\n",
        "Training epoch 8, cost "
       ]
      },
      {
       "output_type": "stream",
       "stream": "stdout",
       "text": [
        " 68.4001\n",
        "Training epoch 9, cost "
       ]
      },
      {
       "output_type": "stream",
       "stream": "stdout",
       "text": [
        " 68.0077\n",
        "Training epoch 10, cost "
       ]
      },
      {
       "output_type": "stream",
       "stream": "stdout",
       "text": [
        " 67.6201\n",
        "Training epoch 11, cost "
       ]
      },
      {
       "output_type": "stream",
       "stream": "stdout",
       "text": [
        " 67.3187\n",
        "Training epoch 12, cost "
       ]
      },
      {
       "output_type": "stream",
       "stream": "stdout",
       "text": [
        " 67.0185\n",
        "Training epoch 13, cost "
       ]
      },
      {
       "output_type": "stream",
       "stream": "stdout",
       "text": [
        " 66.8023\n",
        "Training epoch 14, cost "
       ]
      },
      {
       "output_type": "stream",
       "stream": "stdout",
       "text": [
        " 66.5507\n",
        "The 30% corruption code ran for 0.87m\n"
       ]
      }
     ],
     "prompt_number": 41
    },
    {
     "cell_type": "code",
     "collapsed": false,
     "input": [
      "test_dA(corruption=0.5)"
     ],
     "language": "python",
     "metadata": {},
     "outputs": [
      {
       "output_type": "stream",
       "stream": "stdout",
       "text": [
        "Training epoch 0, cost  102.452\n",
        "Training epoch 1, cost "
       ]
      },
      {
       "output_type": "stream",
       "stream": "stdout",
       "text": [
        " 89.7431\n",
        "Training epoch 2, cost "
       ]
      },
      {
       "output_type": "stream",
       "stream": "stdout",
       "text": [
        " 86.4197\n",
        "Training epoch 3, cost "
       ]
      },
      {
       "output_type": "stream",
       "stream": "stdout",
       "text": [
        " 84.0294\n",
        "Training epoch 4, cost "
       ]
      },
      {
       "output_type": "stream",
       "stream": "stdout",
       "text": [
        " 82.3397\n",
        "Training epoch 5, cost "
       ]
      },
      {
       "output_type": "stream",
       "stream": "stdout",
       "text": [
        " 81.1292\n",
        "Training epoch 6, cost "
       ]
      },
      {
       "output_type": "stream",
       "stream": "stdout",
       "text": [
        " 80.2528\n",
        "Training epoch 7, cost "
       ]
      },
      {
       "output_type": "stream",
       "stream": "stdout",
       "text": [
        " 79.5089\n",
        "Training epoch 8, cost "
       ]
      },
      {
       "output_type": "stream",
       "stream": "stdout",
       "text": [
        " 78.8775\n",
        "Training epoch 9, cost "
       ]
      },
      {
       "output_type": "stream",
       "stream": "stdout",
       "text": [
        " 78.31\n",
        "Training epoch 10, cost "
       ]
      },
      {
       "output_type": "stream",
       "stream": "stdout",
       "text": [
        " 77.8568\n",
        "Training epoch 11, cost "
       ]
      },
      {
       "output_type": "stream",
       "stream": "stdout",
       "text": [
        " 77.4614\n",
        "Training epoch 12, cost "
       ]
      },
      {
       "output_type": "stream",
       "stream": "stdout",
       "text": [
        " 77.1835\n",
        "Training epoch 13, cost "
       ]
      },
      {
       "output_type": "stream",
       "stream": "stdout",
       "text": [
        " 76.8532\n",
        "Training epoch 14, cost "
       ]
      },
      {
       "output_type": "stream",
       "stream": "stdout",
       "text": [
        " 76.6437\n",
        "The 50% corruption code ran for 0.97m\n"
       ]
      }
     ],
     "prompt_number": 23
    },
    {
     "cell_type": "code",
     "collapsed": false,
     "input": [],
     "language": "python",
     "metadata": {},
     "outputs": []
    }
   ],
   "metadata": {}
  }
 ]
}