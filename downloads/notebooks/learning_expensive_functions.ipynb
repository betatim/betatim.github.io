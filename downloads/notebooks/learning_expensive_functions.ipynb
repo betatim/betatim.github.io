{
 "metadata": {
  "name": "",
  "signature": "sha256:040f993c806b48a8a4f1f7f6b8a4bffdf943dffd4944495ea7b7fd7ca405dea3"
 },
 "nbformat": 3,
 "nbformat_minor": 0,
 "worksheets": [
  {
   "cells": [
    {
     "cell_type": "markdown",
     "metadata": {},
     "source": [
      "# Learning Expensive Functions\n",
      "\n",
      "*This notebook first appeared as a [blog post](//betatim.github.io/posts/learning-expensive-functions) on [Tim Head](//betatim.github.io)'s blog.*\n",
      "\n",
      "*License: [MIT](http://opensource.org/licenses/MIT)*\n",
      "\n",
      "*(C) 2015, Tim Head.*\n",
      "*Feel free to use, distribute, and modify with the above attribution.*"
     ]
    },
    {
     "cell_type": "markdown",
     "metadata": {},
     "source": [
      "Powerful features (or variables) are often expensive to compute. Maybe they require a lot of CPU power to compute or require human interaction. As a result the size of the datasets for which the features are evaluated are smaller than they should be.\n",
      "\n",
      "This post explores a possible way around this. Regression algorithms can learn complex functions and are cheap to evaluate. The idea then is:\n",
      "\n",
      "* Train a regression algorithm on a small subset of the data for which all expensive features have been calculated\n",
      "* Use this algorithm to cheaply calculate the features for a much larger number of samples\n",
      "\n",
      "Here I demonstrate this approach using a feature called \"[Missing mass calculator](//arxiv.org/abs/1012.4686)\". It is used in searches for the [Higgs boson](//en.wikipedia.org/wiki/Higgs_boson) and takes about one minute to calculate per sample (or event). A minute per event! That does not sound much until you realise a typical analysis at the [LHC](//home.web.cern.ch/topics/large-hadron-collider) uses millions or even tens of millions of events.\n",
      "\n",
      "First some imports and loading the data:"
     ]
    },
    {
     "cell_type": "code",
     "collapsed": false,
     "input": [
      "%matplotlib inline"
     ],
     "language": "python",
     "metadata": {},
     "outputs": [],
     "prompt_number": 1
    },
    {
     "cell_type": "code",
     "collapsed": false,
     "input": [
      "from operator import itemgetter\n",
      "\n",
      "import numpy as np\n",
      "import pandas as pd\n",
      "import matplotlib.pyplot as plt\n",
      "\n",
      "import seaborn as sns\n",
      "\n",
      "import sklearn\n",
      "from sklearn.cross_validation import train_test_split\n",
      "from sklearn.cross_validation import StratifiedKFold, KFold\n",
      "from sklearn.grid_search import RandomizedSearchCV\n",
      "from scipy.stats import randint as sp_randint\n",
      "from scipy.stats import uniform as sp_uniform\n",
      "from sklearn.metrics import mean_squared_error\n",
      "from sklearn.ensemble import GradientBoostingRegressor, AdaBoostRegressor, RandomForestRegressor\n",
      "from sklearn.ensemble import BaggingRegressor\n",
      "from sklearn.tree import DecisionTreeRegressor"
     ],
     "language": "python",
     "metadata": {},
     "outputs": [],
     "prompt_number": 2
    },
    {
     "cell_type": "markdown",
     "metadata": {},
     "source": [
      "The HiggsML challenge dataset has been released to the public. It contains the Missing Mass Calculator (`MMC`) variable as a feature, let's try and see if we can learn to compute it with a regression model. This is an interesting challenge as the process to calculate the `MMC` feature is quite involved (good luck implementing it from [the description in the paper](//arxiv.org/abs/1012.4686) ...). Let's go!\n",
      "\n",
      "The next cell downloads the full dataset from CERN's opendata portal to your `/tmp` directory:"
     ]
    },
    {
     "cell_type": "code",
     "collapsed": false,
     "input": [
      "%%bash\n",
      "# Download the HiggsML dataset\n",
      "# details here: http://opendata.cern.ch/record/328\n",
      "wget --quiet -P /tmp/ http://opendata.cern.ch/record/328/files/atlas-higgs-challenge-2014-v2.csv.gz"
     ],
     "language": "python",
     "metadata": {},
     "outputs": [],
     "prompt_number": 3
    },
    {
     "cell_type": "markdown",
     "metadata": {},
     "source": [
      "Read it all in to a `pandas` `DataFrame`, directly from a compressed csv. We also print out the name of all the columns, the important part to notice is that there are several features which have nothing to do with `MMC` which we can use to predict it, as well as weights for each sample."
     ]
    },
    {
     "cell_type": "code",
     "collapsed": false,
     "input": [
      "df = pd.read_csv('/tmp/atlas-higgs-challenge-2014-v2.csv.gz',\n",
      "                 compression='gzip')\n",
      "\n",
      "# Print the name of all the colums\n",
      "print ', '.join(df.columns)"
     ],
     "language": "python",
     "metadata": {},
     "outputs": [
      {
       "output_type": "stream",
       "stream": "stdout",
       "text": [
        "EventId, DER_mass_MMC, DER_mass_transverse_met_lep, DER_mass_vis, DER_pt_h, DER_deltaeta_jet_jet, DER_mass_jet_jet, DER_prodeta_jet_jet, DER_deltar_tau_lep, DER_pt_tot, DER_sum_pt, DER_pt_ratio_lep_tau, DER_met_phi_centrality, DER_lep_eta_centrality, PRI_tau_pt, PRI_tau_eta, PRI_tau_phi, PRI_lep_pt, PRI_lep_eta, PRI_lep_phi, PRI_met, PRI_met_phi, PRI_met_sumet, PRI_jet_num, PRI_jet_leading_pt, PRI_jet_leading_eta, PRI_jet_leading_phi, PRI_jet_subleading_pt, PRI_jet_subleading_eta, PRI_jet_subleading_phi, PRI_jet_all_pt, Weight, Label, KaggleSet, KaggleWeight\n"
       ]
      }
     ],
     "prompt_number": 4
    },
    {
     "cell_type": "markdown",
     "metadata": {},
     "source": [
      "## An expensive feature\n",
      "\n",
      "Let's take a look at the feature we want to try and learn. The idea behind the \"Missing Mass Calculator\" is to construct a variable that distinguishes between events containing a Higgs and ones that do not. One way is to try and reconstruct the mass of the Higgs boson. In events with a Higgs that should give you something close to the Higgs mass (125 GeV) and different values for events without a Higgs in them.\n",
      "\n",
      "In the following plot background events (those which are not the Higgs) are shown in blue and events containing a Higgs boson are shown in red.\n",
      "\n",
      "First thing to notice is that the red distribution is multiplied by a factor of 100! This is just to make it visible. Otherwise events containing a Higgs are so rare they are impossible to see compared to the background.\n",
      "\n",
      "As expected the red distribution peaks around 125 GeV and the background peaks at lower values. The peak is also much broader."
     ]
    },
    {
     "cell_type": "code",
     "collapsed": false,
     "input": [
      "hist_opts = dict(alpha=0.5,\n",
      "                 bins=50,\n",
      "                 range=(0,300))\n",
      "signal = df.Label == 's'\n",
      "_=plt.hist(df.DER_mass_MMC[~signal].as_matrix(),\n",
      "           weights=df.Weight[~signal].as_matrix(),\n",
      "           label='Other stuff',\n",
      "           **hist_opts)\n",
      "_=plt.hist(df.DER_mass_MMC[signal],\n",
      "           weights=df.Weight[signal] * 100,\n",
      "           label='The Higgs * 100',\n",
      "           color='r',\n",
      "           **hist_opts)\n",
      "plt.legend(loc='best')"
     ],
     "language": "python",
     "metadata": {},
     "outputs": [
      {
       "metadata": {},
       "output_type": "pyout",
       "prompt_number": 5,
       "text": [
        "<matplotlib.legend.Legend at 0x10b0016d0>"
       ]
      },
      {
       "metadata": {},
       "output_type": "display_data",
       "png": "[encoded data removed]",
       "text": [
        "<matplotlib.figure.Figure at 0x10e85e090>"
       ]
      }
     ],
     "prompt_number": 5
    },
    {
     "cell_type": "markdown",
     "metadata": {},
     "source": [
      "## Data loading and the train-test split\n",
      "\n",
      "Next let's convert the data frame to a plain numpy arrays and separate the samples by whether they contain a Higgs boson or not."
     ]
    },
    {
     "cell_type": "code",
     "collapsed": false,
     "input": [
      "# Selecting the columns used to predict MMC\n",
      "columns = ['PRI_tau_pt', 'PRI_tau_eta', 'PRI_tau_phi',\n",
      "           'PRI_lep_pt', 'PRI_lep_eta', 'PRI_lep_phi',\n",
      "           'PRI_met', 'PRI_met_phi', 'PRI_met_sumet',\n",
      "           'PRI_jet_num', 'PRI_jet_leading_pt', 'PRI_jet_leading_eta',\n",
      "           'PRI_jet_leading_phi', 'PRI_jet_subleading_pt',\n",
      "           'PRI_jet_subleading_eta', 'PRI_jet_subleading_phi', 'PRI_jet_all_pt',\n",
      "           'DER_mass_transverse_met_lep', 'DER_mass_vis', 'DER_pt_h',\n",
      "           'DER_deltaeta_jet_jet', 'DER_mass_jet_jet',\n",
      "           'DER_prodeta_jet_jet', 'DER_deltar_tau_lep', 'DER_pt_tot',\n",
      "           'DER_sum_pt', 'DER_pt_ratio_lep_tau', 'DER_met_phi_centrality',\n",
      "           'DER_lep_eta_centrality'\n",
      "           ]\n",
      "\n",
      "# For some samples/events the MMC could not be calculated\n",
      "# they are marked with a value < -800\n",
      "# Split the data by whether the sample represents a Higgs (signal)\n",
      "# boson event or not (background)\n",
      "signal = df[(df.Label == 's') & (df.DER_mass_MMC > -800)]\n",
      "X = signal[columns]\n",
      "w = signal['Weight']\n",
      "MMC = signal['DER_mass_MMC']\n",
      "\n",
      "background = df[(df.Label == 'b') & (df.DER_mass_MMC > -800)]\n",
      "bg_X = background[columns]\n",
      "bg_w = background['Weight']\n",
      "bg_MMC = background['DER_mass_MMC']"
     ],
     "language": "python",
     "metadata": {},
     "outputs": [],
     "prompt_number": 27
    },
    {
     "cell_type": "markdown",
     "metadata": {},
     "source": [
      "Split signal and background into development and evaluation sets as well as the development set into a training and testing one. It is important to keep some events hidden from your model evaluation and selection procedure so you can evaluate the models true performance."
     ]
    },
    {
     "cell_type": "code",
     "collapsed": false,
     "input": [
      "# this looks more daunting than it has to be :-(\n",
      "X_dev,X_eval, w_dev,w_eval, MMC_dev,MMC_eval = train_test_split(X.as_matrix(),\n",
      "                                                                w.as_matrix(),\n",
      "                                                                MMC.as_matrix(),\n",
      "                                                                random_state=9548)\n",
      "\n",
      "bg_X_dev,bg_X_eval, bg_w_dev,bg_w_eval, bg_MMC_dev,bg_MMC_eval = train_test_split(bg_X.as_matrix(),\n",
      "                                                                                 bg_w.as_matrix(),\n",
      "                                                                                 bg_MMC.as_matrix(),\n",
      "                                                                                 random_state=958)\n",
      "\n",
      "X_train,X_test, w_train,w_test, MMC_train,MMC_test = train_test_split(X_dev, w_dev, MMC_dev,\n",
      "                                                                  random_state=2171)\n",
      "bg_X_train,bg_X_test, bg_MMC_train,bg_MMC_test, bg_w_train,bg_w_test = train_test_split(\n",
      "                                                              bg_X_dev, bg_MMC_dev, bg_w_dev,\n",
      "                                                              train_size=0.666, random_state=4685)"
     ],
     "language": "python",
     "metadata": {},
     "outputs": [],
     "prompt_number": 28
    },
    {
     "cell_type": "markdown",
     "metadata": {},
     "source": [
      "## Regression trees\n",
      "\n",
      "The plan is to train a regressor which given the input variables can predict the MMC feature for us. After some `GridSearchCV` I found the hyper-parameters used below. They work quite well but we could probably do even better if we spent more CPU time. (While the hyper-parameter optimisation is not shown here, we still have to split the data the same way as the performance evaluated on the test set is biased optimistically due to doing some fairly exhaustive searching.)"
     ]
    },
    {
     "cell_type": "code",
     "collapsed": false,
     "input": [
      "clf = GradientBoostingRegressor(n_estimators=2000,\n",
      "                                learning_rate=0.05,\n",
      "                                subsample=0.7296635812586656,\n",
      "                                max_features=0.5779758681446561,\n",
      "                                max_depth=5,\n",
      "                                loss='ls')\n",
      "\n",
      "clf.fit(X_train, MMC_train, w_train)"
     ],
     "language": "python",
     "metadata": {},
     "outputs": [
      {
       "metadata": {},
       "output_type": "pyout",
       "prompt_number": 29,
       "text": [
        "GradientBoostingRegressor(alpha=0.9, init=None, learning_rate=0.05, loss='ls',\n",
        "             max_depth=5, max_features=0.577975868145, max_leaf_nodes=None,\n",
        "             min_samples_leaf=1, min_samples_split=2,\n",
        "             min_weight_fraction_leaf=0.0, n_estimators=2000,\n",
        "             random_state=None, subsample=0.729663581259, verbose=0,\n",
        "             warm_start=False)"
       ]
      }
     ],
     "prompt_number": 29
    },
    {
     "cell_type": "markdown",
     "metadata": {},
     "source": [
      "Let's compare the MMC feature computed by the regression model with the true value. If we are doing a good job they should be pretty similar. Crucially we do not re-use samples used during the training to evaluate the performance."
     ]
    },
    {
     "cell_type": "code",
     "collapsed": false,
     "input": [
      "MMC_pred_train = clf.predict(X_train)\n",
      "MMC_pred_test = clf.predict(X_test)\n",
      "MMC_pred_eval = clf.predict(X_eval)\n",
      "\n",
      "bg_MMC_pred_test = clf.predict(bg_X_test)\n",
      "bg_MMC_pred_eval = clf.predict(bg_X_eval)\n",
      "\n",
      "print \"MSE on training set:\",\n",
      "print mean_squared_error(MMC_train, MMC_pred_train, w_train)\n",
      "print \"MSE on testing set:\",\n",
      "print mean_squared_error(MMC_test, MMC_pred_test, w_test)\n",
      "print \"MSE on evaluation set:\",\n",
      "print mean_squared_error(MMC_eval, MMC_pred_eval, w_eval)"
     ],
     "language": "python",
     "metadata": {},
     "outputs": [
      {
       "output_type": "stream",
       "stream": "stdout",
       "text": [
        "MSE on training set: 12.2873639683\n",
        "MSE on testing set: 26.276874694\n",
        "MSE on evaluation set: 34.3325667757\n"
       ]
      }
     ],
     "prompt_number": 30
    },
    {
     "cell_type": "markdown",
     "metadata": {},
     "source": [
      "As you can see the model performs much better on the training set than on the samples in the testing set. The most important point to note though is that the performance estimate you obtain from the test set is **also** optimistic. This is the result of the sum of testing and training being used during the optimisation of the hyper-parameters. This is why it is crucial to reserve a third set of samples which is only looked at after you fix all parameters. In our case it is `MMC_eval`.\n",
      "\n",
      "## Learned versus Original\n",
      "\n",
      "So, after all this, how well does our learned MMC regressor do? Let's compared the distribution of the MMC feature as computed the slow way and the learned MMC feature. By eye they look extremely similar, which is nice. This means you could use this approach of learning an expensive to calculate feature (or variable) and use that as a proxy which is much faster to evaluate."
     ]
    },
    {
     "cell_type": "code",
     "collapsed": false,
     "input": [
      "opts = dict(alpha=0.6, bins=50, range=(0,300))\n",
      "plt.hist(MMC_eval, weights=w_eval,\n",
      "         label=\"Original MMC\", **opts)\n",
      "plt.hist(MMC_pred_eval, weights=w_eval,\n",
      "         label=\"Learned MMC\", **opts)\n",
      "plt.xlabel(\"Missing Mass Calculator variable\")\n",
      "plt.legend(loc='best')\n",
      "plt.title(\"Signal events\")"
     ],
     "language": "python",
     "metadata": {},
     "outputs": [
      {
       "metadata": {},
       "output_type": "pyout",
       "prompt_number": 35,
       "text": [
        "<matplotlib.text.Text at 0x10f736dd0>"
       ]
      },
      {
       "metadata": {},
       "output_type": "display_data",
       "png": "[encoded data removed]",
       "text": [
        "<matplotlib.figure.Figure at 0x120be55d0>"
       ]
      }
     ],
     "prompt_number": 35
    },
    {
     "cell_type": "markdown",
     "metadata": {},
     "source": [
      "## Raising the bar\n",
      "\n",
      "Did our regression model learn anything useful? Maybe it just memorised how the input features are related to MMC, but otherwise gained no insight. Did you notice that we only used samples containing a Higgs boson so far? That was on purpose. It means not only do we have a large set of samples which where never used during model evaluation and selection, in addition these are quite different types of events.\n",
      "\n",
      "The next figure compares the original MMC feature with the regression model's calculation. The agreement is not as good as for the Higgs boson class but it does quite well."
     ]
    },
    {
     "cell_type": "code",
     "collapsed": false,
     "input": [
      "plt.hist(bg_MMC_eval, weights=bg_w_eval,\n",
      "         label=\"Original MMC\", **opts)\n",
      "plt.hist(bg_MMC_pred_eval, weights=bg_w_eval,\n",
      "         label=\"Learned MMC\", **opts)\n",
      "\n",
      "plt.xlabel(\"Missing Mass Calculator variable\")\n",
      "plt.legend(loc='best')\n",
      "plt.title(\"Background events\")"
     ],
     "language": "python",
     "metadata": {},
     "outputs": [
      {
       "metadata": {},
       "output_type": "pyout",
       "prompt_number": 36,
       "text": [
        "<matplotlib.text.Text at 0x112947650>"
       ]
      },
      {
       "metadata": {},
       "output_type": "display_data",
       "png": "[encoded data removed]",
       "text": [
        "<matplotlib.figure.Figure at 0x12146d490>"
       ]
      }
     ],
     "prompt_number": 36
    },
    {
     "cell_type": "markdown",
     "metadata": {},
     "source": [
      "While it is not absolute proof that the regression model actually learnt something about physics, the fact that it can compute the MMC feature even for a totally different class of samples does suggest that it learnt something.\n",
      "\n",
      "Another way of evaluating the performance is to plot the difference between the original MMC feature's value and the MMC value calculated by the regression model for each sample."
     ]
    },
    {
     "cell_type": "code",
     "collapsed": false,
     "input": [
      "def mean_and_std(values, weights):\n",
      "    average = np.average(values, weights=weights)\n",
      "    variance = np.average((values-average)**2, weights=weights)\n",
      "    return (average, np.sqrt(variance))\n",
      "\n",
      "delta = y_eval - MMC_pred_eval\n",
      "bg_delta = bg_y_eval - bg_MMC_pred_eval\n",
      "\n",
      "_=plt.hist(delta, weights=w_eval,\n",
      "           alpha=0.6,\n",
      "           bins=40, range=(-30,30),\n",
      "           label='$\\Delta$MMC for Signal',\n",
      "           normed=True)\n",
      "_=plt.hist(bg_delta, weights=bg_w_eval,\n",
      "           alpha=0.6,\n",
      "           bins=40, range=(-30,30),\n",
      "           label='$\\Delta$MMC for Background',\n",
      "           normed=True)\n",
      "\n",
      "plt.legend(loc='best')\n",
      "print mean_and_std(delta, weights=w_eval)\n",
      "print mean_and_std(bg_delta, weights=bg_w_eval)"
     ],
     "language": "python",
     "metadata": {},
     "outputs": [
      {
       "output_type": "stream",
       "stream": "stdout",
       "text": [
        "(-0.038939916353662653, 5.770798070300847)\n",
        "(-1.7394594313468719, 14.574445902019193)\n"
       ]
      },
      {
       "metadata": {},
       "output_type": "display_data",
       "png": "[encoded data removed]",
       "text": [
        "<matplotlib.figure.Figure at 0x12135d3d0>"
       ]
      }
     ],
     "prompt_number": 25
    },
    {
     "cell_type": "markdown",
     "metadata": {},
     "source": [
      "As you can see the spread between the original MMC feature and the learned one is quite small, around 6. Improtantly the average difference is basically zero. This means the regression model does not favour one value over another.\n",
      "\n",
      "Unsurprisingly the spread is larger for background events which are a different kind of beast all together compared to the ones we used during training.\n",
      "\n",
      "In a real world application you would use some background events and some signal events to train the regression model. This will improve the performance of the model on this class of events. Here I choose not to include them as I wanted to see how well the model does on events which are not only new but also quite different from the ones used during training.\n",
      "\n",
      "## The end\n",
      "\n",
      "Often the most powerful features in a dataset (for example for classifying Higgs events) are also the most expensive to compute in terms of CPU time or actual human time. Often this limits the number of samples in your dataset. Here I showed that you can get away with computing an expensive feature for a small subset of your events and then use a regression model to calculate it for a much larger number of samples.\n",
      "\n",
      "You can also apply this idea to the large, from first principle simulations of the LHCb, ATLAS and CMS detectors. These simulations use over half of the total CPU time of the LHC computing grid, so speeding them up has huge potential!\n",
      "\n",
      "As far as I know this has not really been used in particle physics so far, let me know if you know of other examples where it has been used!\n",
      "\n",
      "If you find a mistake or want to tell me something else get in touch on twitter @[betatim](//twitter.com/betatim)"
     ]
    }
   ],
   "metadata": {}
  }
 ]
}