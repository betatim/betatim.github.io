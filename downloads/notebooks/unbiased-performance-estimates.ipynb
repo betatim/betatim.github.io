{
 "cells": [
  {
   "cell_type": "markdown",
   "metadata": {},
   "source": [
    "# Unbiased performance estimates for your classifiers\n",
    "\n",
    "*This notebook first appeared as a [blog post](http://betatim.github.io/posts/unbiased-performance/) on [Tim Head](//betatim.github.io)'s blog.*\n",
    "\n",
    "*License: [MIT](http://opensource.org/licenses/MIT)*\n",
    "\n",
    "*(C) 2016, Tim Head.*\n",
    "*Feel free to use, distribute, and modify with the above attribution.*"
   ]
  },
  {
   "cell_type": "markdown",
   "metadata": {},
   "source": [
    "> This is an [interactive blog post](https://betatim.github.io/posts/really-interactive-posts/), you can modify and run the code directly from your browser. To\n",
    "> see any of the output you have to run each of the cells.\n",
    "\n",
    "In particle physics applications (like the [flavour of physics competition](https://www.kaggle.com/c/flavours-of-physics/) on kaggle) we often optimise\n",
    "the decision threshold of the classifier used to select events.\n",
    "\n",
    "Recently we discussed (once again) the question of how to optimise the\n",
    "decision threshold in an unbiased way. So I decided to build a small\n",
    "toy model to illustrate some points and make the discussion more concrete.\n",
    "\n",
    "What happens if you optimise this parameter via cross-validation and use\n",
    "the classifier performance estimated on each held-out subset as an estimate\n",
    "for the true performance?\n",
    "\n",
    "If you studied up on ML, then you know the answer: it will most likely be\n",
    "a optimistic estimate, not an unbiased one.\n",
    "\n",
    "Below some examples of optimising hyper-parameters on a dataset where the\n",
    "true performance is 0.5, aka there is no way to tell one class from the other.\n",
    "This is convenient because by knowing the true performance, we can evaluate\n",
    "whether or not our estimate is biased.\n",
    "\n",
    "After optimising some standard hyper-parameters we will build two meta-estimators\n",
    "that help with finding the best decision threshold via the normal `GridSearchCV`\n",
    "interface.\n",
    "\n",
    "To sweeten the deal, here a gif of Benedict Cumberbatch pretending to be unbiased:\n",
    "\n",
    "<img src=\"http://i.gifntext.com/35465-neutral-indifferent-unbiased-neutral.gif\" />"
   ]
  },
  {
   "cell_type": "code",
   "execution_count": 1,
   "metadata": {
    "collapsed": false
   },
   "outputs": [],
   "source": [
    "%config InlineBackend.figure_format='retina'\n",
    "%matplotlib inline"
   ]
  },
  {
   "cell_type": "code",
   "execution_count": 2,
   "metadata": {
    "collapsed": false
   },
   "outputs": [],
   "source": [
    "import numpy as np\n",
    "import scipy as sp\n",
    "import matplotlib.pyplot as plt\n",
    "\n",
    "from sklearn.base import BaseEstimator, TransformerMixin, ClassifierMixin, MetaEstimatorMixin\n",
    "from sklearn.ensemble import RandomForestClassifier\n",
    "from sklearn.cross_validation import train_test_split\n",
    "from sklearn.grid_search import GridSearchCV\n",
    "from sklearn.pipeline import make_pipeline\n",
    "from sklearn.tree import DecisionTreeClassifier\n",
    "from sklearn.utils import check_random_state"
   ]
  },
  {
   "cell_type": "markdown",
   "metadata": {},
   "source": [
    "## Uninformative data\n",
    "\n",
    "This data set uses a mix of gaussian and uniformly distributed features and assigns\n",
    "the class label purely at random. Therefore we know that the true accuracy of any\n",
    "classifier on this sample is 0.5.\n",
    "\n",
    "Conclude something from that Sherlock!"
   ]
  },
  {
   "cell_type": "code",
   "execution_count": 3,
   "metadata": {
    "collapsed": false
   },
   "outputs": [],
   "source": [
    "def data(N=1000, n_features=100, random_state=None):\n",
    "    rng = check_random_state(random_state)\n",
    "    gaussian_features = n_features//2\n",
    "\n",
    "    return (np.hstack([rng.normal(size=(N, gaussian_features)),\n",
    "                       rng.uniform(size=(N, n_features-gaussian_features))]),\n",
    "            np.array(rng.uniform(size=N)>0.5, dtype=int))"
   ]
  },
  {
   "cell_type": "code",
   "execution_count": 4,
   "metadata": {
    "collapsed": false
   },
   "outputs": [],
   "source": [
    "X, y = data(200, random_state=1)\n",
    "# set aside data for final (unbiased)performance evaluation\n",
    "X_train, X_test, y_train, y_test = train_test_split(X, y, test_size=0.4, random_state=1)"
   ]
  },
  {
   "cell_type": "markdown",
   "metadata": {},
   "source": [
    "## Hyper-parameters\n",
    "\n",
    "To kick things of, let's estimate a bunch of hyper-parameters for a typical random forest\n",
    "based model. We keep the testing data to the side for the moment and use only\n",
    "the training set. `GridSearchCV` will evaluate the performance of the classifier\n",
    "using three folds. "
   ]
  },
  {
   "cell_type": "code",
   "execution_count": 5,
   "metadata": {
    "collapsed": false
   },
   "outputs": [],
   "source": [
    "param_grid = {'max_depth': [1, 2, 5, 10, 20, 30, 40, 50],\n",
    "              'max_features': [4, 8, 16, 32, 64, 80, 100]}\n",
    "\n",
    "rf = RandomForestClassifier(random_state=94)\n",
    "grid = GridSearchCV(rf,\n",
    "                    param_grid=param_grid,\n",
    "                    n_jobs=6,\n",
    "                    verbose=0)"
   ]
  },
  {
   "cell_type": "code",
   "execution_count": 6,
   "metadata": {
    "collapsed": false
   },
   "outputs": [],
   "source": [
    "_ = grid.fit(X_train, y_train)"
   ]
  },
  {
   "cell_type": "markdown",
   "metadata": {},
   "source": [
    "The best parameters found and their score:"
   ]
  },
  {
   "cell_type": "code",
   "execution_count": 7,
   "metadata": {
    "collapsed": false
   },
   "outputs": [
    {
     "name": "stdout",
     "output_type": "stream",
     "text": [
      "Best score: 0.6167\n",
      "Best params: {'max_features': 64, 'max_depth': 2}\n",
      "Score on a totally fresh dataset: 0.5625\n"
     ]
    }
   ],
   "source": [
    "print(\"Best score: %.4f\"%grid.best_score_)\n",
    "print(\"Best params:\", grid.best_params_)\n",
    "print(\"Score on a totally fresh dataset:\", grid.score(X_test, y_test))"
   ]
  },
  {
   "cell_type": "markdown",
   "metadata": {},
   "source": [
    "The best accuracy we found is around 0.62 with `max_depth=1` and `max_features=8`.\n",
    "As we created the dataset with out any informative features we know that the true score\n",
    "of any classifier is 0.5. Therefore this is either a fluctuation (because we don't measure\n",
    "the score precisely enough) or the score from `GridSearchCV` is biased.\n",
    "\n",
    "You can also see that using a fresh, never seen before sample gives us an estimated\n",
    "accuracy of 0.56.\n",
    "\n",
    "\n",
    "## Bias or no bias?\n",
    "\n",
    "To test this whether the accuracy obtained from `GridSearchCV` is biased or just a\n",
    "fluke let's repeatedly grid-search for the best parameters and look\n",
    "at the average score. For this we generate a brand new dataset each time. The joys\n",
    "of having an infinite stream of data!"
   ]
  },
  {
   "cell_type": "code",
   "execution_count": 8,
   "metadata": {
    "collapsed": true
   },
   "outputs": [],
   "source": [
    "def grid_search(n, param_grid, clf=None):\n",
    "    X, y = data(120, random_state=0+n)\n",
    "    if clf is None:\n",
    "        clf = RandomForestClassifier(random_state=94+n)\n",
    "\n",
    "    grid = GridSearchCV(clf,\n",
    "                        param_grid=param_grid,\n",
    "                        n_jobs=6,\n",
    "                        verbose=0)\n",
    "    grid.fit(X, y)\n",
    "    return grid\n",
    "\n",
    "scores = [grid_search(n, param_grid).best_score_ for n in range(40)]"
   ]
  },
  {
   "cell_type": "code",
   "execution_count": 9,
   "metadata": {
    "collapsed": false
   },
   "outputs": [
    {
     "name": "stdout",
     "output_type": "stream",
     "text": [
      "Average score: 0.5781+-0.0057\n"
     ]
    },
    {
     "data": {
      "image/png": "[encoded data removed]",
      "text/plain": [
       "<matplotlib.figure.Figure at 0x10ff31ef0>"
      ]
     },
     "metadata": {
      "image/png": {
       "height": 270,
       "width": 391
      }
     },
     "output_type": "display_data"
    }
   ],
   "source": [
    "plt.hist(scores, range=(0.45,0.65), bins=15)\n",
    "plt.xlabel(\"Best score per grid search\")\n",
    "plt.ylabel(\"Count\")\n",
    "print(\"Average score: %.4f+-%.4f\" %(np.mean(scores), sp.stats.sem(scores)))"
   ]
  },
  {
   "cell_type": "markdown",
   "metadata": {},
   "source": [
    "As you can see all of the best scores we find are above 0.5 and the average score\n",
    "is close to 0.58, with a small uncertainty.\n",
    "\n",
    "Conclusion: the best score obtained during grid search is not an unbiased\n",
    "estimate of the true performance. Instead it is an optimistic estimate.\n",
    "\n",
    "## Threshold optimisation\n",
    "\n",
    "Next, let's see what happens if we use a different hyper-parameter: the threshold applied\n",
    "to decide which class a sample falls in during prediction time.\n",
    "\n",
    "For this to work in the `GridSearchCV` framework we construct two meta-estimators.\n",
    "\n",
    "The first one is a transformer. It transforms the features of a sample into the\n",
    "output of a classifier.\n",
    "\n",
    "The second one is a very simple classifier, it assigns samples to one of two classes\n",
    "based on a threshold.\n",
    "\n",
    "Combining them in a pipeline we can then use `GridSearchCV` to optimise the threshold\n",
    "as it if was any other hyper-parameter."
   ]
  },
  {
   "cell_type": "code",
   "execution_count": 10,
   "metadata": {
    "collapsed": false
   },
   "outputs": [],
   "source": [
    "class PredictionTransformer(BaseEstimator, TransformerMixin, MetaEstimatorMixin):\n",
    "    def __init__(self, clf):\n",
    "        \"\"\"Replaces all features with `clf.predict_proba(X)`\"\"\"\n",
    "        self.clf = clf\n",
    "    \n",
    "    def fit(self, X, y):\n",
    "        self.clf.fit(X, y)\n",
    "        return self\n",
    "    \n",
    "    def transform(self, X):\n",
    "        return self.clf.predict_proba(X)\n",
    "\n",
    "\n",
    "class ThresholdClassifier(BaseEstimator, ClassifierMixin):\n",
    "    def __init__(self, threshold=0.5):\n",
    "        \"\"\"Classify samples based on whether they are above of below `threshold`\"\"\"\n",
    "        self.threshold = threshold\n",
    "\n",
    "    def fit(self, X, y):\n",
    "        self.classes_ = np.unique(y)\n",
    "        return self\n",
    "    \n",
    "    def predict(self, X):\n",
    "        # the implementation used here breaks ties differently\n",
    "        # from the one used in RFs:\n",
    "        #return self.classes_.take(np.argmax(X, axis=1), axis=0)\n",
    "        return np.where(X[:, 0]>self.threshold, *self.classes_)"
   ]
  },
  {
   "cell_type": "markdown",
   "metadata": {},
   "source": [
    "With these two wrappers we can use `GridSearchCV` to find the 'optimal'\n",
    "threshold. We use a different parameter grid that only varies the\n",
    "classifier threshold. You can experiment with optimising all three\n",
    "hyper-parameters in one go if you want to by uncommenting the `max_depth`\n",
    "and `max_features` lines."
   ]
  },
  {
   "cell_type": "code",
   "execution_count": 11,
   "metadata": {
    "collapsed": false
   },
   "outputs": [
    {
     "name": "stdout",
     "output_type": "stream",
     "text": [
      "Average score: 0.5750+-0.0070\n"
     ]
    }
   ],
   "source": [
    "pipe = make_pipeline(PredictionTransformer(RandomForestClassifier()),\n",
    "                     ThresholdClassifier())\n",
    "\n",
    "pipe_param_grid = {#'predictiontransformer__clf__max_depth': [1, 2, 5, 10, 20, 30, 40, 50],\n",
    "                   #'predictiontransformer__clf__max_features': [8, 16, 32, 64, 80, 100],\n",
    "                   'thresholdclassifier__threshold': np.linspace(0, 1, num=100)}\n",
    "\n",
    "grids = [grid_search(n,\n",
    "                     clf=pipe,\n",
    "                     param_grid=pipe_param_grid) for n in range(10)]\n",
    "scores = [g.best_score_ for g in grids]\n",
    "print(\"Average score: %.4f+-%.4f\" %(np.mean(scores), sp.stats.sem(scores)))"
   ]
  },
  {
   "cell_type": "markdown",
   "metadata": {
    "collapsed": true
   },
   "source": [
    "As we expected the average score is larger than 0.5. This is why you should almost always\n",
    "use a completely fresh dataset to estimate the performance of your classifier.\n",
    "\n",
    "If you enjoyed this post, get in touch on twitter @[betatim](//twitter.com/betatim)."
   ]
  }
 ],
 "metadata": {
  "kernelspec": {
   "display_name": "Python 3",
   "language": "python",
   "name": "python3"
  },
  "language_info": {
   "codemirror_mode": {
    "name": "ipython",
    "version": 3
   },
   "file_extension": ".py",
   "mimetype": "text/x-python",
   "name": "python",
   "nbconvert_exporter": "python",
   "pygments_lexer": "ipython3",
   "version": "3.5.1"
  }
 },
 "nbformat": 4,
 "nbformat_minor": 0
}
